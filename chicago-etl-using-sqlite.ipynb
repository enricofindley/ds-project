{
 "cells": [
  {
   "cell_type": "markdown",
   "id": "ccbf20dd",
   "metadata": {
    "papermill": {
     "duration": 0.011037,
     "end_time": "2023-08-03T03:03:07.335817",
     "exception": false,
     "start_time": "2023-08-03T03:03:07.324780",
     "status": "completed"
    },
    "tags": []
   },
   "source": [
    "# Datasets\n",
    "\n",
    "We will be using three datasets that are available on the city of Chicago's Data Portal:\n",
    "\n",
    "1.  <a href=\"https://data.cityofchicago.org/Health-Human-Services/Census-Data-Selected-socioeconomic-indicators-in-C/kn9c-c2s2?utm_medium=Exinfluencer&utm_source=Exinfluencer&utm_content=000026UJ&utm_term=10006555&utm_id=NA-SkillsNetwork-Channel-SkillsNetworkCoursesIBMDeveloperSkillsNetworkDB0201ENSkillsNetwork20127838-2021-01-01\">Socioeconomic Indicators in Chicago</a>\n",
    "2.  <a href=\"https://data.cityofchicago.org/Education/Chicago-Public-Schools-Progress-Report-Cards-2011-/9xs2-f89t?utm_medium=Exinfluencer&utm_source=Exinfluencer&utm_content=000026UJ&utm_term=10006555&utm_id=NA-SkillsNetwork-Channel-SkillsNetworkCoursesIBMDeveloperSkillsNetworkDB0201ENSkillsNetwork20127838-2021-01-01\">Chicago Public Schools</a>\n",
    "3.  <a href=\"https://data.cityofchicago.org/Public-Safety/Crimes-2001-to-present/ijzp-q8t2?utm_medium=Exinfluencer&utm_source=Exinfluencer&utm_content=000026UJ&utm_term=10006555&utm_id=NA-SkillsNetwork-Channel-SkillsNetworkCoursesIBMDeveloperSkillsNetworkDB0201ENSkillsNetwork20127838-2021-01-01\">Chicago Crime Data</a>\n",
    "\n",
    "### 1. Socioeconomic Indicators in Chicago\n",
    "\n",
    "This dataset contains a selection of six socioeconomic indicators of public health significance and a “hardship index,” for each Chicago community area, for the years 2008 – 2012.\n",
    "\n",
    "A detailed description of this dataset and the original dataset can be obtained from the Chicago Data Portal at:\n",
    "[https://data.cityofchicago.org/Health-Human-Services/Census-Data-Selected-socioeconomic-indicators-in-C/kn9c-c2s2](https://data.cityofchicago.org/Health-Human-Services/Census-Data-Selected-socioeconomic-indicators-in-C/kn9c-c2s2?utm_medium=Exinfluencer&utm_source=Exinfluencer&utm_content=000026UJ&utm_term=10006555&utm_id=NA-SkillsNetwork-Channel-SkillsNetworkCoursesIBMDeveloperSkillsNetworkDB0201ENSkillsNetwork20127838-2021-01-01&cm_mmc=Email_Newsletter-_-Developer_Ed%2BTech-_-WW_WW-_-SkillsNetwork-Courses-IBMDeveloperSkillsNetwork-DB0201EN-SkillsNetwork-20127838&cm_mmca1=000026UJ&cm_mmca2=10006555&cm_mmca3=M12345678&cvosrc=email.Newsletter.M12345678&cvo_campaign=000026UJ)\n",
    "\n",
    "### 2. Chicago Public Schools\n",
    "\n",
    "This dataset shows all school level performance data used to create CPS School Report Cards for the 2011-2012 school year. This dataset is provided by the city of Chicago's Data Portal.\n",
    "\n",
    "A detailed description of this dataset and the original dataset can be obtained from the Chicago Data Portal at:\n",
    "[https://data.cityofchicago.org/Education/Chicago-Public-Schools-Progress-Report-Cards-2011-/9xs2-f89t](https://data.cityofchicago.org/Education/Chicago-Public-Schools-Progress-Report-Cards-2011-/9xs2-f89t?utm_medium=Exinfluencer&utm_source=Exinfluencer&utm_content=000026UJ&utm_term=10006555&utm_id=NA-SkillsNetwork-Channel-SkillsNetworkCoursesIBMDeveloperSkillsNetworkDB0201ENSkillsNetwork20127838-2021-01-01&cm_mmc=Email_Newsletter-_-Developer_Ed%2BTech-_-WW_WW-_-SkillsNetwork-Courses-IBMDeveloperSkillsNetwork-DB0201EN-SkillsNetwork-20127838&cm_mmca1=000026UJ&cm_mmca2=10006555&cm_mmca3=M12345678&cvosrc=email.Newsletter.M12345678&cvo_campaign=000026UJ)\n",
    "\n",
    "### 3. Chicago Crime Data\n",
    "\n",
    "This dataset reflects reported incidents of crime (with the exception of murders where data exists for each victim) that occurred in the City of Chicago from 2001 to present, minus the most recent seven days.\n",
    "\n",
    "A detailed description of this dataset and the original dataset can be obtained from the Chicago Data Portal at:\n",
    "[https://data.cityofchicago.org/Public-Safety/Crimes-2001-to-present/ijzp-q8t2](https://data.cityofchicago.org/Public-Safety/Crimes-2001-to-present/ijzp-q8t2?utm_medium=Exinfluencer&utm_source=Exinfluencer&utm_content=000026UJ&utm_term=10006555&utm_id=NA-SkillsNetwork-Channel-SkillsNetworkCoursesIBMDeveloperSkillsNetworkDB0201ENSkillsNetwork20127838-2021-01-01&cm_mmc=Email_Newsletter-_-Developer_Ed%2BTech-_-WW_WW-_-SkillsNetwork-Courses-IBMDeveloperSkillsNetwork-DB0201EN-SkillsNetwork-20127838&cm_mmca1=000026UJ&cm_mmca2=10006555&cm_mmca3=M12345678&cvosrc=email.Newsletter.M12345678&cvo_campaign=000026UJ)\n"
   ]
  },
  {
   "cell_type": "markdown",
   "id": "8cde8c49",
   "metadata": {
    "papermill": {
     "duration": 0.009907,
     "end_time": "2023-08-03T03:03:07.356182",
     "exception": false,
     "start_time": "2023-08-03T03:03:07.346275",
     "status": "completed"
    },
    "tags": []
   },
   "source": [
    "### Download the datasets\n",
    "\n",
    "This assignment requires you to have these three tables populated with a subset of the whole datasets.\n",
    "\n",
    "In many cases the dataset to be analyzed is available as a .CSV (comma separated values) file, perhaps on the internet. Click on the links below to download and save the datasets (.CSV files):\n",
    "\n",
    "*   <a href=\"https://cf-courses-data.s3.us.cloud-object-storage.appdomain.cloud/IBMDeveloperSkillsNetwork-DB0201EN-SkillsNetwork/labs/FinalModule_Coursera_V5/data/ChicagoCensusData.csv?utm_medium=Exinfluencer&utm_source=Exinfluencer&utm_content=000026UJ&utm_term=10006555&utm_id=NA-SkillsNetwork-Channel-SkillsNetworkCoursesIBMDeveloperSkillsNetworkDB0201ENSkillsNetwork20127838-2021-01-01\" target=\"_blank\">Chicago Census Data</a>\n",
    "\n",
    "*   <a href=\"https://cf-courses-data.s3.us.cloud-object-storage.appdomain.cloud/IBMDeveloperSkillsNetwork-DB0201EN-SkillsNetwork/labs/FinalModule_Coursera_V5/data/ChicagoPublicSchools.csv?utm_medium=Exinfluencer&utm_source=Exinfluencer&utm_content=000026UJ&utm_term=10006555&utm_id=NA-SkillsNetwork-Channel-SkillsNetworkCoursesIBMDeveloperSkillsNetworkDB0201ENSkillsNetwork20127838-2021-01-01\" target=\"_blank\">Chicago Public Schools</a>\n",
    "\n",
    "*   <a href=\"https://cf-courses-data.s3.us.cloud-object-storage.appdomain.cloud/IBMDeveloperSkillsNetwork-DB0201EN-SkillsNetwork/labs/FinalModule_Coursera_V5/data/ChicagoCrimeData.csv?utm_medium=Exinfluencer&utm_source=Exinfluencer&utm_content=000026UJ&utm_term=10006555&utm_id=NA-SkillsNetwork-Channel-SkillsNetworkCoursesIBMDeveloperSkillsNetworkDB0201ENSkillsNetwork20127838-2021-01-01\" target=\"_blank\">Chicago Crime Data</a>\n"
   ]
  },
  {
   "cell_type": "markdown",
   "id": "33dccab4",
   "metadata": {
    "papermill": {
     "duration": 0.009877,
     "end_time": "2023-08-03T03:03:07.376317",
     "exception": false,
     "start_time": "2023-08-03T03:03:07.366440",
     "status": "completed"
    },
    "tags": []
   },
   "source": [
    "# Importing Dependencies & Create SQLite"
   ]
  },
  {
   "cell_type": "code",
   "execution_count": 1,
   "id": "a9e92126",
   "metadata": {
    "execution": {
     "iopub.execute_input": "2023-08-03T03:03:07.398932Z",
     "iopub.status.busy": "2023-08-03T03:03:07.398468Z",
     "iopub.status.idle": "2023-08-03T03:03:35.993916Z",
     "shell.execute_reply": "2023-08-03T03:03:35.992269Z"
    },
    "papermill": {
     "duration": 28.610201,
     "end_time": "2023-08-03T03:03:35.996745",
     "exception": false,
     "start_time": "2023-08-03T03:03:07.386544",
     "status": "completed"
    },
    "tags": []
   },
   "outputs": [
    {
     "name": "stdout",
     "output_type": "stream",
     "text": [
      "Requirement already satisfied: ipython-sql in /opt/conda/lib/python3.10/site-packages (0.5.0)\r\n",
      "Requirement already satisfied: prettytable in /opt/conda/lib/python3.10/site-packages (from ipython-sql) (3.8.0)\r\n",
      "Requirement already satisfied: ipython in /opt/conda/lib/python3.10/site-packages (from ipython-sql) (8.14.0)\r\n",
      "Requirement already satisfied: sqlalchemy>=2.0 in /opt/conda/lib/python3.10/site-packages (from ipython-sql) (2.0.17)\r\n",
      "Requirement already satisfied: sqlparse in /opt/conda/lib/python3.10/site-packages (from ipython-sql) (0.4.4)\r\n",
      "Requirement already satisfied: six in /opt/conda/lib/python3.10/site-packages (from ipython-sql) (1.16.0)\r\n",
      "Requirement already satisfied: ipython-genutils in /opt/conda/lib/python3.10/site-packages (from ipython-sql) (0.2.0)\r\n",
      "Requirement already satisfied: typing-extensions>=4.2.0 in /opt/conda/lib/python3.10/site-packages (from sqlalchemy>=2.0->ipython-sql) (4.6.3)\r\n",
      "Requirement already satisfied: greenlet!=0.4.17 in /opt/conda/lib/python3.10/site-packages (from sqlalchemy>=2.0->ipython-sql) (2.0.2)\r\n",
      "Requirement already satisfied: backcall in /opt/conda/lib/python3.10/site-packages (from ipython->ipython-sql) (0.2.0)\r\n",
      "Requirement already satisfied: decorator in /opt/conda/lib/python3.10/site-packages (from ipython->ipython-sql) (5.1.1)\r\n",
      "Requirement already satisfied: jedi>=0.16 in /opt/conda/lib/python3.10/site-packages (from ipython->ipython-sql) (0.18.2)\r\n",
      "Requirement already satisfied: matplotlib-inline in /opt/conda/lib/python3.10/site-packages (from ipython->ipython-sql) (0.1.6)\r\n",
      "Requirement already satisfied: pickleshare in /opt/conda/lib/python3.10/site-packages (from ipython->ipython-sql) (0.7.5)\r\n",
      "Requirement already satisfied: prompt-toolkit!=3.0.37,<3.1.0,>=3.0.30 in /opt/conda/lib/python3.10/site-packages (from ipython->ipython-sql) (3.0.38)\r\n",
      "Requirement already satisfied: pygments>=2.4.0 in /opt/conda/lib/python3.10/site-packages (from ipython->ipython-sql) (2.15.1)\r\n",
      "Requirement already satisfied: stack-data in /opt/conda/lib/python3.10/site-packages (from ipython->ipython-sql) (0.6.2)\r\n",
      "Requirement already satisfied: traitlets>=5 in /opt/conda/lib/python3.10/site-packages (from ipython->ipython-sql) (5.9.0)\r\n",
      "Requirement already satisfied: pexpect>4.3 in /opt/conda/lib/python3.10/site-packages (from ipython->ipython-sql) (4.8.0)\r\n",
      "Requirement already satisfied: wcwidth in /opt/conda/lib/python3.10/site-packages (from prettytable->ipython-sql) (0.2.6)\r\n",
      "Requirement already satisfied: parso<0.9.0,>=0.8.0 in /opt/conda/lib/python3.10/site-packages (from jedi>=0.16->ipython->ipython-sql) (0.8.3)\r\n",
      "Requirement already satisfied: ptyprocess>=0.5 in /opt/conda/lib/python3.10/site-packages (from pexpect>4.3->ipython->ipython-sql) (0.7.0)\r\n",
      "Requirement already satisfied: executing>=1.2.0 in /opt/conda/lib/python3.10/site-packages (from stack-data->ipython->ipython-sql) (1.2.0)\r\n",
      "Requirement already satisfied: asttokens>=2.1.0 in /opt/conda/lib/python3.10/site-packages (from stack-data->ipython->ipython-sql) (2.2.1)\r\n",
      "Requirement already satisfied: pure-eval in /opt/conda/lib/python3.10/site-packages (from stack-data->ipython->ipython-sql) (0.2.2)\r\n",
      "Note: you may need to restart the kernel to use updated packages.\n",
      "The sql extension is already loaded. To reload it, use:\n",
      "  %reload_ext sql\n",
      "Requirement already satisfied: pandas in /opt/conda/lib/python3.10/site-packages (1.5.3)\r\n",
      "Requirement already satisfied: python-dateutil>=2.8.1 in /opt/conda/lib/python3.10/site-packages (from pandas) (2.8.2)\r\n",
      "Requirement already satisfied: pytz>=2020.1 in /opt/conda/lib/python3.10/site-packages (from pandas) (2023.3)\r\n",
      "Requirement already satisfied: numpy>=1.21.0 in /opt/conda/lib/python3.10/site-packages (from pandas) (1.23.5)\r\n",
      "Requirement already satisfied: six>=1.5 in /opt/conda/lib/python3.10/site-packages (from python-dateutil>=2.8.1->pandas) (1.16.0)\r\n",
      "Note: you may need to restart the kernel to use updated packages.\n"
     ]
    }
   ],
   "source": [
    "%pip install ipython-sql\n",
    "%load_ext sql\n",
    "%pip install pandas"
   ]
  },
  {
   "cell_type": "code",
   "execution_count": 2,
   "id": "f4c469de",
   "metadata": {
    "execution": {
     "iopub.execute_input": "2023-08-03T03:03:36.025828Z",
     "iopub.status.busy": "2023-08-03T03:03:36.025335Z",
     "iopub.status.idle": "2023-08-03T03:03:36.031857Z",
     "shell.execute_reply": "2023-08-03T03:03:36.030473Z"
    },
    "papermill": {
     "duration": 0.023229,
     "end_time": "2023-08-03T03:03:36.034404",
     "exception": false,
     "start_time": "2023-08-03T03:03:36.011175",
     "status": "completed"
    },
    "tags": []
   },
   "outputs": [],
   "source": [
    "import csv, sqlite3\n",
    "\n",
    "con = sqlite3.connect(\"FinalDB.db\")\n",
    "cur = con.cursor()"
   ]
  },
  {
   "cell_type": "code",
   "execution_count": 3,
   "id": "87ddbc7c",
   "metadata": {
    "execution": {
     "iopub.execute_input": "2023-08-03T03:03:36.059099Z",
     "iopub.status.busy": "2023-08-03T03:03:36.058681Z",
     "iopub.status.idle": "2023-08-03T03:03:36.107828Z",
     "shell.execute_reply": "2023-08-03T03:03:36.106545Z"
    },
    "papermill": {
     "duration": 0.065628,
     "end_time": "2023-08-03T03:03:36.111277",
     "exception": false,
     "start_time": "2023-08-03T03:03:36.045649",
     "status": "completed"
    },
    "tags": []
   },
   "outputs": [],
   "source": [
    "%sql sqlite:///FinalDB.db"
   ]
  },
  {
   "cell_type": "markdown",
   "id": "941332e4",
   "metadata": {
    "papermill": {
     "duration": 0.010991,
     "end_time": "2023-08-03T03:03:36.134871",
     "exception": false,
     "start_time": "2023-08-03T03:03:36.123880",
     "status": "completed"
    },
    "tags": []
   },
   "source": [
    "# Data Extraction & Transformation\n",
    "\n",
    "To analyze the data using SQL, it first needs to be loaded into SQLite DB.\n",
    "We will create three tables in as under:\n",
    "\n",
    "1.  **CENSUS_DATA**\n",
    "2.  **CHICAGO_PUBLIC_SCHOOLS**\n",
    "3.  **CHICAGO_CRIME_DATA**\n",
    "\n",
    "Let us now load the ipython-sql  extension and establish a connection with the database\n",
    "\n",
    "* Here you will be loading the csv files into the pandas Dataframe and then loading the data into the above mentioned sqlite tables.\n",
    "\n",
    "* Next you will be connecting to the sqlite database  **FinalDB**."
   ]
  },
  {
   "cell_type": "code",
   "execution_count": 4,
   "id": "6304272a",
   "metadata": {
    "execution": {
     "iopub.execute_input": "2023-08-03T03:03:36.159395Z",
     "iopub.status.busy": "2023-08-03T03:03:36.158987Z",
     "iopub.status.idle": "2023-08-03T03:03:37.850740Z",
     "shell.execute_reply": "2023-08-03T03:03:37.849563Z"
    },
    "papermill": {
     "duration": 1.707364,
     "end_time": "2023-08-03T03:03:37.853392",
     "exception": false,
     "start_time": "2023-08-03T03:03:36.146028",
     "status": "completed"
    },
    "tags": []
   },
   "outputs": [
    {
     "data": {
      "text/plain": [
       "283"
      ]
     },
     "execution_count": 4,
     "metadata": {},
     "output_type": "execute_result"
    }
   ],
   "source": [
    "import pandas\n",
    "df_census = pandas.read_csv('https://cf-courses-data.s3.us.cloud-object-storage.appdomain.cloud/IBMDeveloperSkillsNetwork-DB0201EN-SkillsNetwork/labs/FinalModule_Coursera_V5/data/ChicagoCensusData.csv?utm_medium=Exinfluencer&utm_source=Exinfluencer&utm_content=000026UJ&utm_term=10006555&utm_id=NA-SkillsNetwork-Channel-SkillsNetworkCoursesIBMDeveloperSkillsNetworkDB0201ENSkillsNetwork20127838-2021-01-01')\n",
    "df_census.to_sql(\"chicago_census_data\", con, if_exists='replace', index=False,method=\"multi\")\n",
    "df_crime = pandas.read_csv('https://cf-courses-data.s3.us.cloud-object-storage.appdomain.cloud/IBMDeveloperSkillsNetwork-DB0201EN-SkillsNetwork/labs/FinalModule_Coursera_V5/data/ChicagoCrimeData.csv?utm_medium=Exinfluencer&utm_source=Exinfluencer&utm_content=000026UJ&utm_term=10006555&utm_id=NA-SkillsNetwork-Channel-SkillsNetworkCoursesIBMDeveloperSkillsNetworkDB0201ENSkillsNetwork20127838-2021-01-01')\n",
    "df_crime.to_sql(\"chicago_crime_data\", con, if_exists='replace', index=False,method=\"multi\")\n",
    "\n",
    "# Read the CSV file into a DataFrame\n",
    "df_public_schools = pandas.read_csv('https://cf-courses-data.s3.us.cloud-object-storage.appdomain.cloud/IBMDeveloperSkillsNetwork-DB0201EN-SkillsNetwork/labs/FinalModule_Coursera_V5/data/ChicagoPublicSchools.csv?utm_medium=Exinfluencer&utm_source=Exinfluencer&utm_content=000026UJ&utm_term=10006555&utm_id=NA-SkillsNetwork-Channel-SkillsNetworkCoursesIBMDeveloperSkillsNetworkDB0201ENSkillsNetwork20127838-2021-01-01')\n",
    "\n",
    "# Determine the split point\n",
    "total_rows = len(df_public_schools)\n",
    "split_point = int(total_rows / 2)\n",
    "\n",
    "# Split the DataFrame into two equal parts\n",
    "df_public_schools_1 = df_public_schools.iloc[:split_point]\n",
    "df_public_schools_2 = df_public_schools.iloc[split_point:split_point*2]\n",
    "\n",
    "df_public_schools_1.to_sql(\"chicago_public_schools_data\", con, if_exists='replace', index=False,method=\"multi\")\n",
    "df_public_schools_2.to_sql(\"chicago_public_schools_data\", con, if_exists='replace', index=False,method=\"multi\")"
   ]
  },
  {
   "cell_type": "markdown",
   "id": "3c1b4eff",
   "metadata": {
    "papermill": {
     "duration": 0.011174,
     "end_time": "2023-08-03T03:03:37.876297",
     "exception": false,
     "start_time": "2023-08-03T03:03:37.865123",
     "status": "completed"
    },
    "tags": []
   },
   "source": [
    "# Load Data to Database"
   ]
  },
  {
   "cell_type": "markdown",
   "id": "fda68f87",
   "metadata": {
    "papermill": {
     "duration": 0.010947,
     "end_time": "2023-08-03T03:03:37.898565",
     "exception": false,
     "start_time": "2023-08-03T03:03:37.887618",
     "status": "completed"
    },
    "tags": []
   },
   "source": [
    "**Total number of crimes recorded in the CRIME table.**"
   ]
  },
  {
   "cell_type": "code",
   "execution_count": 5,
   "id": "afda07c2",
   "metadata": {
    "execution": {
     "iopub.execute_input": "2023-08-03T03:03:37.922995Z",
     "iopub.status.busy": "2023-08-03T03:03:37.922611Z",
     "iopub.status.idle": "2023-08-03T03:03:37.944750Z",
     "shell.execute_reply": "2023-08-03T03:03:37.943577Z"
    },
    "papermill": {
     "duration": 0.037212,
     "end_time": "2023-08-03T03:03:37.947078",
     "exception": false,
     "start_time": "2023-08-03T03:03:37.909866",
     "status": "completed"
    },
    "tags": []
   },
   "outputs": [
    {
     "name": "stdout",
     "output_type": "stream",
     "text": [
      " * sqlite:///FinalDB.db\n",
      "Done.\n"
     ]
    },
    {
     "data": {
      "text/html": [
       "<table>\n",
       "    <thead>\n",
       "        <tr>\n",
       "            <th>COUNT(*)</th>\n",
       "        </tr>\n",
       "    </thead>\n",
       "    <tbody>\n",
       "        <tr>\n",
       "            <td>533</td>\n",
       "        </tr>\n",
       "    </tbody>\n",
       "</table>"
      ],
      "text/plain": [
       "[(533,)]"
      ]
     },
     "execution_count": 5,
     "metadata": {},
     "output_type": "execute_result"
    }
   ],
   "source": [
    "%%sql\n",
    "SELECT COUNT(*) FROM chicago_crime_data;"
   ]
  },
  {
   "cell_type": "markdown",
   "id": "0c24ff38",
   "metadata": {
    "papermill": {
     "duration": 0.011649,
     "end_time": "2023-08-03T03:03:37.970936",
     "exception": false,
     "start_time": "2023-08-03T03:03:37.959287",
     "status": "completed"
    },
    "tags": []
   },
   "source": [
    "**List of community areas with per capita income less than 11000.**"
   ]
  },
  {
   "cell_type": "code",
   "execution_count": 6,
   "id": "58af3b7c",
   "metadata": {
    "execution": {
     "iopub.execute_input": "2023-08-03T03:03:37.996165Z",
     "iopub.status.busy": "2023-08-03T03:03:37.995772Z",
     "iopub.status.idle": "2023-08-03T03:03:38.007933Z",
     "shell.execute_reply": "2023-08-03T03:03:38.006812Z"
    },
    "papermill": {
     "duration": 0.02773,
     "end_time": "2023-08-03T03:03:38.010319",
     "exception": false,
     "start_time": "2023-08-03T03:03:37.982589",
     "status": "completed"
    },
    "tags": []
   },
   "outputs": [
    {
     "name": "stdout",
     "output_type": "stream",
     "text": [
      " * sqlite:///FinalDB.db\n",
      "Done.\n"
     ]
    },
    {
     "data": {
      "text/html": [
       "<table>\n",
       "    <thead>\n",
       "        <tr>\n",
       "            <th>COMMUNITY_AREA_NAME</th>\n",
       "        </tr>\n",
       "    </thead>\n",
       "    <tbody>\n",
       "        <tr>\n",
       "            <td>West Garfield Park</td>\n",
       "        </tr>\n",
       "        <tr>\n",
       "            <td>South Lawndale</td>\n",
       "        </tr>\n",
       "        <tr>\n",
       "            <td>Fuller Park</td>\n",
       "        </tr>\n",
       "        <tr>\n",
       "            <td>Riverdale</td>\n",
       "        </tr>\n",
       "    </tbody>\n",
       "</table>"
      ],
      "text/plain": [
       "[('West Garfield Park',),\n",
       " ('South Lawndale',),\n",
       " ('Fuller Park',),\n",
       " ('Riverdale',)]"
      ]
     },
     "execution_count": 6,
     "metadata": {},
     "output_type": "execute_result"
    }
   ],
   "source": [
    "%%sql\n",
    "SELECT community_area_name FROM chicago_census_data WHERE per_capita_income < 11000;"
   ]
  },
  {
   "cell_type": "markdown",
   "id": "c1d359e6",
   "metadata": {
    "papermill": {
     "duration": 0.011604,
     "end_time": "2023-08-03T03:03:38.033726",
     "exception": false,
     "start_time": "2023-08-03T03:03:38.022122",
     "status": "completed"
    },
    "tags": []
   },
   "source": [
    "**List all case numbers for crimes  involving minors?(children are not considered minors for the purposes of crime analysis)**"
   ]
  },
  {
   "cell_type": "code",
   "execution_count": 7,
   "id": "81144ef4",
   "metadata": {
    "execution": {
     "iopub.execute_input": "2023-08-03T03:03:38.060246Z",
     "iopub.status.busy": "2023-08-03T03:03:38.059113Z",
     "iopub.status.idle": "2023-08-03T03:03:38.070013Z",
     "shell.execute_reply": "2023-08-03T03:03:38.068729Z"
    },
    "papermill": {
     "duration": 0.027154,
     "end_time": "2023-08-03T03:03:38.072639",
     "exception": false,
     "start_time": "2023-08-03T03:03:38.045485",
     "status": "completed"
    },
    "tags": []
   },
   "outputs": [
    {
     "name": "stdout",
     "output_type": "stream",
     "text": [
      " * sqlite:///FinalDB.db\n",
      "Done.\n"
     ]
    },
    {
     "data": {
      "text/html": [
       "<table>\n",
       "    <thead>\n",
       "        <tr>\n",
       "            <th>CASE_NUMBER</th>\n",
       "        </tr>\n",
       "    </thead>\n",
       "    <tbody>\n",
       "        <tr>\n",
       "            <td>HL266884</td>\n",
       "        </tr>\n",
       "        <tr>\n",
       "            <td>HK238408</td>\n",
       "        </tr>\n",
       "    </tbody>\n",
       "</table>"
      ],
      "text/plain": [
       "[('HL266884',), ('HK238408',)]"
      ]
     },
     "execution_count": 7,
     "metadata": {},
     "output_type": "execute_result"
    }
   ],
   "source": [
    "%%sql\n",
    "SELECT case_number FROM chicago_crime_data WHERE description LIKE '%MINOR%';"
   ]
  },
  {
   "cell_type": "markdown",
   "id": "636716a9",
   "metadata": {
    "papermill": {
     "duration": 0.011921,
     "end_time": "2023-08-03T03:03:38.096865",
     "exception": false,
     "start_time": "2023-08-03T03:03:38.084944",
     "status": "completed"
    },
    "tags": []
   },
   "source": [
    "**List all kidnapping crimes involving a child**"
   ]
  },
  {
   "cell_type": "code",
   "execution_count": 8,
   "id": "95b285ae",
   "metadata": {
    "execution": {
     "iopub.execute_input": "2023-08-03T03:03:38.122755Z",
     "iopub.status.busy": "2023-08-03T03:03:38.122336Z",
     "iopub.status.idle": "2023-08-03T03:03:38.132810Z",
     "shell.execute_reply": "2023-08-03T03:03:38.131797Z"
    },
    "papermill": {
     "duration": 0.026417,
     "end_time": "2023-08-03T03:03:38.135225",
     "exception": false,
     "start_time": "2023-08-03T03:03:38.108808",
     "status": "completed"
    },
    "tags": []
   },
   "outputs": [
    {
     "name": "stdout",
     "output_type": "stream",
     "text": [
      " * sqlite:///FinalDB.db\n",
      "Done.\n"
     ]
    },
    {
     "data": {
      "text/html": [
       "<table>\n",
       "    <thead>\n",
       "        <tr>\n",
       "            <th>ID</th>\n",
       "            <th>CASE_NUMBER</th>\n",
       "            <th>DATE</th>\n",
       "            <th>BLOCK</th>\n",
       "            <th>IUCR</th>\n",
       "            <th>PRIMARY_TYPE</th>\n",
       "            <th>DESCRIPTION</th>\n",
       "            <th>LOCATION_DESCRIPTION</th>\n",
       "            <th>ARREST</th>\n",
       "            <th>DOMESTIC</th>\n",
       "            <th>BEAT</th>\n",
       "            <th>DISTRICT</th>\n",
       "            <th>WARD</th>\n",
       "            <th>COMMUNITY_AREA_NUMBER</th>\n",
       "            <th>FBICODE</th>\n",
       "            <th>X_COORDINATE</th>\n",
       "            <th>Y_COORDINATE</th>\n",
       "            <th>YEAR</th>\n",
       "            <th>LATITUDE</th>\n",
       "            <th>LONGITUDE</th>\n",
       "            <th>LOCATION</th>\n",
       "        </tr>\n",
       "    </thead>\n",
       "    <tbody>\n",
       "        <tr>\n",
       "            <td>5276766</td>\n",
       "            <td>HN144152</td>\n",
       "            <td>2007-01-26</td>\n",
       "            <td>050XX W VAN BUREN ST</td>\n",
       "            <td>1792</td>\n",
       "            <td>KIDNAPPING</td>\n",
       "            <td>CHILD ABDUCTION/STRANGER</td>\n",
       "            <td>STREET</td>\n",
       "            <td>0</td>\n",
       "            <td>0</td>\n",
       "            <td>1533</td>\n",
       "            <td>15</td>\n",
       "            <td>29.0</td>\n",
       "            <td>25.0</td>\n",
       "            <td>20</td>\n",
       "            <td>1143050.0</td>\n",
       "            <td>1897546.0</td>\n",
       "            <td>2007</td>\n",
       "            <td>41.87490841</td>\n",
       "            <td>-87.75024931</td>\n",
       "            <td>(41.874908413, -87.750249307)</td>\n",
       "        </tr>\n",
       "    </tbody>\n",
       "</table>"
      ],
      "text/plain": [
       "[(5276766, 'HN144152', '2007-01-26', '050XX W VAN BUREN ST', '1792', 'KIDNAPPING', 'CHILD ABDUCTION/STRANGER', 'STREET', 0, 0, 1533, 15, 29.0, 25.0, '20', 1143050.0, 1897546.0, 2007, 41.87490841, -87.75024931, '(41.874908413, -87.750249307)')]"
      ]
     },
     "execution_count": 8,
     "metadata": {},
     "output_type": "execute_result"
    }
   ],
   "source": [
    "%%sql\n",
    "select * from chicago_crime_data where primary_type = 'KIDNAPPING' and description like '%CHILD%';"
   ]
  },
  {
   "cell_type": "markdown",
   "id": "1763ce89",
   "metadata": {
    "papermill": {
     "duration": 0.012654,
     "end_time": "2023-08-03T03:03:38.160739",
     "exception": false,
     "start_time": "2023-08-03T03:03:38.148085",
     "status": "completed"
    },
    "tags": []
   },
   "source": [
    "**Kinds of crimes that recorded at schools**"
   ]
  },
  {
   "cell_type": "code",
   "execution_count": 9,
   "id": "e22eb0b4",
   "metadata": {
    "execution": {
     "iopub.execute_input": "2023-08-03T03:03:38.187533Z",
     "iopub.status.busy": "2023-08-03T03:03:38.187118Z",
     "iopub.status.idle": "2023-08-03T03:03:38.199001Z",
     "shell.execute_reply": "2023-08-03T03:03:38.197963Z"
    },
    "papermill": {
     "duration": 0.028087,
     "end_time": "2023-08-03T03:03:38.201203",
     "exception": false,
     "start_time": "2023-08-03T03:03:38.173116",
     "status": "completed"
    },
    "tags": []
   },
   "outputs": [
    {
     "name": "stdout",
     "output_type": "stream",
     "text": [
      " * sqlite:///FinalDB.db\n",
      "Done.\n"
     ]
    },
    {
     "data": {
      "text/html": [
       "<table>\n",
       "    <thead>\n",
       "        <tr>\n",
       "            <th>ID</th>\n",
       "            <th>CASE_NUMBER</th>\n",
       "            <th>DATE</th>\n",
       "            <th>BLOCK</th>\n",
       "            <th>IUCR</th>\n",
       "            <th>PRIMARY_TYPE</th>\n",
       "            <th>DESCRIPTION</th>\n",
       "            <th>LOCATION_DESCRIPTION</th>\n",
       "            <th>ARREST</th>\n",
       "            <th>DOMESTIC</th>\n",
       "            <th>BEAT</th>\n",
       "            <th>DISTRICT</th>\n",
       "            <th>WARD</th>\n",
       "            <th>COMMUNITY_AREA_NUMBER</th>\n",
       "            <th>FBICODE</th>\n",
       "            <th>X_COORDINATE</th>\n",
       "            <th>Y_COORDINATE</th>\n",
       "            <th>YEAR</th>\n",
       "            <th>LATITUDE</th>\n",
       "            <th>LONGITUDE</th>\n",
       "            <th>LOCATION</th>\n",
       "        </tr>\n",
       "    </thead>\n",
       "    <tbody>\n",
       "        <tr>\n",
       "            <td>4006321</td>\n",
       "            <td>HL353697</td>\n",
       "            <td>2005-05-04</td>\n",
       "            <td>077XX S BURNHAM AVE</td>\n",
       "            <td>460</td>\n",
       "            <td>BATTERY</td>\n",
       "            <td>SIMPLE</td>\n",
       "            <td>SCHOOL, PUBLIC, GROUNDS</td>\n",
       "            <td>0</td>\n",
       "            <td>0</td>\n",
       "            <td>421</td>\n",
       "            <td>4</td>\n",
       "            <td>7.0</td>\n",
       "            <td>43.0</td>\n",
       "            <td>08B</td>\n",
       "            <td>1196066.0</td>\n",
       "            <td>1854156.0</td>\n",
       "            <td>2005</td>\n",
       "            <td>41.75469107</td>\n",
       "            <td>-87.55703869</td>\n",
       "            <td>(41.754691074, -87.557038686)</td>\n",
       "        </tr>\n",
       "        <tr>\n",
       "            <td>4430638</td>\n",
       "            <td>HL725506</td>\n",
       "            <td>2005-11-09</td>\n",
       "            <td>048XX N FRANCISCO AVE</td>\n",
       "            <td>484</td>\n",
       "            <td>BATTERY</td>\n",
       "            <td>PRO EMP HANDS NO/MIN INJURY</td>\n",
       "            <td>SCHOOL, PUBLIC, BUILDING</td>\n",
       "            <td>1</td>\n",
       "            <td>0</td>\n",
       "            <td>2031</td>\n",
       "            <td>20</td>\n",
       "            <td>40.0</td>\n",
       "            <td>4.0</td>\n",
       "            <td>08B</td>\n",
       "            <td>1156348.0</td>\n",
       "            <td>1932071.0</td>\n",
       "            <td>2005</td>\n",
       "            <td>41.96938944</td>\n",
       "            <td>-87.70048881</td>\n",
       "            <td>(41.96938944, -87.700488807)</td>\n",
       "        </tr>\n",
       "        <tr>\n",
       "            <td>6644618</td>\n",
       "            <td>HP716225</td>\n",
       "            <td>2008-12-04</td>\n",
       "            <td>030XX S DR MARTIN LUTHER KING JR DR</td>\n",
       "            <td>460</td>\n",
       "            <td>BATTERY</td>\n",
       "            <td>SIMPLE</td>\n",
       "            <td>SCHOOL, PUBLIC, BUILDING</td>\n",
       "            <td>0</td>\n",
       "            <td>0</td>\n",
       "            <td>2112</td>\n",
       "            <td>1</td>\n",
       "            <td>2.0</td>\n",
       "            <td>35.0</td>\n",
       "            <td>08B</td>\n",
       "            <td>1179306.0</td>\n",
       "            <td>1885032.0</td>\n",
       "            <td>2008</td>\n",
       "            <td>41.83981621</td>\n",
       "            <td>-87.61751617</td>\n",
       "            <td>(41.839816207, -87.617516172)</td>\n",
       "        </tr>\n",
       "        <tr>\n",
       "            <td>2341955</td>\n",
       "            <td>HH639427</td>\n",
       "            <td>2002-09-10</td>\n",
       "            <td>005XX N WALLER AVE</td>\n",
       "            <td>460</td>\n",
       "            <td>BATTERY</td>\n",
       "            <td>SIMPLE</td>\n",
       "            <td>SCHOOL, PUBLIC, BUILDING</td>\n",
       "            <td>0</td>\n",
       "            <td>0</td>\n",
       "            <td>1512</td>\n",
       "            <td>15</td>\n",
       "            <td>29.0</td>\n",
       "            <td>25.0</td>\n",
       "            <td>08B</td>\n",
       "            <td>1138238.0</td>\n",
       "            <td>1903181.0</td>\n",
       "            <td>2002</td>\n",
       "            <td>41.89045993</td>\n",
       "            <td>-87.76778089</td>\n",
       "            <td>(41.890459933, -87.767780886)</td>\n",
       "        </tr>\n",
       "        <tr>\n",
       "            <td>11110571</td>\n",
       "            <td>JA460432</td>\n",
       "            <td>2017-10-05</td>\n",
       "            <td>076XX S HOMAN AVE</td>\n",
       "            <td>460</td>\n",
       "            <td>BATTERY</td>\n",
       "            <td>SIMPLE</td>\n",
       "            <td>SCHOOL, PUBLIC, GROUNDS</td>\n",
       "            <td>0</td>\n",
       "            <td>0</td>\n",
       "            <td>835</td>\n",
       "            <td>8</td>\n",
       "            <td>18.0</td>\n",
       "            <td>70.0</td>\n",
       "            <td>08B</td>\n",
       "            <td>1155024.0</td>\n",
       "            <td>1853614.0</td>\n",
       "            <td>2017</td>\n",
       "            <td>41.75412154</td>\n",
       "            <td>-87.70746025</td>\n",
       "            <td>(41.754121535, -87.707460248)</td>\n",
       "        </tr>\n",
       "        <tr>\n",
       "            <td>7399281</td>\n",
       "            <td>HS200939</td>\n",
       "            <td>2010-03-10</td>\n",
       "            <td>053XX W CONGRESS PKWY</td>\n",
       "            <td>1320</td>\n",
       "            <td>CRIMINAL DAMAGE</td>\n",
       "            <td>TO VEHICLE</td>\n",
       "            <td>SCHOOL, PUBLIC, GROUNDS</td>\n",
       "            <td>0</td>\n",
       "            <td>0</td>\n",
       "            <td>1522</td>\n",
       "            <td>15</td>\n",
       "            <td>29.0</td>\n",
       "            <td>25.0</td>\n",
       "            <td>14</td>\n",
       "            <td>1140822.0</td>\n",
       "            <td>1897164.0</td>\n",
       "            <td>2010</td>\n",
       "            <td>41.8739014</td>\n",
       "            <td>-87.7584391</td>\n",
       "            <td>(41.873901397, -87.758439102)</td>\n",
       "        </tr>\n",
       "        <tr>\n",
       "            <td>3530721</td>\n",
       "            <td>HK577020</td>\n",
       "            <td>2004-08-23</td>\n",
       "            <td>016XX W JONQUIL TER</td>\n",
       "            <td>2024</td>\n",
       "            <td>NARCOTICS</td>\n",
       "            <td>POSS: HEROIN(WHITE)</td>\n",
       "            <td>SCHOOL, PUBLIC, GROUNDS</td>\n",
       "            <td>1</td>\n",
       "            <td>0</td>\n",
       "            <td>2422</td>\n",
       "            <td>24</td>\n",
       "            <td>49.0</td>\n",
       "            <td>1.0</td>\n",
       "            <td>18</td>\n",
       "            <td>1163893.0</td>\n",
       "            <td>1951001.0</td>\n",
       "            <td>2004</td>\n",
       "            <td>42.0211776</td>\n",
       "            <td>-87.67220843</td>\n",
       "            <td>(42.021177601, -87.67220843)</td>\n",
       "        </tr>\n",
       "        <tr>\n",
       "            <td>7502426</td>\n",
       "            <td>HS305355</td>\n",
       "            <td>2010-05-13</td>\n",
       "            <td>035XX S WASHTENAW AVE</td>\n",
       "            <td>1821</td>\n",
       "            <td>NARCOTICS</td>\n",
       "            <td>MANU/DEL:CANNABIS 10GM OR LESS</td>\n",
       "            <td>SCHOOL, PUBLIC, BUILDING</td>\n",
       "            <td>1</td>\n",
       "            <td>0</td>\n",
       "            <td>913</td>\n",
       "            <td>9</td>\n",
       "            <td>12.0</td>\n",
       "            <td>58.0</td>\n",
       "            <td>18</td>\n",
       "            <td>1158944.0</td>\n",
       "            <td>1880896.0</td>\n",
       "            <td>2010</td>\n",
       "            <td>41.82890791</td>\n",
       "            <td>-87.69234919</td>\n",
       "            <td>(41.828907913, -87.692349187)</td>\n",
       "        </tr>\n",
       "        <tr>\n",
       "            <td>8082600</td>\n",
       "            <td>HT315369</td>\n",
       "            <td>2011-05-26</td>\n",
       "            <td>032XX W ADAMS ST</td>\n",
       "            <td>545</td>\n",
       "            <td>ASSAULT</td>\n",
       "            <td>PRO EMP HANDS NO/MIN INJURY</td>\n",
       "            <td>SCHOOL, PUBLIC, GROUNDS</td>\n",
       "            <td>0</td>\n",
       "            <td>0</td>\n",
       "            <td>1124</td>\n",
       "            <td>11</td>\n",
       "            <td>28.0</td>\n",
       "            <td>27.0</td>\n",
       "            <td>08A</td>\n",
       "            <td>1154752.0</td>\n",
       "            <td>1898890.0</td>\n",
       "            <td>2011</td>\n",
       "            <td>41.87837031</td>\n",
       "            <td>-87.70724814</td>\n",
       "            <td>(41.878370307, -87.707248137)</td>\n",
       "        </tr>\n",
       "        <tr>\n",
       "            <td>7174283</td>\n",
       "            <td>HR585012</td>\n",
       "            <td>2009-10-13</td>\n",
       "            <td>043XX W 79TH ST</td>\n",
       "            <td>1330</td>\n",
       "            <td>CRIMINAL TRESPASS</td>\n",
       "            <td>TO LAND</td>\n",
       "            <td>SCHOOL, PUBLIC, GROUNDS</td>\n",
       "            <td>1</td>\n",
       "            <td>0</td>\n",
       "            <td>834</td>\n",
       "            <td>8</td>\n",
       "            <td>13.0</td>\n",
       "            <td>70.0</td>\n",
       "            <td>26</td>\n",
       "            <td>1148764.0</td>\n",
       "            <td>1851854.0</td>\n",
       "            <td>2009</td>\n",
       "            <td>41.74941446</td>\n",
       "            <td>-87.7304466</td>\n",
       "            <td>(41.749414464, -87.730446597)</td>\n",
       "        </tr>\n",
       "        <tr>\n",
       "            <td>2075734</td>\n",
       "            <td>HH292682</td>\n",
       "            <td>2002-04-05</td>\n",
       "            <td>016XX W BRYN MAWR AV</td>\n",
       "            <td>2850</td>\n",
       "            <td>PUBLIC PEACE VIOLATION</td>\n",
       "            <td>BOMB THREAT</td>\n",
       "            <td>SCHOOL, PRIVATE, BUILDING</td>\n",
       "            <td>0</td>\n",
       "            <td>0</td>\n",
       "            <td>2012</td>\n",
       "            <td>20</td>\n",
       "            <td>None</td>\n",
       "            <td>None</td>\n",
       "            <td>26</td>\n",
       "            <td>None</td>\n",
       "            <td>None</td>\n",
       "            <td>2002</td>\n",
       "            <td>None</td>\n",
       "            <td>None</td>\n",
       "            <td>None</td>\n",
       "        </tr>\n",
       "        <tr>\n",
       "            <td>1806896</td>\n",
       "            <td>G635735</td>\n",
       "            <td>2001-10-22</td>\n",
       "            <td>0000X N HERMITAGE AV</td>\n",
       "            <td>2850</td>\n",
       "            <td>PUBLIC PEACE VIOLATION</td>\n",
       "            <td>BOMB THREAT</td>\n",
       "            <td>SCHOOL, PUBLIC, BUILDING</td>\n",
       "            <td>1</td>\n",
       "            <td>0</td>\n",
       "            <td>1333</td>\n",
       "            <td>12</td>\n",
       "            <td>None</td>\n",
       "            <td>None</td>\n",
       "            <td>26</td>\n",
       "            <td>1164687.0</td>\n",
       "            <td>1900646.0</td>\n",
       "            <td>2001</td>\n",
       "            <td>41.88298425</td>\n",
       "            <td>-87.67071922</td>\n",
       "            <td>(41.882984246, -87.670719218)</td>\n",
       "        </tr>\n",
       "    </tbody>\n",
       "</table>"
      ],
      "text/plain": [
       "[(4006321, 'HL353697', '2005-05-04', '077XX S BURNHAM AVE', '460', 'BATTERY', 'SIMPLE', 'SCHOOL, PUBLIC, GROUNDS', 0, 0, 421, 4, 7.0, 43.0, '08B', 1196066.0, 1854156.0, 2005, 41.75469107, -87.55703869, '(41.754691074, -87.557038686)'),\n",
       " (4430638, 'HL725506', '2005-11-09', '048XX N FRANCISCO AVE', '484', 'BATTERY', 'PRO EMP HANDS NO/MIN INJURY', 'SCHOOL, PUBLIC, BUILDING', 1, 0, 2031, 20, 40.0, 4.0, '08B', 1156348.0, 1932071.0, 2005, 41.96938944, -87.70048881, '(41.96938944, -87.700488807)'),\n",
       " (6644618, 'HP716225', '2008-12-04', '030XX S DR MARTIN LUTHER KING JR DR', '460', 'BATTERY', 'SIMPLE', 'SCHOOL, PUBLIC, BUILDING', 0, 0, 2112, 1, 2.0, 35.0, '08B', 1179306.0, 1885032.0, 2008, 41.83981621, -87.61751617, '(41.839816207, -87.617516172)'),\n",
       " (2341955, 'HH639427', '2002-09-10', '005XX N WALLER AVE', '460', 'BATTERY', 'SIMPLE', 'SCHOOL, PUBLIC, BUILDING', 0, 0, 1512, 15, 29.0, 25.0, '08B', 1138238.0, 1903181.0, 2002, 41.89045993, -87.76778089, '(41.890459933, -87.767780886)'),\n",
       " (11110571, 'JA460432', '2017-10-05', '076XX S HOMAN AVE', '460', 'BATTERY', 'SIMPLE', 'SCHOOL, PUBLIC, GROUNDS', 0, 0, 835, 8, 18.0, 70.0, '08B', 1155024.0, 1853614.0, 2017, 41.75412154, -87.70746025, '(41.754121535, -87.707460248)'),\n",
       " (7399281, 'HS200939', '2010-03-10', '053XX W CONGRESS PKWY', '1320', 'CRIMINAL DAMAGE', 'TO VEHICLE', 'SCHOOL, PUBLIC, GROUNDS', 0, 0, 1522, 15, 29.0, 25.0, '14', 1140822.0, 1897164.0, 2010, 41.8739014, -87.7584391, '(41.873901397, -87.758439102)'),\n",
       " (3530721, 'HK577020', '2004-08-23', '016XX W JONQUIL TER', '2024', 'NARCOTICS', 'POSS: HEROIN(WHITE)', 'SCHOOL, PUBLIC, GROUNDS', 1, 0, 2422, 24, 49.0, 1.0, '18', 1163893.0, 1951001.0, 2004, 42.0211776, -87.67220843, '(42.021177601, -87.67220843)'),\n",
       " (7502426, 'HS305355', '2010-05-13', '035XX S WASHTENAW AVE', '1821', 'NARCOTICS', 'MANU/DEL:CANNABIS 10GM OR LESS', 'SCHOOL, PUBLIC, BUILDING', 1, 0, 913, 9, 12.0, 58.0, '18', 1158944.0, 1880896.0, 2010, 41.82890791, -87.69234919, '(41.828907913, -87.692349187)'),\n",
       " (8082600, 'HT315369', '2011-05-26', '032XX W ADAMS ST', '545', 'ASSAULT', 'PRO EMP HANDS NO/MIN INJURY', 'SCHOOL, PUBLIC, GROUNDS', 0, 0, 1124, 11, 28.0, 27.0, '08A', 1154752.0, 1898890.0, 2011, 41.87837031, -87.70724814, '(41.878370307, -87.707248137)'),\n",
       " (7174283, 'HR585012', '2009-10-13', '043XX W 79TH ST', '1330', 'CRIMINAL TRESPASS', 'TO LAND', 'SCHOOL, PUBLIC, GROUNDS', 1, 0, 834, 8, 13.0, 70.0, '26', 1148764.0, 1851854.0, 2009, 41.74941446, -87.7304466, '(41.749414464, -87.730446597)'),\n",
       " (2075734, 'HH292682', '2002-04-05', '016XX W BRYN MAWR AV', '2850', 'PUBLIC PEACE VIOLATION', 'BOMB THREAT', 'SCHOOL, PRIVATE, BUILDING', 0, 0, 2012, 20, None, None, '26', None, None, 2002, None, None, None),\n",
       " (1806896, 'G635735', '2001-10-22', '0000X N HERMITAGE AV', '2850', 'PUBLIC PEACE VIOLATION', 'BOMB THREAT', 'SCHOOL, PUBLIC, BUILDING', 1, 0, 1333, 12, None, None, '26', 1164687.0, 1900646.0, 2001, 41.88298425, -87.67071922, '(41.882984246, -87.670719218)')]"
      ]
     },
     "execution_count": 9,
     "metadata": {},
     "output_type": "execute_result"
    }
   ],
   "source": [
    "%%sql\n",
    "select * from chicago_crime_data where location_description like '%SCHOOL%';"
   ]
  },
  {
   "cell_type": "markdown",
   "id": "9d44af94",
   "metadata": {
    "papermill": {
     "duration": 0.01305,
     "end_time": "2023-08-03T03:03:38.227470",
     "exception": false,
     "start_time": "2023-08-03T03:03:38.214420",
     "status": "completed"
    },
    "tags": []
   },
   "source": [
    "**Average safety score for each type of school.**"
   ]
  },
  {
   "cell_type": "code",
   "execution_count": 10,
   "id": "ed58cd6b",
   "metadata": {
    "execution": {
     "iopub.execute_input": "2023-08-03T03:03:38.256357Z",
     "iopub.status.busy": "2023-08-03T03:03:38.255968Z",
     "iopub.status.idle": "2023-08-03T03:03:38.269845Z",
     "shell.execute_reply": "2023-08-03T03:03:38.268709Z"
    },
    "papermill": {
     "duration": 0.031496,
     "end_time": "2023-08-03T03:03:38.272187",
     "exception": false,
     "start_time": "2023-08-03T03:03:38.240691",
     "status": "completed"
    },
    "tags": []
   },
   "outputs": [
    {
     "name": "stdout",
     "output_type": "stream",
     "text": [
      " * sqlite:///FinalDB.db\n",
      "Done.\n"
     ]
    },
    {
     "data": {
      "text/html": [
       "<table>\n",
       "    <thead>\n",
       "        <tr>\n",
       "            <th>Elementary, Middle, or High School</th>\n",
       "            <th>avg_safety_score</th>\n",
       "        </tr>\n",
       "    </thead>\n",
       "    <tbody>\n",
       "        <tr>\n",
       "            <td>ES</td>\n",
       "            <td>51.306930693069305</td>\n",
       "        </tr>\n",
       "        <tr>\n",
       "            <td>HS</td>\n",
       "            <td>52.25581395348837</td>\n",
       "        </tr>\n",
       "        <tr>\n",
       "            <td>MS</td>\n",
       "            <td>46.833333333333336</td>\n",
       "        </tr>\n",
       "    </tbody>\n",
       "</table>"
      ],
      "text/plain": [
       "[('ES', 51.306930693069305),\n",
       " ('HS', 52.25581395348837),\n",
       " ('MS', 46.833333333333336)]"
      ]
     },
     "execution_count": 10,
     "metadata": {},
     "output_type": "execute_result"
    }
   ],
   "source": [
    "%%sql\n",
    "select \"Elementary, Middle, or High School\", avg(safety_score) as avg_safety_score from chicago_public_schools_data group by \"Elementary, Middle, or High School\";"
   ]
  },
  {
   "cell_type": "markdown",
   "id": "888cec9b",
   "metadata": {
    "papermill": {
     "duration": 0.013423,
     "end_time": "2023-08-03T03:03:38.299336",
     "exception": false,
     "start_time": "2023-08-03T03:03:38.285913",
     "status": "completed"
    },
    "tags": []
   },
   "source": [
    "**5 community areas with highest % of households below poverty line**"
   ]
  },
  {
   "cell_type": "code",
   "execution_count": 11,
   "id": "ff1e78f4",
   "metadata": {
    "execution": {
     "iopub.execute_input": "2023-08-03T03:03:38.328830Z",
     "iopub.status.busy": "2023-08-03T03:03:38.328387Z",
     "iopub.status.idle": "2023-08-03T03:03:38.340114Z",
     "shell.execute_reply": "2023-08-03T03:03:38.339003Z"
    },
    "papermill": {
     "duration": 0.029467,
     "end_time": "2023-08-03T03:03:38.342434",
     "exception": false,
     "start_time": "2023-08-03T03:03:38.312967",
     "status": "completed"
    },
    "tags": []
   },
   "outputs": [
    {
     "name": "stdout",
     "output_type": "stream",
     "text": [
      " * sqlite:///FinalDB.db\n",
      "Done.\n"
     ]
    },
    {
     "data": {
      "text/html": [
       "<table>\n",
       "    <thead>\n",
       "        <tr>\n",
       "            <th>COMMUNITY_AREA_NAME</th>\n",
       "            <th>PERCENT_HOUSEHOLDS_BELOW_POVERTY</th>\n",
       "        </tr>\n",
       "    </thead>\n",
       "    <tbody>\n",
       "        <tr>\n",
       "            <td>Riverdale</td>\n",
       "            <td>56.5</td>\n",
       "        </tr>\n",
       "        <tr>\n",
       "            <td>Fuller Park</td>\n",
       "            <td>51.2</td>\n",
       "        </tr>\n",
       "        <tr>\n",
       "            <td>Englewood</td>\n",
       "            <td>46.6</td>\n",
       "        </tr>\n",
       "        <tr>\n",
       "            <td>North Lawndale</td>\n",
       "            <td>43.1</td>\n",
       "        </tr>\n",
       "        <tr>\n",
       "            <td>East Garfield Park</td>\n",
       "            <td>42.4</td>\n",
       "        </tr>\n",
       "    </tbody>\n",
       "</table>"
      ],
      "text/plain": [
       "[('Riverdale', 56.5),\n",
       " ('Fuller Park', 51.2),\n",
       " ('Englewood', 46.6),\n",
       " ('North Lawndale', 43.1),\n",
       " ('East Garfield Park', 42.4)]"
      ]
     },
     "execution_count": 11,
     "metadata": {},
     "output_type": "execute_result"
    }
   ],
   "source": [
    "%%sql\n",
    "select community_area_name, percent_households_below_poverty from chicago_census_data order by percent_households_below_poverty desc limit 5;"
   ]
  },
  {
   "cell_type": "markdown",
   "id": "0bc9dff8",
   "metadata": {
    "papermill": {
     "duration": 0.01448,
     "end_time": "2023-08-03T03:03:38.371586",
     "exception": false,
     "start_time": "2023-08-03T03:03:38.357106",
     "status": "completed"
    },
    "tags": []
   },
   "source": [
    "**Community area which most crime prone**"
   ]
  },
  {
   "cell_type": "code",
   "execution_count": 12,
   "id": "fd3dc96a",
   "metadata": {
    "execution": {
     "iopub.execute_input": "2023-08-03T03:03:38.402049Z",
     "iopub.status.busy": "2023-08-03T03:03:38.401666Z",
     "iopub.status.idle": "2023-08-03T03:03:38.413092Z",
     "shell.execute_reply": "2023-08-03T03:03:38.411817Z"
    },
    "papermill": {
     "duration": 0.029681,
     "end_time": "2023-08-03T03:03:38.415410",
     "exception": false,
     "start_time": "2023-08-03T03:03:38.385729",
     "status": "completed"
    },
    "tags": []
   },
   "outputs": [
    {
     "name": "stdout",
     "output_type": "stream",
     "text": [
      " * sqlite:///FinalDB.db\n",
      "Done.\n"
     ]
    },
    {
     "data": {
      "text/html": [
       "<table>\n",
       "    <thead>\n",
       "        <tr>\n",
       "            <th>COMMUNITY_AREA_NUMBER</th>\n",
       "            <th>FREQUENCY</th>\n",
       "        </tr>\n",
       "    </thead>\n",
       "    <tbody>\n",
       "        <tr>\n",
       "            <td>25.0</td>\n",
       "            <td>43</td>\n",
       "        </tr>\n",
       "    </tbody>\n",
       "</table>"
      ],
      "text/plain": [
       "[(25.0, 43)]"
      ]
     },
     "execution_count": 12,
     "metadata": {},
     "output_type": "execute_result"
    }
   ],
   "source": [
    "%%sql\n",
    "SELECT COMMUNITY_AREA_NUMBER ,COUNT(COMMUNITY_AREA_NUMBER) AS FREQUENCY FROM CHICAGO_CRIME_DATA GROUP BY COMMUNITY_AREA_NUMBER\n",
    "ORDER BY COUNT(COMMUNITY_AREA_NUMBER) DESC\n",
    "LIMIT 1;"
   ]
  },
  {
   "cell_type": "markdown",
   "id": "6252c6a2",
   "metadata": {
    "papermill": {
     "duration": 0.014682,
     "end_time": "2023-08-03T03:03:38.445542",
     "exception": false,
     "start_time": "2023-08-03T03:03:38.430860",
     "status": "completed"
    },
    "tags": []
   },
   "source": [
    "**Sub-query to find the name of the community area with highest hardship index**"
   ]
  },
  {
   "cell_type": "code",
   "execution_count": 13,
   "id": "c77c2dc4",
   "metadata": {
    "execution": {
     "iopub.execute_input": "2023-08-03T03:03:38.476380Z",
     "iopub.status.busy": "2023-08-03T03:03:38.475995Z",
     "iopub.status.idle": "2023-08-03T03:03:38.486682Z",
     "shell.execute_reply": "2023-08-03T03:03:38.485452Z"
    },
    "papermill": {
     "duration": 0.028909,
     "end_time": "2023-08-03T03:03:38.488941",
     "exception": false,
     "start_time": "2023-08-03T03:03:38.460032",
     "status": "completed"
    },
    "tags": []
   },
   "outputs": [
    {
     "name": "stdout",
     "output_type": "stream",
     "text": [
      " * sqlite:///FinalDB.db\n",
      "Done.\n"
     ]
    },
    {
     "data": {
      "text/html": [
       "<table>\n",
       "    <thead>\n",
       "        <tr>\n",
       "            <th>COMMUNITY_AREA_NAME</th>\n",
       "        </tr>\n",
       "    </thead>\n",
       "    <tbody>\n",
       "        <tr>\n",
       "            <td>Riverdale</td>\n",
       "        </tr>\n",
       "    </tbody>\n",
       "</table>"
      ],
      "text/plain": [
       "[('Riverdale',)]"
      ]
     },
     "execution_count": 13,
     "metadata": {},
     "output_type": "execute_result"
    }
   ],
   "source": [
    "%%sql\n",
    "select community_area_name from chicago_census_data where hardship_index = (select max(hardship_index) from chicago_census_data);"
   ]
  },
  {
   "cell_type": "markdown",
   "id": "b194c932",
   "metadata": {
    "papermill": {
     "duration": 0.014921,
     "end_time": "2023-08-03T03:03:38.518632",
     "exception": false,
     "start_time": "2023-08-03T03:03:38.503711",
     "status": "completed"
    },
    "tags": []
   },
   "source": [
    "**Sub-query to determine the Community Area Name with most number of crimes?**"
   ]
  },
  {
   "cell_type": "code",
   "execution_count": 14,
   "id": "eef38064",
   "metadata": {
    "execution": {
     "iopub.execute_input": "2023-08-03T03:03:38.550342Z",
     "iopub.status.busy": "2023-08-03T03:03:38.549903Z",
     "iopub.status.idle": "2023-08-03T03:03:38.564281Z",
     "shell.execute_reply": "2023-08-03T03:03:38.562966Z"
    },
    "papermill": {
     "duration": 0.03352,
     "end_time": "2023-08-03T03:03:38.566799",
     "exception": false,
     "start_time": "2023-08-03T03:03:38.533279",
     "status": "completed"
    },
    "tags": []
   },
   "outputs": [
    {
     "name": "stdout",
     "output_type": "stream",
     "text": [
      " * sqlite:///FinalDB.db\n",
      "Done.\n"
     ]
    },
    {
     "data": {
      "text/html": [
       "<table>\n",
       "    <thead>\n",
       "        <tr>\n",
       "            <th>COMMUNITY_AREA_NAME</th>\n",
       "        </tr>\n",
       "    </thead>\n",
       "    <tbody>\n",
       "        <tr>\n",
       "            <td>Austin</td>\n",
       "        </tr>\n",
       "    </tbody>\n",
       "</table>"
      ],
      "text/plain": [
       "[('Austin',)]"
      ]
     },
     "execution_count": 14,
     "metadata": {},
     "output_type": "execute_result"
    }
   ],
   "source": [
    "%%sql\n",
    "select community_area_name from chicago_census_data where community_area_number = (select community_area_number from (select community_area_number, count(community_area_number) as count from chicago_crime_data group by community_area_number order by count desc limit 1));"
   ]
  },
  {
   "cell_type": "markdown",
   "id": "9a5d2bb7",
   "metadata": {
    "papermill": {
     "duration": 0.015128,
     "end_time": "2023-08-03T03:03:38.597910",
     "exception": false,
     "start_time": "2023-08-03T03:03:38.582782",
     "status": "completed"
    },
    "tags": []
   },
   "source": [
    "**List of school names, community names and average attendance for communities with a hardship index of 98.**"
   ]
  },
  {
   "cell_type": "code",
   "execution_count": 15,
   "id": "dc0d4a66",
   "metadata": {
    "execution": {
     "iopub.execute_input": "2023-08-03T03:03:38.631120Z",
     "iopub.status.busy": "2023-08-03T03:03:38.630081Z",
     "iopub.status.idle": "2023-08-03T03:03:38.641785Z",
     "shell.execute_reply": "2023-08-03T03:03:38.640960Z"
    },
    "papermill": {
     "duration": 0.030337,
     "end_time": "2023-08-03T03:03:38.643736",
     "exception": false,
     "start_time": "2023-08-03T03:03:38.613399",
     "status": "completed"
    },
    "tags": []
   },
   "outputs": [
    {
     "name": "stdout",
     "output_type": "stream",
     "text": [
      " * sqlite:///FinalDB.db\n",
      "Done.\n"
     ]
    },
    {
     "data": {
      "text/html": [
       "<table>\n",
       "    <thead>\n",
       "        <tr>\n",
       "            <th>NAME_OF_SCHOOL</th>\n",
       "            <th>COMMUNITY_AREA_NAME</th>\n",
       "            <th>AVERAGE_STUDENT_ATTENDANCE</th>\n",
       "        </tr>\n",
       "    </thead>\n",
       "    <tbody>\n",
       "        <tr>\n",
       "            <td>William E B Dubois Elementary School</td>\n",
       "            <td>RIVERDALE</td>\n",
       "            <td>93.30%</td>\n",
       "        </tr>\n",
       "    </tbody>\n",
       "</table>"
      ],
      "text/plain": [
       "[('William E B Dubois Elementary School', 'RIVERDALE', '93.30%')]"
      ]
     },
     "execution_count": 15,
     "metadata": {},
     "output_type": "execute_result"
    }
   ],
   "source": [
    "%%sql \n",
    "SELECT CPS.Name_of_School, CPS.Community_Area_Name, CPS.Average_Student_Attendance FROM chicago_public_schools_data as CPS JOIN chicago_census_data as CC ON CPS.Community_Area_Number = CC.Community_Area_Number WHERE CC.Hardship_Index = 98"
   ]
  },
  {
   "cell_type": "markdown",
   "id": "b10745b7",
   "metadata": {
    "papermill": {
     "duration": 0.015015,
     "end_time": "2023-08-03T03:03:38.674013",
     "exception": false,
     "start_time": "2023-08-03T03:03:38.658998",
     "status": "completed"
    },
    "tags": []
   },
   "source": [
    "**List of all crimes that took place at a school. Include case number, crime type and community name.**"
   ]
  },
  {
   "cell_type": "code",
   "execution_count": 16,
   "id": "043f5010",
   "metadata": {
    "execution": {
     "iopub.execute_input": "2023-08-03T03:03:38.706519Z",
     "iopub.status.busy": "2023-08-03T03:03:38.706111Z",
     "iopub.status.idle": "2023-08-03T03:03:38.717156Z",
     "shell.execute_reply": "2023-08-03T03:03:38.716231Z"
    },
    "papermill": {
     "duration": 0.030041,
     "end_time": "2023-08-03T03:03:38.719293",
     "exception": false,
     "start_time": "2023-08-03T03:03:38.689252",
     "status": "completed"
    },
    "tags": []
   },
   "outputs": [
    {
     "name": "stdout",
     "output_type": "stream",
     "text": [
      " * sqlite:///FinalDB.db\n",
      "Done.\n"
     ]
    },
    {
     "data": {
      "text/html": [
       "<table>\n",
       "    <thead>\n",
       "        <tr>\n",
       "            <th>CASE_NUMBER</th>\n",
       "            <th>PRIMARY_TYPE</th>\n",
       "            <th>COMMUNITY_AREA_NAME</th>\n",
       "            <th>NAME_OF_SCHOOL</th>\n",
       "        </tr>\n",
       "    </thead>\n",
       "    <tbody>\n",
       "        <tr>\n",
       "            <td>HK587712</td>\n",
       "            <td>THEFT</td>\n",
       "            <td>BRIGHTON PARK</td>\n",
       "            <td>Nathan S Davis Elementary School</td>\n",
       "        </tr>\n",
       "        <tr>\n",
       "            <td>HK587712</td>\n",
       "            <td>THEFT</td>\n",
       "            <td>BRIGHTON PARK</td>\n",
       "            <td>Thomas Kelly High School</td>\n",
       "        </tr>\n",
       "        <tr>\n",
       "            <td>HK456306</td>\n",
       "            <td>THEFT</td>\n",
       "            <td>HUMBOLDT PARK</td>\n",
       "            <td>Laura S Ward Elementary School</td>\n",
       "        </tr>\n",
       "        <tr>\n",
       "            <td>HK456306</td>\n",
       "            <td>THEFT</td>\n",
       "            <td>HUMBOLDT PARK</td>\n",
       "            <td>Martin A Ryerson Elementary School</td>\n",
       "        </tr>\n",
       "        <tr>\n",
       "            <td>HK456306</td>\n",
       "            <td>THEFT</td>\n",
       "            <td>HUMBOLDT PARK</td>\n",
       "            <td>Morton School of Excellence</td>\n",
       "        </tr>\n",
       "    </tbody>\n",
       "</table>"
      ],
      "text/plain": [
       "[('HK587712', 'THEFT', 'BRIGHTON PARK', 'Nathan S Davis Elementary School'),\n",
       " ('HK587712', 'THEFT', 'BRIGHTON PARK', 'Thomas Kelly High School'),\n",
       " ('HK456306', 'THEFT', 'HUMBOLDT PARK', 'Laura S Ward Elementary School'),\n",
       " ('HK456306', 'THEFT', 'HUMBOLDT PARK', 'Martin A Ryerson Elementary School'),\n",
       " ('HK456306', 'THEFT', 'HUMBOLDT PARK', 'Morton School of Excellence')]"
      ]
     },
     "execution_count": 16,
     "metadata": {},
     "output_type": "execute_result"
    }
   ],
   "source": [
    "%%sql\n",
    "SELECT\n",
    "  CD.Case_Number,\n",
    "  CD.Primary_Type,\n",
    "  CC.Community_Area_Name,\n",
    "  CC.NAME_OF_SCHOOL \n",
    "FROM\n",
    "  chicago_crime_data AS CD\n",
    "JOIN\n",
    "  chicago_public_schools_data AS CC ON CD.COMMUNITY_AREA_NUMBER = CC.COMMUNITY_AREA_NUMBER limit 5"
   ]
  },
  {
   "cell_type": "markdown",
   "id": "47669235",
   "metadata": {
    "papermill": {
     "duration": 0.015226,
     "end_time": "2023-08-03T03:03:38.750066",
     "exception": false,
     "start_time": "2023-08-03T03:03:38.734840",
     "status": "completed"
    },
    "tags": []
   },
   "source": [
    "**Creating view in database and check**"
   ]
  },
  {
   "cell_type": "code",
   "execution_count": 17,
   "id": "107f8d46",
   "metadata": {
    "execution": {
     "iopub.execute_input": "2023-08-03T03:03:38.783222Z",
     "iopub.status.busy": "2023-08-03T03:03:38.782783Z",
     "iopub.status.idle": "2023-08-03T03:03:38.810681Z",
     "shell.execute_reply": "2023-08-03T03:03:38.809590Z"
    },
    "papermill": {
     "duration": 0.047423,
     "end_time": "2023-08-03T03:03:38.813271",
     "exception": false,
     "start_time": "2023-08-03T03:03:38.765848",
     "status": "completed"
    },
    "tags": []
   },
   "outputs": [
    {
     "name": "stdout",
     "output_type": "stream",
     "text": [
      " * sqlite:///FinalDB.db\n",
      "Done.\n",
      "Done.\n"
     ]
    },
    {
     "data": {
      "text/plain": [
       "[]"
      ]
     },
     "execution_count": 17,
     "metadata": {},
     "output_type": "execute_result"
    }
   ],
   "source": [
    "%%sql\n",
    "DROP VIEW IF EXISTS school;\n",
    "CREATE VIEW school AS\n",
    "SELECT NAME_OF_SCHOOL AS School_Name, Safety_Icon AS Safety_Rating, Family_Involvement_Icon AS Family_rating, Environment_Icon as Environment_Rating, Instruction_Icon as Instruction_Rating, Leaders_Icon as Leaders_rating, Teachers_Icon as Teachers_Rating\n",
    "FROM chicago_public_schools_data;"
   ]
  },
  {
   "cell_type": "code",
   "execution_count": 18,
   "id": "6be1d79b",
   "metadata": {
    "execution": {
     "iopub.execute_input": "2023-08-03T03:03:38.848267Z",
     "iopub.status.busy": "2023-08-03T03:03:38.847853Z",
     "iopub.status.idle": "2023-08-03T03:03:38.858230Z",
     "shell.execute_reply": "2023-08-03T03:03:38.857039Z"
    },
    "papermill": {
     "duration": 0.031187,
     "end_time": "2023-08-03T03:03:38.861030",
     "exception": false,
     "start_time": "2023-08-03T03:03:38.829843",
     "status": "completed"
    },
    "tags": []
   },
   "outputs": [
    {
     "name": "stdout",
     "output_type": "stream",
     "text": [
      " * sqlite:///FinalDB.db\n",
      "Done.\n"
     ]
    },
    {
     "data": {
      "text/html": [
       "<table>\n",
       "    <thead>\n",
       "        <tr>\n",
       "            <th>School_Name</th>\n",
       "            <th>Safety_Rating</th>\n",
       "            <th>Family_rating</th>\n",
       "            <th>Environment_Rating</th>\n",
       "            <th>Instruction_Rating</th>\n",
       "            <th>Leaders_rating</th>\n",
       "            <th>Teachers_Rating</th>\n",
       "        </tr>\n",
       "    </thead>\n",
       "    <tbody>\n",
       "        <tr>\n",
       "            <td>John H Hamline Elementary School</td>\n",
       "            <td>Weak</td>\n",
       "            <td>Weak</td>\n",
       "            <td>Weak</td>\n",
       "            <td>Average</td>\n",
       "            <td>Weak</td>\n",
       "            <td>Weak</td>\n",
       "        </tr>\n",
       "        <tr>\n",
       "            <td>John H Kinzie Elementary School</td>\n",
       "            <td>Strong</td>\n",
       "            <td>NDA</td>\n",
       "            <td>Average</td>\n",
       "            <td>Average</td>\n",
       "            <td>Weak</td>\n",
       "            <td>NDA</td>\n",
       "        </tr>\n",
       "        <tr>\n",
       "            <td>John H Vanderpoel Elementary Magnet School</td>\n",
       "            <td>Strong</td>\n",
       "            <td>NDA</td>\n",
       "            <td>Weak</td>\n",
       "            <td>Weak</td>\n",
       "            <td>Weak</td>\n",
       "            <td>NDA</td>\n",
       "        </tr>\n",
       "    </tbody>\n",
       "</table>"
      ],
      "text/plain": [
       "[('John H Hamline Elementary School', 'Weak', 'Weak', 'Weak', 'Average', 'Weak', 'Weak'),\n",
       " ('John H Kinzie Elementary School', 'Strong', 'NDA', 'Average', 'Average', 'Weak', 'NDA'),\n",
       " ('John H Vanderpoel Elementary Magnet School', 'Strong', 'NDA', 'Weak', 'Weak', 'Weak', 'NDA')]"
      ]
     },
     "execution_count": 18,
     "metadata": {},
     "output_type": "execute_result"
    }
   ],
   "source": [
    "%%sql\n",
    "select * from school limit 3;"
   ]
  },
  {
   "cell_type": "markdown",
   "id": "ab72c825",
   "metadata": {
    "papermill": {
     "duration": 0.015731,
     "end_time": "2023-08-03T03:03:38.892894",
     "exception": false,
     "start_time": "2023-08-03T03:03:38.877163",
     "status": "completed"
    },
    "tags": []
   },
   "source": [
    "**School name and leaders rating from the view.**"
   ]
  },
  {
   "cell_type": "code",
   "execution_count": 19,
   "id": "f7215562",
   "metadata": {
    "execution": {
     "iopub.execute_input": "2023-08-03T03:03:38.927142Z",
     "iopub.status.busy": "2023-08-03T03:03:38.926727Z",
     "iopub.status.idle": "2023-08-03T03:03:38.935973Z",
     "shell.execute_reply": "2023-08-03T03:03:38.935044Z"
    },
    "papermill": {
     "duration": 0.029213,
     "end_time": "2023-08-03T03:03:38.938234",
     "exception": false,
     "start_time": "2023-08-03T03:03:38.909021",
     "status": "completed"
    },
    "tags": []
   },
   "outputs": [
    {
     "name": "stdout",
     "output_type": "stream",
     "text": [
      " * sqlite:///FinalDB.db\n",
      "Done.\n"
     ]
    },
    {
     "data": {
      "text/html": [
       "<table>\n",
       "    <thead>\n",
       "        <tr>\n",
       "            <th>School_Name</th>\n",
       "            <th>Leaders_rating</th>\n",
       "        </tr>\n",
       "    </thead>\n",
       "    <tbody>\n",
       "        <tr>\n",
       "            <td>John H Hamline Elementary School</td>\n",
       "            <td>Weak</td>\n",
       "        </tr>\n",
       "        <tr>\n",
       "            <td>John H Kinzie Elementary School</td>\n",
       "            <td>Weak</td>\n",
       "        </tr>\n",
       "        <tr>\n",
       "            <td>John H Vanderpoel Elementary Magnet School</td>\n",
       "            <td>Weak</td>\n",
       "        </tr>\n",
       "    </tbody>\n",
       "</table>"
      ],
      "text/plain": [
       "[('John H Hamline Elementary School', 'Weak'),\n",
       " ('John H Kinzie Elementary School', 'Weak'),\n",
       " ('John H Vanderpoel Elementary Magnet School', 'Weak')]"
      ]
     },
     "execution_count": 19,
     "metadata": {},
     "output_type": "execute_result"
    }
   ],
   "source": [
    "%%sql\n",
    "select School_Name, Leaders_Rating from school limit 3;"
   ]
  },
  {
   "cell_type": "markdown",
   "id": "f737e37c",
   "metadata": {
    "papermill": {
     "duration": 0.017117,
     "end_time": "2023-08-03T03:03:38.972470",
     "exception": false,
     "start_time": "2023-08-03T03:03:38.955353",
     "status": "completed"
    },
    "tags": []
   },
   "source": [
    "Copyright © 2020 This notebook and its source code are released under the terms of the [MIT License](https://bigdatauniversity.com/mit-license?utm_medium=Exinfluencer&utm_source=Exinfluencer&utm_content=000026UJ&utm_term=10006555&utm_id=NA-SkillsNetwork-Channel-SkillsNetworkCoursesIBMDeveloperSkillsNetworkDB0201ENSkillsNetwork20127838-2021-01-01&cm_mmc=Email_Newsletter-_-Developer_Ed%2BTech-_-WW_WW-_-SkillsNetwork-Courses-IBMDeveloperSkillsNetwork-DB0201EN-SkillsNetwork-20127838&cm_mmca1=000026UJ&cm_mmca2=10006555&cm_mmca3=M12345678&cvosrc=email.Newsletter.M12345678&cvo_campaign=000026UJ).\n"
   ]
  }
 ],
 "metadata": {
  "kernelspec": {
   "display_name": "Python 3",
   "language": "python",
   "name": "python3"
  },
  "language_info": {
   "codemirror_mode": {
    "name": "ipython",
    "version": 3
   },
   "file_extension": ".py",
   "mimetype": "text/x-python",
   "name": "python",
   "nbconvert_exporter": "python",
   "pygments_lexer": "ipython3",
   "version": "3.10.12"
  },
  "papermill": {
   "default_parameters": {},
   "duration": 44.540241,
   "end_time": "2023-08-03T03:03:39.911817",
   "environment_variables": {},
   "exception": null,
   "input_path": "__notebook__.ipynb",
   "output_path": "__notebook__.ipynb",
   "parameters": {},
   "start_time": "2023-08-03T03:02:55.371576",
   "version": "2.4.0"
  }
 },
 "nbformat": 4,
 "nbformat_minor": 5
}
