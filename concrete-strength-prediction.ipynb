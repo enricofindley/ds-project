{
 "cells": [
  {
   "cell_type": "markdown",
   "id": "ccb3e008",
   "metadata": {
    "papermill": {
     "duration": 0.005707,
     "end_time": "2023-08-04T02:44:43.563451",
     "exception": false,
     "start_time": "2023-08-04T02:44:43.557744",
     "status": "completed"
    },
    "tags": []
   },
   "source": [
    "<a id=\"item31\"></a>\n"
   ]
  },
  {
   "cell_type": "markdown",
   "id": "2c173e9f",
   "metadata": {
    "papermill": {
     "duration": 0.004922,
     "end_time": "2023-08-04T02:44:43.573692",
     "exception": false,
     "start_time": "2023-08-04T02:44:43.568770",
     "status": "completed"
    },
    "tags": []
   },
   "source": [
    "# Importing Libraries"
   ]
  },
  {
   "cell_type": "code",
   "execution_count": 1,
   "id": "c3c4e05b",
   "metadata": {
    "execution": {
     "iopub.execute_input": "2023-08-04T02:44:43.586792Z",
     "iopub.status.busy": "2023-08-04T02:44:43.585889Z",
     "iopub.status.idle": "2023-08-04T02:44:52.850142Z",
     "shell.execute_reply": "2023-08-04T02:44:52.849192Z"
    },
    "papermill": {
     "duration": 9.273707,
     "end_time": "2023-08-04T02:44:52.852638",
     "exception": false,
     "start_time": "2023-08-04T02:44:43.578931",
     "status": "completed"
    },
    "tags": []
   },
   "outputs": [
    {
     "name": "stderr",
     "output_type": "stream",
     "text": [
      "/opt/conda/lib/python3.10/site-packages/scipy/__init__.py:146: UserWarning: A NumPy version >=1.16.5 and <1.23.0 is required for this version of SciPy (detected version 1.23.5\n",
      "  warnings.warn(f\"A NumPy version >={np_minversion} and <{np_maxversion}\"\n",
      "/opt/conda/lib/python3.10/site-packages/tensorflow_io/python/ops/__init__.py:98: UserWarning: unable to load libtensorflow_io_plugins.so: unable to open file: libtensorflow_io_plugins.so, from paths: ['/opt/conda/lib/python3.10/site-packages/tensorflow_io/python/ops/libtensorflow_io_plugins.so']\n",
      "caused by: ['/opt/conda/lib/python3.10/site-packages/tensorflow_io/python/ops/libtensorflow_io_plugins.so: undefined symbol: _ZN3tsl6StatusC1EN10tensorflow5error4CodeESt17basic_string_viewIcSt11char_traitsIcEENS_14SourceLocationE']\n",
      "  warnings.warn(f\"unable to load libtensorflow_io_plugins.so: {e}\")\n",
      "/opt/conda/lib/python3.10/site-packages/tensorflow_io/python/ops/__init__.py:104: UserWarning: file system plugins are not loaded: unable to open file: libtensorflow_io.so, from paths: ['/opt/conda/lib/python3.10/site-packages/tensorflow_io/python/ops/libtensorflow_io.so']\n",
      "caused by: ['/opt/conda/lib/python3.10/site-packages/tensorflow_io/python/ops/libtensorflow_io.so: undefined symbol: _ZTVN10tensorflow13GcsFileSystemE']\n",
      "  warnings.warn(f\"file system plugins are not loaded: {e}\")\n"
     ]
    }
   ],
   "source": [
    "import warnings\n",
    "# Ignore ImportWarning\n",
    "warnings.filterwarnings(\"ignore\", category=ImportWarning)\n",
    "\n",
    "import pandas as pd\n",
    "import numpy as np\n",
    "import keras\n",
    "from keras.models import Sequential\n",
    "from keras.layers import Dense\n",
    "from sklearn.model_selection import train_test_split\n",
    "from sklearn.metrics import mean_squared_error"
   ]
  },
  {
   "cell_type": "markdown",
   "id": "e57431d1",
   "metadata": {
    "papermill": {
     "duration": 0.005235,
     "end_time": "2023-08-04T02:44:52.863569",
     "exception": false,
     "start_time": "2023-08-04T02:44:52.858334",
     "status": "completed"
    },
    "tags": []
   },
   "source": [
    "\n",
    "\n",
    "<strong>The dataset is about the compressive strength of different samples of concrete based on the volumes of the different ingredients that were used to make them. Ingredients include:</strong>\n",
    "\n",
    "<strong>1. Cement</strong>\n",
    "\n",
    "<strong>2. Blast Furnace Slag</strong>\n",
    "\n",
    "<strong>3. Fly Ash</strong>\n",
    "\n",
    "<strong>4. Water</strong>\n",
    "\n",
    "<strong>5. Superplasticizer</strong>\n",
    "\n",
    "<strong>6. Coarse Aggregate</strong>\n",
    "\n",
    "<strong>7. Fine Aggregate</strong>\n"
   ]
  },
  {
   "cell_type": "markdown",
   "id": "e82decc5",
   "metadata": {
    "papermill": {
     "duration": 0.00518,
     "end_time": "2023-08-04T02:44:52.874180",
     "exception": false,
     "start_time": "2023-08-04T02:44:52.869000",
     "status": "completed"
    },
    "tags": []
   },
   "source": [
    "Let's download the data and read it into a <em>pandas</em> dataframe.\n"
   ]
  },
  {
   "cell_type": "code",
   "execution_count": 2,
   "id": "d23956f6",
   "metadata": {
    "execution": {
     "iopub.execute_input": "2023-08-04T02:44:52.887648Z",
     "iopub.status.busy": "2023-08-04T02:44:52.886536Z",
     "iopub.status.idle": "2023-08-04T02:44:54.046036Z",
     "shell.execute_reply": "2023-08-04T02:44:54.045081Z"
    },
    "papermill": {
     "duration": 1.168524,
     "end_time": "2023-08-04T02:44:54.048092",
     "exception": false,
     "start_time": "2023-08-04T02:44:52.879568",
     "status": "completed"
    },
    "tags": []
   },
   "outputs": [
    {
     "data": {
      "text/html": [
       "<div>\n",
       "<style scoped>\n",
       "    .dataframe tbody tr th:only-of-type {\n",
       "        vertical-align: middle;\n",
       "    }\n",
       "\n",
       "    .dataframe tbody tr th {\n",
       "        vertical-align: top;\n",
       "    }\n",
       "\n",
       "    .dataframe thead th {\n",
       "        text-align: right;\n",
       "    }\n",
       "</style>\n",
       "<table border=\"1\" class=\"dataframe\">\n",
       "  <thead>\n",
       "    <tr style=\"text-align: right;\">\n",
       "      <th></th>\n",
       "      <th>Cement</th>\n",
       "      <th>Blast Furnace Slag</th>\n",
       "      <th>Fly Ash</th>\n",
       "      <th>Water</th>\n",
       "      <th>Superplasticizer</th>\n",
       "      <th>Coarse Aggregate</th>\n",
       "      <th>Fine Aggregate</th>\n",
       "      <th>Age</th>\n",
       "      <th>Strength</th>\n",
       "    </tr>\n",
       "  </thead>\n",
       "  <tbody>\n",
       "    <tr>\n",
       "      <th>0</th>\n",
       "      <td>540.0</td>\n",
       "      <td>0.0</td>\n",
       "      <td>0.0</td>\n",
       "      <td>162.0</td>\n",
       "      <td>2.5</td>\n",
       "      <td>1040.0</td>\n",
       "      <td>676.0</td>\n",
       "      <td>28</td>\n",
       "      <td>79.99</td>\n",
       "    </tr>\n",
       "    <tr>\n",
       "      <th>1</th>\n",
       "      <td>540.0</td>\n",
       "      <td>0.0</td>\n",
       "      <td>0.0</td>\n",
       "      <td>162.0</td>\n",
       "      <td>2.5</td>\n",
       "      <td>1055.0</td>\n",
       "      <td>676.0</td>\n",
       "      <td>28</td>\n",
       "      <td>61.89</td>\n",
       "    </tr>\n",
       "    <tr>\n",
       "      <th>2</th>\n",
       "      <td>332.5</td>\n",
       "      <td>142.5</td>\n",
       "      <td>0.0</td>\n",
       "      <td>228.0</td>\n",
       "      <td>0.0</td>\n",
       "      <td>932.0</td>\n",
       "      <td>594.0</td>\n",
       "      <td>270</td>\n",
       "      <td>40.27</td>\n",
       "    </tr>\n",
       "    <tr>\n",
       "      <th>3</th>\n",
       "      <td>332.5</td>\n",
       "      <td>142.5</td>\n",
       "      <td>0.0</td>\n",
       "      <td>228.0</td>\n",
       "      <td>0.0</td>\n",
       "      <td>932.0</td>\n",
       "      <td>594.0</td>\n",
       "      <td>365</td>\n",
       "      <td>41.05</td>\n",
       "    </tr>\n",
       "    <tr>\n",
       "      <th>4</th>\n",
       "      <td>198.6</td>\n",
       "      <td>132.4</td>\n",
       "      <td>0.0</td>\n",
       "      <td>192.0</td>\n",
       "      <td>0.0</td>\n",
       "      <td>978.4</td>\n",
       "      <td>825.5</td>\n",
       "      <td>360</td>\n",
       "      <td>44.30</td>\n",
       "    </tr>\n",
       "  </tbody>\n",
       "</table>\n",
       "</div>"
      ],
      "text/plain": [
       "   Cement  Blast Furnace Slag  Fly Ash  Water  Superplasticizer  \\\n",
       "0   540.0                 0.0      0.0  162.0               2.5   \n",
       "1   540.0                 0.0      0.0  162.0               2.5   \n",
       "2   332.5               142.5      0.0  228.0               0.0   \n",
       "3   332.5               142.5      0.0  228.0               0.0   \n",
       "4   198.6               132.4      0.0  192.0               0.0   \n",
       "\n",
       "   Coarse Aggregate  Fine Aggregate  Age  Strength  \n",
       "0            1040.0           676.0   28     79.99  \n",
       "1            1055.0           676.0   28     61.89  \n",
       "2             932.0           594.0  270     40.27  \n",
       "3             932.0           594.0  365     41.05  \n",
       "4             978.4           825.5  360     44.30  "
      ]
     },
     "execution_count": 2,
     "metadata": {},
     "output_type": "execute_result"
    }
   ],
   "source": [
    "concrete_data = pd.read_csv('https://s3-api.us-geo.objectstorage.softlayer.net/cf-courses-data/CognitiveClass/DL0101EN/labs/data/concrete_data.csv')\n",
    "concrete_data.head()"
   ]
  },
  {
   "cell_type": "markdown",
   "id": "7c6c7da3",
   "metadata": {
    "papermill": {
     "duration": 0.005438,
     "end_time": "2023-08-04T02:44:54.059392",
     "exception": false,
     "start_time": "2023-08-04T02:44:54.053954",
     "status": "completed"
    },
    "tags": []
   },
   "source": [
    "So the first concrete sample has 540 cubic meter of cement, 0 cubic meter of blast furnace slag, 0 cubic meter of fly ash, 162 cubic meter of water, 2.5 cubic meter of superplaticizer, 1040 cubic meter of coarse aggregate, 676 cubic meter of fine aggregate. Such a concrete mix which is 28 days old, has a compressive strength of 79.99 MPa. \n"
   ]
  },
  {
   "cell_type": "markdown",
   "id": "cee4107a",
   "metadata": {
    "papermill": {
     "duration": 0.006732,
     "end_time": "2023-08-04T02:44:54.071812",
     "exception": false,
     "start_time": "2023-08-04T02:44:54.065080",
     "status": "completed"
    },
    "tags": []
   },
   "source": [
    "# EDA"
   ]
  },
  {
   "cell_type": "code",
   "execution_count": 3,
   "id": "cd8164bf",
   "metadata": {
    "execution": {
     "iopub.execute_input": "2023-08-04T02:44:54.085690Z",
     "iopub.status.busy": "2023-08-04T02:44:54.085019Z",
     "iopub.status.idle": "2023-08-04T02:44:54.090393Z",
     "shell.execute_reply": "2023-08-04T02:44:54.089664Z"
    },
    "papermill": {
     "duration": 0.014285,
     "end_time": "2023-08-04T02:44:54.092215",
     "exception": false,
     "start_time": "2023-08-04T02:44:54.077930",
     "status": "completed"
    },
    "tags": []
   },
   "outputs": [
    {
     "data": {
      "text/plain": [
       "(1030, 9)"
      ]
     },
     "execution_count": 3,
     "metadata": {},
     "output_type": "execute_result"
    }
   ],
   "source": [
    "# Check size of the data\n",
    "concrete_data.shape"
   ]
  },
  {
   "cell_type": "code",
   "execution_count": 4,
   "id": "5bf6e103",
   "metadata": {
    "execution": {
     "iopub.execute_input": "2023-08-04T02:44:54.105952Z",
     "iopub.status.busy": "2023-08-04T02:44:54.105290Z",
     "iopub.status.idle": "2023-08-04T02:44:54.148285Z",
     "shell.execute_reply": "2023-08-04T02:44:54.147059Z"
    },
    "papermill": {
     "duration": 0.05244,
     "end_time": "2023-08-04T02:44:54.150512",
     "exception": false,
     "start_time": "2023-08-04T02:44:54.098072",
     "status": "completed"
    },
    "tags": []
   },
   "outputs": [
    {
     "data": {
      "text/html": [
       "<div>\n",
       "<style scoped>\n",
       "    .dataframe tbody tr th:only-of-type {\n",
       "        vertical-align: middle;\n",
       "    }\n",
       "\n",
       "    .dataframe tbody tr th {\n",
       "        vertical-align: top;\n",
       "    }\n",
       "\n",
       "    .dataframe thead th {\n",
       "        text-align: right;\n",
       "    }\n",
       "</style>\n",
       "<table border=\"1\" class=\"dataframe\">\n",
       "  <thead>\n",
       "    <tr style=\"text-align: right;\">\n",
       "      <th></th>\n",
       "      <th>Cement</th>\n",
       "      <th>Blast Furnace Slag</th>\n",
       "      <th>Fly Ash</th>\n",
       "      <th>Water</th>\n",
       "      <th>Superplasticizer</th>\n",
       "      <th>Coarse Aggregate</th>\n",
       "      <th>Fine Aggregate</th>\n",
       "      <th>Age</th>\n",
       "      <th>Strength</th>\n",
       "    </tr>\n",
       "  </thead>\n",
       "  <tbody>\n",
       "    <tr>\n",
       "      <th>count</th>\n",
       "      <td>1030.000000</td>\n",
       "      <td>1030.000000</td>\n",
       "      <td>1030.000000</td>\n",
       "      <td>1030.000000</td>\n",
       "      <td>1030.000000</td>\n",
       "      <td>1030.000000</td>\n",
       "      <td>1030.000000</td>\n",
       "      <td>1030.000000</td>\n",
       "      <td>1030.000000</td>\n",
       "    </tr>\n",
       "    <tr>\n",
       "      <th>mean</th>\n",
       "      <td>281.167864</td>\n",
       "      <td>73.895825</td>\n",
       "      <td>54.188350</td>\n",
       "      <td>181.567282</td>\n",
       "      <td>6.204660</td>\n",
       "      <td>972.918932</td>\n",
       "      <td>773.580485</td>\n",
       "      <td>45.662136</td>\n",
       "      <td>35.817961</td>\n",
       "    </tr>\n",
       "    <tr>\n",
       "      <th>std</th>\n",
       "      <td>104.506364</td>\n",
       "      <td>86.279342</td>\n",
       "      <td>63.997004</td>\n",
       "      <td>21.354219</td>\n",
       "      <td>5.973841</td>\n",
       "      <td>77.753954</td>\n",
       "      <td>80.175980</td>\n",
       "      <td>63.169912</td>\n",
       "      <td>16.705742</td>\n",
       "    </tr>\n",
       "    <tr>\n",
       "      <th>min</th>\n",
       "      <td>102.000000</td>\n",
       "      <td>0.000000</td>\n",
       "      <td>0.000000</td>\n",
       "      <td>121.800000</td>\n",
       "      <td>0.000000</td>\n",
       "      <td>801.000000</td>\n",
       "      <td>594.000000</td>\n",
       "      <td>1.000000</td>\n",
       "      <td>2.330000</td>\n",
       "    </tr>\n",
       "    <tr>\n",
       "      <th>25%</th>\n",
       "      <td>192.375000</td>\n",
       "      <td>0.000000</td>\n",
       "      <td>0.000000</td>\n",
       "      <td>164.900000</td>\n",
       "      <td>0.000000</td>\n",
       "      <td>932.000000</td>\n",
       "      <td>730.950000</td>\n",
       "      <td>7.000000</td>\n",
       "      <td>23.710000</td>\n",
       "    </tr>\n",
       "    <tr>\n",
       "      <th>50%</th>\n",
       "      <td>272.900000</td>\n",
       "      <td>22.000000</td>\n",
       "      <td>0.000000</td>\n",
       "      <td>185.000000</td>\n",
       "      <td>6.400000</td>\n",
       "      <td>968.000000</td>\n",
       "      <td>779.500000</td>\n",
       "      <td>28.000000</td>\n",
       "      <td>34.445000</td>\n",
       "    </tr>\n",
       "    <tr>\n",
       "      <th>75%</th>\n",
       "      <td>350.000000</td>\n",
       "      <td>142.950000</td>\n",
       "      <td>118.300000</td>\n",
       "      <td>192.000000</td>\n",
       "      <td>10.200000</td>\n",
       "      <td>1029.400000</td>\n",
       "      <td>824.000000</td>\n",
       "      <td>56.000000</td>\n",
       "      <td>46.135000</td>\n",
       "    </tr>\n",
       "    <tr>\n",
       "      <th>max</th>\n",
       "      <td>540.000000</td>\n",
       "      <td>359.400000</td>\n",
       "      <td>200.100000</td>\n",
       "      <td>247.000000</td>\n",
       "      <td>32.200000</td>\n",
       "      <td>1145.000000</td>\n",
       "      <td>992.600000</td>\n",
       "      <td>365.000000</td>\n",
       "      <td>82.600000</td>\n",
       "    </tr>\n",
       "  </tbody>\n",
       "</table>\n",
       "</div>"
      ],
      "text/plain": [
       "            Cement  Blast Furnace Slag      Fly Ash        Water  \\\n",
       "count  1030.000000         1030.000000  1030.000000  1030.000000   \n",
       "mean    281.167864           73.895825    54.188350   181.567282   \n",
       "std     104.506364           86.279342    63.997004    21.354219   \n",
       "min     102.000000            0.000000     0.000000   121.800000   \n",
       "25%     192.375000            0.000000     0.000000   164.900000   \n",
       "50%     272.900000           22.000000     0.000000   185.000000   \n",
       "75%     350.000000          142.950000   118.300000   192.000000   \n",
       "max     540.000000          359.400000   200.100000   247.000000   \n",
       "\n",
       "       Superplasticizer  Coarse Aggregate  Fine Aggregate          Age  \\\n",
       "count       1030.000000       1030.000000     1030.000000  1030.000000   \n",
       "mean           6.204660        972.918932      773.580485    45.662136   \n",
       "std            5.973841         77.753954       80.175980    63.169912   \n",
       "min            0.000000        801.000000      594.000000     1.000000   \n",
       "25%            0.000000        932.000000      730.950000     7.000000   \n",
       "50%            6.400000        968.000000      779.500000    28.000000   \n",
       "75%           10.200000       1029.400000      824.000000    56.000000   \n",
       "max           32.200000       1145.000000      992.600000   365.000000   \n",
       "\n",
       "          Strength  \n",
       "count  1030.000000  \n",
       "mean     35.817961  \n",
       "std      16.705742  \n",
       "min       2.330000  \n",
       "25%      23.710000  \n",
       "50%      34.445000  \n",
       "75%      46.135000  \n",
       "max      82.600000  "
      ]
     },
     "execution_count": 4,
     "metadata": {},
     "output_type": "execute_result"
    }
   ],
   "source": [
    "# describe the data\n",
    "concrete_data.describe()"
   ]
  },
  {
   "cell_type": "code",
   "execution_count": 5,
   "id": "97516bc4",
   "metadata": {
    "execution": {
     "iopub.execute_input": "2023-08-04T02:44:54.164814Z",
     "iopub.status.busy": "2023-08-04T02:44:54.164383Z",
     "iopub.status.idle": "2023-08-04T02:44:54.174725Z",
     "shell.execute_reply": "2023-08-04T02:44:54.173646Z"
    },
    "papermill": {
     "duration": 0.020084,
     "end_time": "2023-08-04T02:44:54.176845",
     "exception": false,
     "start_time": "2023-08-04T02:44:54.156761",
     "status": "completed"
    },
    "tags": []
   },
   "outputs": [
    {
     "data": {
      "text/plain": [
       "Cement                0\n",
       "Blast Furnace Slag    0\n",
       "Fly Ash               0\n",
       "Water                 0\n",
       "Superplasticizer      0\n",
       "Coarse Aggregate      0\n",
       "Fine Aggregate        0\n",
       "Age                   0\n",
       "Strength              0\n",
       "dtype: int64"
      ]
     },
     "execution_count": 5,
     "metadata": {},
     "output_type": "execute_result"
    }
   ],
   "source": [
    "# check null values\n",
    "concrete_data.isnull().sum()"
   ]
  },
  {
   "cell_type": "markdown",
   "id": "780c59e5",
   "metadata": {
    "papermill": {
     "duration": 0.005962,
     "end_time": "2023-08-04T02:44:54.189138",
     "exception": false,
     "start_time": "2023-08-04T02:44:54.183176",
     "status": "completed"
    },
    "tags": []
   },
   "source": [
    "# Data Pre-processing"
   ]
  },
  {
   "cell_type": "markdown",
   "id": "060b785b",
   "metadata": {
    "papermill": {
     "duration": 0.006564,
     "end_time": "2023-08-04T02:44:54.202390",
     "exception": false,
     "start_time": "2023-08-04T02:44:54.195826",
     "status": "completed"
    },
    "tags": []
   },
   "source": [
    "#### Split data into predictors and target\n"
   ]
  },
  {
   "cell_type": "markdown",
   "id": "31705114",
   "metadata": {
    "papermill": {
     "duration": 0.006768,
     "end_time": "2023-08-04T02:44:54.216076",
     "exception": false,
     "start_time": "2023-08-04T02:44:54.209308",
     "status": "completed"
    },
    "tags": []
   },
   "source": [
    "The target variable in this problem is the concrete sample strength. Therefore, our predictors will be all the other columns.\n"
   ]
  },
  {
   "cell_type": "code",
   "execution_count": 6,
   "id": "563059c9",
   "metadata": {
    "execution": {
     "iopub.execute_input": "2023-08-04T02:44:54.234190Z",
     "iopub.status.busy": "2023-08-04T02:44:54.233319Z",
     "iopub.status.idle": "2023-08-04T02:44:54.247683Z",
     "shell.execute_reply": "2023-08-04T02:44:54.246701Z"
    },
    "papermill": {
     "duration": 0.025261,
     "end_time": "2023-08-04T02:44:54.250755",
     "exception": false,
     "start_time": "2023-08-04T02:44:54.225494",
     "status": "completed"
    },
    "tags": []
   },
   "outputs": [],
   "source": [
    "concrete_data_columns = concrete_data.columns\n",
    "\n",
    "predictors = concrete_data[concrete_data_columns[concrete_data_columns != 'Strength']] # all columns except Strength\n",
    "target = concrete_data['Strength'] # Strength column"
   ]
  },
  {
   "cell_type": "code",
   "execution_count": 7,
   "id": "f50f6ae9",
   "metadata": {
    "execution": {
     "iopub.execute_input": "2023-08-04T02:44:54.272132Z",
     "iopub.status.busy": "2023-08-04T02:44:54.271392Z",
     "iopub.status.idle": "2023-08-04T02:44:54.286677Z",
     "shell.execute_reply": "2023-08-04T02:44:54.285799Z"
    },
    "papermill": {
     "duration": 0.029015,
     "end_time": "2023-08-04T02:44:54.289349",
     "exception": false,
     "start_time": "2023-08-04T02:44:54.260334",
     "status": "completed"
    },
    "tags": []
   },
   "outputs": [
    {
     "data": {
      "text/html": [
       "<div>\n",
       "<style scoped>\n",
       "    .dataframe tbody tr th:only-of-type {\n",
       "        vertical-align: middle;\n",
       "    }\n",
       "\n",
       "    .dataframe tbody tr th {\n",
       "        vertical-align: top;\n",
       "    }\n",
       "\n",
       "    .dataframe thead th {\n",
       "        text-align: right;\n",
       "    }\n",
       "</style>\n",
       "<table border=\"1\" class=\"dataframe\">\n",
       "  <thead>\n",
       "    <tr style=\"text-align: right;\">\n",
       "      <th></th>\n",
       "      <th>Cement</th>\n",
       "      <th>Blast Furnace Slag</th>\n",
       "      <th>Fly Ash</th>\n",
       "      <th>Water</th>\n",
       "      <th>Superplasticizer</th>\n",
       "      <th>Coarse Aggregate</th>\n",
       "      <th>Fine Aggregate</th>\n",
       "      <th>Age</th>\n",
       "    </tr>\n",
       "  </thead>\n",
       "  <tbody>\n",
       "    <tr>\n",
       "      <th>0</th>\n",
       "      <td>540.0</td>\n",
       "      <td>0.0</td>\n",
       "      <td>0.0</td>\n",
       "      <td>162.0</td>\n",
       "      <td>2.5</td>\n",
       "      <td>1040.0</td>\n",
       "      <td>676.0</td>\n",
       "      <td>28</td>\n",
       "    </tr>\n",
       "    <tr>\n",
       "      <th>1</th>\n",
       "      <td>540.0</td>\n",
       "      <td>0.0</td>\n",
       "      <td>0.0</td>\n",
       "      <td>162.0</td>\n",
       "      <td>2.5</td>\n",
       "      <td>1055.0</td>\n",
       "      <td>676.0</td>\n",
       "      <td>28</td>\n",
       "    </tr>\n",
       "    <tr>\n",
       "      <th>2</th>\n",
       "      <td>332.5</td>\n",
       "      <td>142.5</td>\n",
       "      <td>0.0</td>\n",
       "      <td>228.0</td>\n",
       "      <td>0.0</td>\n",
       "      <td>932.0</td>\n",
       "      <td>594.0</td>\n",
       "      <td>270</td>\n",
       "    </tr>\n",
       "    <tr>\n",
       "      <th>3</th>\n",
       "      <td>332.5</td>\n",
       "      <td>142.5</td>\n",
       "      <td>0.0</td>\n",
       "      <td>228.0</td>\n",
       "      <td>0.0</td>\n",
       "      <td>932.0</td>\n",
       "      <td>594.0</td>\n",
       "      <td>365</td>\n",
       "    </tr>\n",
       "    <tr>\n",
       "      <th>4</th>\n",
       "      <td>198.6</td>\n",
       "      <td>132.4</td>\n",
       "      <td>0.0</td>\n",
       "      <td>192.0</td>\n",
       "      <td>0.0</td>\n",
       "      <td>978.4</td>\n",
       "      <td>825.5</td>\n",
       "      <td>360</td>\n",
       "    </tr>\n",
       "  </tbody>\n",
       "</table>\n",
       "</div>"
      ],
      "text/plain": [
       "   Cement  Blast Furnace Slag  Fly Ash  Water  Superplasticizer  \\\n",
       "0   540.0                 0.0      0.0  162.0               2.5   \n",
       "1   540.0                 0.0      0.0  162.0               2.5   \n",
       "2   332.5               142.5      0.0  228.0               0.0   \n",
       "3   332.5               142.5      0.0  228.0               0.0   \n",
       "4   198.6               132.4      0.0  192.0               0.0   \n",
       "\n",
       "   Coarse Aggregate  Fine Aggregate  Age  \n",
       "0            1040.0           676.0   28  \n",
       "1            1055.0           676.0   28  \n",
       "2             932.0           594.0  270  \n",
       "3             932.0           594.0  365  \n",
       "4             978.4           825.5  360  "
      ]
     },
     "execution_count": 7,
     "metadata": {},
     "output_type": "execute_result"
    }
   ],
   "source": [
    "predictors.head()"
   ]
  },
  {
   "cell_type": "code",
   "execution_count": 8,
   "id": "815733f7",
   "metadata": {
    "execution": {
     "iopub.execute_input": "2023-08-04T02:44:54.307441Z",
     "iopub.status.busy": "2023-08-04T02:44:54.307014Z",
     "iopub.status.idle": "2023-08-04T02:44:54.323073Z",
     "shell.execute_reply": "2023-08-04T02:44:54.322297Z"
    },
    "papermill": {
     "duration": 0.026318,
     "end_time": "2023-08-04T02:44:54.325520",
     "exception": false,
     "start_time": "2023-08-04T02:44:54.299202",
     "status": "completed"
    },
    "tags": []
   },
   "outputs": [
    {
     "data": {
      "text/plain": [
       "0    79.99\n",
       "1    61.89\n",
       "2    40.27\n",
       "3    41.05\n",
       "4    44.30\n",
       "Name: Strength, dtype: float64"
      ]
     },
     "execution_count": 8,
     "metadata": {},
     "output_type": "execute_result"
    }
   ],
   "source": [
    "target.head()"
   ]
  },
  {
   "cell_type": "markdown",
   "id": "ca84ab42",
   "metadata": {
    "papermill": {
     "duration": 0.009629,
     "end_time": "2023-08-04T02:44:54.345132",
     "exception": false,
     "start_time": "2023-08-04T02:44:54.335503",
     "status": "completed"
    },
    "tags": []
   },
   "source": [
    "Normalize the data"
   ]
  },
  {
   "cell_type": "code",
   "execution_count": 9,
   "id": "8aa4cede",
   "metadata": {
    "execution": {
     "iopub.execute_input": "2023-08-04T02:44:54.367206Z",
     "iopub.status.busy": "2023-08-04T02:44:54.366480Z",
     "iopub.status.idle": "2023-08-04T02:44:54.382621Z",
     "shell.execute_reply": "2023-08-04T02:44:54.381844Z"
    },
    "papermill": {
     "duration": 0.029844,
     "end_time": "2023-08-04T02:44:54.385170",
     "exception": false,
     "start_time": "2023-08-04T02:44:54.355326",
     "status": "completed"
    },
    "tags": []
   },
   "outputs": [
    {
     "data": {
      "text/html": [
       "<div>\n",
       "<style scoped>\n",
       "    .dataframe tbody tr th:only-of-type {\n",
       "        vertical-align: middle;\n",
       "    }\n",
       "\n",
       "    .dataframe tbody tr th {\n",
       "        vertical-align: top;\n",
       "    }\n",
       "\n",
       "    .dataframe thead th {\n",
       "        text-align: right;\n",
       "    }\n",
       "</style>\n",
       "<table border=\"1\" class=\"dataframe\">\n",
       "  <thead>\n",
       "    <tr style=\"text-align: right;\">\n",
       "      <th></th>\n",
       "      <th>Cement</th>\n",
       "      <th>Blast Furnace Slag</th>\n",
       "      <th>Fly Ash</th>\n",
       "      <th>Water</th>\n",
       "      <th>Superplasticizer</th>\n",
       "      <th>Coarse Aggregate</th>\n",
       "      <th>Fine Aggregate</th>\n",
       "      <th>Age</th>\n",
       "    </tr>\n",
       "  </thead>\n",
       "  <tbody>\n",
       "    <tr>\n",
       "      <th>0</th>\n",
       "      <td>2.476712</td>\n",
       "      <td>-0.856472</td>\n",
       "      <td>-0.846733</td>\n",
       "      <td>-0.916319</td>\n",
       "      <td>-0.620147</td>\n",
       "      <td>0.862735</td>\n",
       "      <td>-1.217079</td>\n",
       "      <td>-0.279597</td>\n",
       "    </tr>\n",
       "    <tr>\n",
       "      <th>1</th>\n",
       "      <td>2.476712</td>\n",
       "      <td>-0.856472</td>\n",
       "      <td>-0.846733</td>\n",
       "      <td>-0.916319</td>\n",
       "      <td>-0.620147</td>\n",
       "      <td>1.055651</td>\n",
       "      <td>-1.217079</td>\n",
       "      <td>-0.279597</td>\n",
       "    </tr>\n",
       "    <tr>\n",
       "      <th>2</th>\n",
       "      <td>0.491187</td>\n",
       "      <td>0.795140</td>\n",
       "      <td>-0.846733</td>\n",
       "      <td>2.174405</td>\n",
       "      <td>-1.038638</td>\n",
       "      <td>-0.526262</td>\n",
       "      <td>-2.239829</td>\n",
       "      <td>3.551340</td>\n",
       "    </tr>\n",
       "    <tr>\n",
       "      <th>3</th>\n",
       "      <td>0.491187</td>\n",
       "      <td>0.795140</td>\n",
       "      <td>-0.846733</td>\n",
       "      <td>2.174405</td>\n",
       "      <td>-1.038638</td>\n",
       "      <td>-0.526262</td>\n",
       "      <td>-2.239829</td>\n",
       "      <td>5.055221</td>\n",
       "    </tr>\n",
       "    <tr>\n",
       "      <th>4</th>\n",
       "      <td>-0.790075</td>\n",
       "      <td>0.678079</td>\n",
       "      <td>-0.846733</td>\n",
       "      <td>0.488555</td>\n",
       "      <td>-1.038638</td>\n",
       "      <td>0.070492</td>\n",
       "      <td>0.647569</td>\n",
       "      <td>4.976069</td>\n",
       "    </tr>\n",
       "  </tbody>\n",
       "</table>\n",
       "</div>"
      ],
      "text/plain": [
       "     Cement  Blast Furnace Slag   Fly Ash     Water  Superplasticizer  \\\n",
       "0  2.476712           -0.856472 -0.846733 -0.916319         -0.620147   \n",
       "1  2.476712           -0.856472 -0.846733 -0.916319         -0.620147   \n",
       "2  0.491187            0.795140 -0.846733  2.174405         -1.038638   \n",
       "3  0.491187            0.795140 -0.846733  2.174405         -1.038638   \n",
       "4 -0.790075            0.678079 -0.846733  0.488555         -1.038638   \n",
       "\n",
       "   Coarse Aggregate  Fine Aggregate       Age  \n",
       "0          0.862735       -1.217079 -0.279597  \n",
       "1          1.055651       -1.217079 -0.279597  \n",
       "2         -0.526262       -2.239829  3.551340  \n",
       "3         -0.526262       -2.239829  5.055221  \n",
       "4          0.070492        0.647569  4.976069  "
      ]
     },
     "execution_count": 9,
     "metadata": {},
     "output_type": "execute_result"
    }
   ],
   "source": [
    "predictors_norm = (predictors - predictors.mean()) / predictors.std()\n",
    "n_cols = predictors_norm.shape[1] # number of predictors\n",
    "predictors_norm.head()"
   ]
  },
  {
   "cell_type": "markdown",
   "id": "f7173eb2",
   "metadata": {
    "papermill": {
     "duration": 0.011133,
     "end_time": "2023-08-04T02:44:54.406627",
     "exception": false,
     "start_time": "2023-08-04T02:44:54.395494",
     "status": "completed"
    },
    "tags": []
   },
   "source": [
    "Split into training and test dataset"
   ]
  },
  {
   "cell_type": "code",
   "execution_count": 10,
   "id": "4ec84001",
   "metadata": {
    "execution": {
     "iopub.execute_input": "2023-08-04T02:44:54.429289Z",
     "iopub.status.busy": "2023-08-04T02:44:54.428538Z",
     "iopub.status.idle": "2023-08-04T02:44:54.434869Z",
     "shell.execute_reply": "2023-08-04T02:44:54.434039Z"
    },
    "papermill": {
     "duration": 0.020586,
     "end_time": "2023-08-04T02:44:54.437717",
     "exception": false,
     "start_time": "2023-08-04T02:44:54.417131",
     "status": "completed"
    },
    "tags": []
   },
   "outputs": [],
   "source": [
    "x_train,x_test,y_train,y_test = train_test_split(predictors_norm, target, test_size=0.2, random_state=42)"
   ]
  },
  {
   "cell_type": "markdown",
   "id": "d463c58c",
   "metadata": {
    "papermill": {
     "duration": 0.007152,
     "end_time": "2023-08-04T02:44:54.455135",
     "exception": false,
     "start_time": "2023-08-04T02:44:54.447983",
     "status": "completed"
    },
    "tags": []
   },
   "source": [
    "# Training Model"
   ]
  },
  {
   "cell_type": "code",
   "execution_count": 11,
   "id": "9535aaf4",
   "metadata": {
    "execution": {
     "iopub.execute_input": "2023-08-04T02:44:54.471933Z",
     "iopub.status.busy": "2023-08-04T02:44:54.470960Z",
     "iopub.status.idle": "2023-08-04T02:45:01.150696Z",
     "shell.execute_reply": "2023-08-04T02:45:01.149621Z"
    },
    "papermill": {
     "duration": 6.691153,
     "end_time": "2023-08-04T02:45:01.153183",
     "exception": false,
     "start_time": "2023-08-04T02:44:54.462030",
     "status": "completed"
    },
    "tags": []
   },
   "outputs": [
    {
     "name": "stdout",
     "output_type": "stream",
     "text": [
      "Epoch 1/100\n",
      "26/26 [==============================] - 1s 2ms/step - loss: 1586.2206\n",
      "Epoch 2/100\n",
      "26/26 [==============================] - 0s 2ms/step - loss: 1569.9668\n",
      "Epoch 3/100\n",
      "26/26 [==============================] - 0s 1ms/step - loss: 1553.2593\n",
      "Epoch 4/100\n",
      "26/26 [==============================] - 0s 2ms/step - loss: 1519.5131\n",
      "Epoch 5/100\n",
      "26/26 [==============================] - 0s 2ms/step - loss: 1460.0669\n",
      "Epoch 6/100\n",
      "26/26 [==============================] - 0s 2ms/step - loss: 1363.9092\n",
      "Epoch 7/100\n",
      "26/26 [==============================] - 0s 2ms/step - loss: 1209.7654\n",
      "Epoch 8/100\n",
      "26/26 [==============================] - 0s 2ms/step - loss: 991.7019\n",
      "Epoch 9/100\n",
      "26/26 [==============================] - 0s 2ms/step - loss: 731.3697\n",
      "Epoch 10/100\n",
      "26/26 [==============================] - 0s 2ms/step - loss: 499.1375\n",
      "Epoch 11/100\n",
      "26/26 [==============================] - 0s 2ms/step - loss: 364.3812\n",
      "Epoch 12/100\n",
      "26/26 [==============================] - 0s 2ms/step - loss: 293.9342\n",
      "Epoch 13/100\n",
      "26/26 [==============================] - 0s 2ms/step - loss: 254.9227\n",
      "Epoch 14/100\n",
      "26/26 [==============================] - 0s 2ms/step - loss: 230.0519\n",
      "Epoch 15/100\n",
      "26/26 [==============================] - 0s 2ms/step - loss: 212.7437\n",
      "Epoch 16/100\n",
      "26/26 [==============================] - 0s 2ms/step - loss: 200.3784\n",
      "Epoch 17/100\n",
      "26/26 [==============================] - 0s 1ms/step - loss: 190.9704\n",
      "Epoch 18/100\n",
      "26/26 [==============================] - 0s 2ms/step - loss: 183.3059\n",
      "Epoch 19/100\n",
      "26/26 [==============================] - 0s 2ms/step - loss: 176.2926\n",
      "Epoch 20/100\n",
      "26/26 [==============================] - 0s 2ms/step - loss: 170.1438\n",
      "Epoch 21/100\n",
      "26/26 [==============================] - 0s 2ms/step - loss: 164.7256\n",
      "Epoch 22/100\n",
      "26/26 [==============================] - 0s 2ms/step - loss: 159.0101\n",
      "Epoch 23/100\n",
      "26/26 [==============================] - 0s 1ms/step - loss: 153.6551\n",
      "Epoch 24/100\n",
      "26/26 [==============================] - 0s 2ms/step - loss: 147.8296\n",
      "Epoch 25/100\n",
      "26/26 [==============================] - 0s 2ms/step - loss: 142.9671\n",
      "Epoch 26/100\n",
      "26/26 [==============================] - 0s 2ms/step - loss: 138.1699\n",
      "Epoch 27/100\n",
      "26/26 [==============================] - 0s 2ms/step - loss: 133.6931\n",
      "Epoch 28/100\n",
      "26/26 [==============================] - 0s 2ms/step - loss: 129.4839\n",
      "Epoch 29/100\n",
      "26/26 [==============================] - 0s 1ms/step - loss: 125.3178\n",
      "Epoch 30/100\n",
      "26/26 [==============================] - 0s 2ms/step - loss: 121.3789\n",
      "Epoch 31/100\n",
      "26/26 [==============================] - 0s 2ms/step - loss: 118.0146\n",
      "Epoch 32/100\n",
      "26/26 [==============================] - 0s 2ms/step - loss: 114.0239\n",
      "Epoch 33/100\n",
      "26/26 [==============================] - 0s 2ms/step - loss: 110.5348\n",
      "Epoch 34/100\n",
      "26/26 [==============================] - 0s 2ms/step - loss: 107.4655\n",
      "Epoch 35/100\n",
      "26/26 [==============================] - 0s 2ms/step - loss: 104.9114\n",
      "Epoch 36/100\n",
      "26/26 [==============================] - 0s 2ms/step - loss: 101.3874\n",
      "Epoch 37/100\n",
      "26/26 [==============================] - 0s 2ms/step - loss: 98.6264\n",
      "Epoch 38/100\n",
      "26/26 [==============================] - 0s 2ms/step - loss: 95.8171\n",
      "Epoch 39/100\n",
      "26/26 [==============================] - 0s 2ms/step - loss: 93.5159\n",
      "Epoch 40/100\n",
      "26/26 [==============================] - 0s 1ms/step - loss: 91.1255\n",
      "Epoch 41/100\n",
      "26/26 [==============================] - 0s 1ms/step - loss: 89.1002\n",
      "Epoch 42/100\n",
      "26/26 [==============================] - 0s 2ms/step - loss: 87.1902\n",
      "Epoch 43/100\n",
      "26/26 [==============================] - 0s 2ms/step - loss: 85.4017\n",
      "Epoch 44/100\n",
      "26/26 [==============================] - 0s 2ms/step - loss: 83.7603\n",
      "Epoch 45/100\n",
      "26/26 [==============================] - 0s 2ms/step - loss: 81.6602\n",
      "Epoch 46/100\n",
      "26/26 [==============================] - 0s 2ms/step - loss: 80.3386\n",
      "Epoch 47/100\n",
      "26/26 [==============================] - 0s 1ms/step - loss: 78.6846\n",
      "Epoch 48/100\n",
      "26/26 [==============================] - 0s 1ms/step - loss: 77.3005\n",
      "Epoch 49/100\n",
      "26/26 [==============================] - 0s 2ms/step - loss: 75.6894\n",
      "Epoch 50/100\n",
      "26/26 [==============================] - 0s 2ms/step - loss: 74.4518\n",
      "Epoch 51/100\n",
      "26/26 [==============================] - 0s 2ms/step - loss: 72.5170\n",
      "Epoch 52/100\n",
      "26/26 [==============================] - 0s 2ms/step - loss: 71.5592\n",
      "Epoch 53/100\n",
      "26/26 [==============================] - 0s 2ms/step - loss: 70.1665\n",
      "Epoch 54/100\n",
      "26/26 [==============================] - 0s 1ms/step - loss: 69.3099\n",
      "Epoch 55/100\n",
      "26/26 [==============================] - 0s 1ms/step - loss: 68.3808\n",
      "Epoch 56/100\n",
      "26/26 [==============================] - 0s 1ms/step - loss: 66.9186\n",
      "Epoch 57/100\n",
      "26/26 [==============================] - 0s 1ms/step - loss: 66.2133\n",
      "Epoch 58/100\n",
      "26/26 [==============================] - 0s 1ms/step - loss: 65.2929\n",
      "Epoch 59/100\n",
      "26/26 [==============================] - 0s 1ms/step - loss: 64.5951\n",
      "Epoch 60/100\n",
      "26/26 [==============================] - 0s 1ms/step - loss: 63.1536\n",
      "Epoch 61/100\n",
      "26/26 [==============================] - 0s 2ms/step - loss: 62.2817\n",
      "Epoch 62/100\n",
      "26/26 [==============================] - 0s 1ms/step - loss: 61.4940\n",
      "Epoch 63/100\n",
      "26/26 [==============================] - 0s 1ms/step - loss: 60.9556\n",
      "Epoch 64/100\n",
      "26/26 [==============================] - 0s 1ms/step - loss: 59.8186\n",
      "Epoch 65/100\n",
      "26/26 [==============================] - 0s 1ms/step - loss: 59.0343\n",
      "Epoch 66/100\n",
      "26/26 [==============================] - 0s 2ms/step - loss: 58.5902\n",
      "Epoch 67/100\n",
      "26/26 [==============================] - 0s 1ms/step - loss: 57.6307\n",
      "Epoch 68/100\n",
      "26/26 [==============================] - 0s 2ms/step - loss: 57.0866\n",
      "Epoch 69/100\n",
      "26/26 [==============================] - 0s 2ms/step - loss: 56.3437\n",
      "Epoch 70/100\n",
      "26/26 [==============================] - 0s 1ms/step - loss: 55.8314\n",
      "Epoch 71/100\n",
      "26/26 [==============================] - 0s 2ms/step - loss: 55.4302\n",
      "Epoch 72/100\n",
      "26/26 [==============================] - 0s 2ms/step - loss: 54.9911\n",
      "Epoch 73/100\n",
      "26/26 [==============================] - 0s 2ms/step - loss: 54.6099\n",
      "Epoch 74/100\n",
      "26/26 [==============================] - 0s 1ms/step - loss: 53.8400\n",
      "Epoch 75/100\n",
      "26/26 [==============================] - 0s 1ms/step - loss: 52.9949\n",
      "Epoch 76/100\n",
      "26/26 [==============================] - 0s 2ms/step - loss: 52.6447\n",
      "Epoch 77/100\n",
      "26/26 [==============================] - 0s 1ms/step - loss: 52.0135\n",
      "Epoch 78/100\n",
      "26/26 [==============================] - 0s 1ms/step - loss: 51.6393\n",
      "Epoch 79/100\n",
      "26/26 [==============================] - 0s 1ms/step - loss: 51.3810\n",
      "Epoch 80/100\n",
      "26/26 [==============================] - 0s 1ms/step - loss: 50.6619\n",
      "Epoch 81/100\n",
      "26/26 [==============================] - 0s 1ms/step - loss: 50.1475\n",
      "Epoch 82/100\n",
      "26/26 [==============================] - 0s 1ms/step - loss: 50.0110\n",
      "Epoch 83/100\n",
      "26/26 [==============================] - 0s 1ms/step - loss: 49.5166\n",
      "Epoch 84/100\n",
      "26/26 [==============================] - 0s 2ms/step - loss: 48.8963\n",
      "Epoch 85/100\n",
      "26/26 [==============================] - 0s 1ms/step - loss: 48.7184\n",
      "Epoch 86/100\n",
      "26/26 [==============================] - 0s 1ms/step - loss: 48.4867\n",
      "Epoch 87/100\n",
      "26/26 [==============================] - 0s 1ms/step - loss: 47.9802\n",
      "Epoch 88/100\n",
      "26/26 [==============================] - 0s 1ms/step - loss: 47.6725\n",
      "Epoch 89/100\n",
      "26/26 [==============================] - 0s 1ms/step - loss: 47.2115\n",
      "Epoch 90/100\n",
      "26/26 [==============================] - 0s 1ms/step - loss: 46.8878\n",
      "Epoch 91/100\n",
      "26/26 [==============================] - 0s 1ms/step - loss: 46.7447\n",
      "Epoch 92/100\n",
      "26/26 [==============================] - 0s 2ms/step - loss: 46.3014\n",
      "Epoch 93/100\n",
      "26/26 [==============================] - 0s 1ms/step - loss: 46.3262\n",
      "Epoch 94/100\n",
      "26/26 [==============================] - 0s 1ms/step - loss: 46.5909\n",
      "Epoch 95/100\n",
      "26/26 [==============================] - 0s 1ms/step - loss: 45.2222\n",
      "Epoch 96/100\n",
      "26/26 [==============================] - 0s 1ms/step - loss: 45.6706\n",
      "Epoch 97/100\n",
      "26/26 [==============================] - 0s 1ms/step - loss: 45.1468\n",
      "Epoch 98/100\n",
      "26/26 [==============================] - 0s 2ms/step - loss: 44.8384\n",
      "Epoch 99/100\n",
      "26/26 [==============================] - 0s 1ms/step - loss: 44.4340\n",
      "Epoch 100/100\n",
      "26/26 [==============================] - 0s 2ms/step - loss: 44.2331\n"
     ]
    },
    {
     "data": {
      "text/plain": [
       "<keras.callbacks.History at 0x7bd72830ab90>"
      ]
     },
     "execution_count": 11,
     "metadata": {},
     "output_type": "execute_result"
    }
   ],
   "source": [
    "# create model\n",
    "model = Sequential()\n",
    "model.add(Dense(10, activation='relu', input_shape=(n_cols,)))\n",
    "model.add(Dense(10, activation='relu'))\n",
    "model.add(Dense(10, activation='relu'))\n",
    "model.add(Dense(1))\n",
    "\n",
    "# compile model\n",
    "model.compile(optimizer='adam', loss='mean_squared_error')\n",
    "        \n",
    "# training model\n",
    "model.fit(x_train, y_train, epochs=100, verbose='auto')"
   ]
  },
  {
   "cell_type": "markdown",
   "id": "eec5786d",
   "metadata": {
    "papermill": {
     "duration": 0.024698,
     "end_time": "2023-08-04T02:45:01.202750",
     "exception": false,
     "start_time": "2023-08-04T02:45:01.178052",
     "status": "completed"
    },
    "tags": []
   },
   "source": [
    "# Testing Model"
   ]
  },
  {
   "cell_type": "code",
   "execution_count": 12,
   "id": "29b81f61",
   "metadata": {
    "execution": {
     "iopub.execute_input": "2023-08-04T02:45:01.256737Z",
     "iopub.status.busy": "2023-08-04T02:45:01.256010Z",
     "iopub.status.idle": "2023-08-04T02:45:01.478114Z",
     "shell.execute_reply": "2023-08-04T02:45:01.476580Z"
    },
    "papermill": {
     "duration": 0.253071,
     "end_time": "2023-08-04T02:45:01.480682",
     "exception": false,
     "start_time": "2023-08-04T02:45:01.227611",
     "status": "completed"
    },
    "tags": []
   },
   "outputs": [
    {
     "name": "stdout",
     "output_type": "stream",
     "text": [
      "7/7 [==============================] - 0s 2ms/step\n",
      "Mean Squared Error of the model is: 6.6613335473961435\n"
     ]
    }
   ],
   "source": [
    "# Testing trained model\n",
    "y_pred = model.predict(x_test)\n",
    "\n",
    "# Model evaluation on test sample\n",
    "result = np.sqrt(mean_squared_error(y_test,y_pred))\n",
    "print(\"Mean Squared Error of the model is:\", result)"
   ]
  }
 ],
 "metadata": {
  "kernelspec": {
   "display_name": "Python 3",
   "language": "python",
   "name": "python3"
  },
  "language_info": {
   "codemirror_mode": {
    "name": "ipython",
    "version": 3
   },
   "file_extension": ".py",
   "mimetype": "text/x-python",
   "name": "python",
   "nbconvert_exporter": "python",
   "pygments_lexer": "ipython3",
   "version": "3.10.12"
  },
  "papermill": {
   "default_parameters": {},
   "duration": 31.335834,
   "end_time": "2023-08-04T02:45:04.083189",
   "environment_variables": {},
   "exception": null,
   "input_path": "__notebook__.ipynb",
   "output_path": "__notebook__.ipynb",
   "parameters": {},
   "start_time": "2023-08-04T02:44:32.747355",
   "version": "2.4.0"
  }
 },
 "nbformat": 4,
 "nbformat_minor": 5
}
