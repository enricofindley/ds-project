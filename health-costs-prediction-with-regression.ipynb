{
 "cells": [
  {
   "cell_type": "markdown",
   "id": "3861e1c5",
   "metadata": {
    "papermill": {
     "duration": 0.006335,
     "end_time": "2023-07-30T04:57:24.713725",
     "exception": false,
     "start_time": "2023-07-30T04:57:24.707390",
     "status": "completed"
    },
    "tags": []
   },
   "source": [
    "# Importing Libraries"
   ]
  },
  {
   "cell_type": "code",
   "execution_count": 1,
   "id": "37acf9cd",
   "metadata": {
    "execution": {
     "iopub.execute_input": "2023-07-30T04:57:24.727410Z",
     "iopub.status.busy": "2023-07-30T04:57:24.726884Z",
     "iopub.status.idle": "2023-07-30T04:57:36.447650Z",
     "shell.execute_reply": "2023-07-30T04:57:36.446256Z"
    },
    "executionInfo": {
     "elapsed": 8652,
     "status": "ok",
     "timestamp": 1682575396699,
     "user": {
      "displayName": "Enrico Findley",
      "userId": "14271070888852842352"
     },
     "user_tz": -420
    },
    "id": "1rRo8oNqZ-Rj",
    "outputId": "9d239539-ea39-487d-a329-14d56833737b",
    "papermill": {
     "duration": 11.73101,
     "end_time": "2023-07-30T04:57:36.450796",
     "exception": false,
     "start_time": "2023-07-30T04:57:24.719786",
     "status": "completed"
    },
    "tags": []
   },
   "outputs": [
    {
     "name": "stderr",
     "output_type": "stream",
     "text": [
      "/opt/conda/lib/python3.10/site-packages/scipy/__init__.py:146: UserWarning: A NumPy version >=1.16.5 and <1.23.0 is required for this version of SciPy (detected version 1.23.5\n",
      "  warnings.warn(f\"A NumPy version >={np_minversion} and <{np_maxversion}\"\n",
      "/opt/conda/lib/python3.10/site-packages/tensorflow_io/python/ops/__init__.py:98: UserWarning: unable to load libtensorflow_io_plugins.so: unable to open file: libtensorflow_io_plugins.so, from paths: ['/opt/conda/lib/python3.10/site-packages/tensorflow_io/python/ops/libtensorflow_io_plugins.so']\n",
      "caused by: ['/opt/conda/lib/python3.10/site-packages/tensorflow_io/python/ops/libtensorflow_io_plugins.so: undefined symbol: _ZN3tsl6StatusC1EN10tensorflow5error4CodeESt17basic_string_viewIcSt11char_traitsIcEENS_14SourceLocationE']\n",
      "  warnings.warn(f\"unable to load libtensorflow_io_plugins.so: {e}\")\n",
      "/opt/conda/lib/python3.10/site-packages/tensorflow_io/python/ops/__init__.py:104: UserWarning: file system plugins are not loaded: unable to open file: libtensorflow_io.so, from paths: ['/opt/conda/lib/python3.10/site-packages/tensorflow_io/python/ops/libtensorflow_io.so']\n",
      "caused by: ['/opt/conda/lib/python3.10/site-packages/tensorflow_io/python/ops/libtensorflow_io.so: undefined symbol: _ZTVN10tensorflow13GcsFileSystemE']\n",
      "  warnings.warn(f\"file system plugins are not loaded: {e}\")\n"
     ]
    }
   ],
   "source": [
    "# Import libraries.\n",
    "import matplotlib.pyplot as plt\n",
    "import numpy as np\n",
    "import pandas as pd\n",
    "\n",
    "try:\n",
    "  %tensorflow_version 2.x\n",
    "except Exception:\n",
    "  pass\n",
    "import tensorflow as tf\n",
    "\n",
    "from tensorflow import keras\n",
    "from tensorflow.keras import layers\n",
    "from sklearn.model_selection import train_test_split\n",
    "import sklearn"
   ]
  },
  {
   "cell_type": "markdown",
   "id": "d5a874f7",
   "metadata": {
    "papermill": {
     "duration": 0.005816,
     "end_time": "2023-07-30T04:57:36.463127",
     "exception": false,
     "start_time": "2023-07-30T04:57:36.457311",
     "status": "completed"
    },
    "tags": []
   },
   "source": [
    "# Data Collecting"
   ]
  },
  {
   "cell_type": "code",
   "execution_count": 2,
   "id": "cf8349be",
   "metadata": {
    "execution": {
     "iopub.execute_input": "2023-07-30T04:57:36.477079Z",
     "iopub.status.busy": "2023-07-30T04:57:36.476315Z",
     "iopub.status.idle": "2023-07-30T04:57:38.078301Z",
     "shell.execute_reply": "2023-07-30T04:57:38.077001Z"
    },
    "executionInfo": {
     "elapsed": 468,
     "status": "ok",
     "timestamp": 1682576161258,
     "user": {
      "displayName": "Enrico Findley",
      "userId": "14271070888852842352"
     },
     "user_tz": -420
    },
    "id": "CiX2FI4gZtTt",
    "outputId": "eecf504e-f0dc-4dab-8dd6-8bbb0c398847",
    "papermill": {
     "duration": 1.612078,
     "end_time": "2023-07-30T04:57:38.081045",
     "exception": false,
     "start_time": "2023-07-30T04:57:36.468967",
     "status": "completed"
    },
    "tags": []
   },
   "outputs": [
    {
     "name": "stdout",
     "output_type": "stream",
     "text": [
      "--2023-07-30 04:57:37--  https://cdn.freecodecamp.org/project-data/health-costs/insurance.csv\r\n",
      "Resolving cdn.freecodecamp.org (cdn.freecodecamp.org)... 172.67.70.149, 104.26.3.33, 104.26.2.33, ...\r\n",
      "Connecting to cdn.freecodecamp.org (cdn.freecodecamp.org)|172.67.70.149|:443... connected.\r\n",
      "HTTP request sent, awaiting response... 200 OK\r\n",
      "Length: 50264 (49K) [text/csv]\r\n",
      "Saving to: ‘insurance.csv’\r\n",
      "\r\n",
      "insurance.csv       100%[===================>]  49.09K  --.-KB/s    in 0.003s  \r\n",
      "\r\n",
      "2023-07-30 04:57:37 (15.7 MB/s) - ‘insurance.csv’ saved [50264/50264]\r\n",
      "\r\n"
     ]
    },
    {
     "data": {
      "text/html": [
       "<div>\n",
       "<style scoped>\n",
       "    .dataframe tbody tr th:only-of-type {\n",
       "        vertical-align: middle;\n",
       "    }\n",
       "\n",
       "    .dataframe tbody tr th {\n",
       "        vertical-align: top;\n",
       "    }\n",
       "\n",
       "    .dataframe thead th {\n",
       "        text-align: right;\n",
       "    }\n",
       "</style>\n",
       "<table border=\"1\" class=\"dataframe\">\n",
       "  <thead>\n",
       "    <tr style=\"text-align: right;\">\n",
       "      <th></th>\n",
       "      <th>age</th>\n",
       "      <th>sex</th>\n",
       "      <th>bmi</th>\n",
       "      <th>children</th>\n",
       "      <th>smoker</th>\n",
       "      <th>region</th>\n",
       "      <th>expenses</th>\n",
       "    </tr>\n",
       "  </thead>\n",
       "  <tbody>\n",
       "    <tr>\n",
       "      <th>1333</th>\n",
       "      <td>50</td>\n",
       "      <td>male</td>\n",
       "      <td>31.0</td>\n",
       "      <td>3</td>\n",
       "      <td>no</td>\n",
       "      <td>northwest</td>\n",
       "      <td>10600.55</td>\n",
       "    </tr>\n",
       "    <tr>\n",
       "      <th>1334</th>\n",
       "      <td>18</td>\n",
       "      <td>female</td>\n",
       "      <td>31.9</td>\n",
       "      <td>0</td>\n",
       "      <td>no</td>\n",
       "      <td>northeast</td>\n",
       "      <td>2205.98</td>\n",
       "    </tr>\n",
       "    <tr>\n",
       "      <th>1335</th>\n",
       "      <td>18</td>\n",
       "      <td>female</td>\n",
       "      <td>36.9</td>\n",
       "      <td>0</td>\n",
       "      <td>no</td>\n",
       "      <td>southeast</td>\n",
       "      <td>1629.83</td>\n",
       "    </tr>\n",
       "    <tr>\n",
       "      <th>1336</th>\n",
       "      <td>21</td>\n",
       "      <td>female</td>\n",
       "      <td>25.8</td>\n",
       "      <td>0</td>\n",
       "      <td>no</td>\n",
       "      <td>southwest</td>\n",
       "      <td>2007.95</td>\n",
       "    </tr>\n",
       "    <tr>\n",
       "      <th>1337</th>\n",
       "      <td>61</td>\n",
       "      <td>female</td>\n",
       "      <td>29.1</td>\n",
       "      <td>0</td>\n",
       "      <td>yes</td>\n",
       "      <td>northwest</td>\n",
       "      <td>29141.36</td>\n",
       "    </tr>\n",
       "  </tbody>\n",
       "</table>\n",
       "</div>"
      ],
      "text/plain": [
       "      age     sex   bmi  children smoker     region  expenses\n",
       "1333   50    male  31.0         3     no  northwest  10600.55\n",
       "1334   18  female  31.9         0     no  northeast   2205.98\n",
       "1335   18  female  36.9         0     no  southeast   1629.83\n",
       "1336   21  female  25.8         0     no  southwest   2007.95\n",
       "1337   61  female  29.1         0    yes  northwest  29141.36"
      ]
     },
     "execution_count": 2,
     "metadata": {},
     "output_type": "execute_result"
    }
   ],
   "source": [
    "# Import data\n",
    "!wget https://cdn.freecodecamp.org/project-data/health-costs/insurance.csv\n",
    "dataset = pd.read_csv('insurance.csv')\n",
    "dataset.tail()"
   ]
  },
  {
   "cell_type": "markdown",
   "id": "50829272",
   "metadata": {
    "papermill": {
     "duration": 0.006588,
     "end_time": "2023-07-30T04:57:38.094565",
     "exception": false,
     "start_time": "2023-07-30T04:57:38.087977",
     "status": "completed"
    },
    "tags": []
   },
   "source": [
    "# Data pre-processing"
   ]
  },
  {
   "cell_type": "code",
   "execution_count": 3,
   "id": "9564e4e1",
   "metadata": {
    "execution": {
     "iopub.execute_input": "2023-07-30T04:57:38.110336Z",
     "iopub.status.busy": "2023-07-30T04:57:38.109888Z",
     "iopub.status.idle": "2023-07-30T04:57:38.132186Z",
     "shell.execute_reply": "2023-07-30T04:57:38.130972Z"
    },
    "executionInfo": {
     "elapsed": 6,
     "status": "ok",
     "timestamp": 1682576164763,
     "user": {
      "displayName": "Enrico Findley",
      "userId": "14271070888852842352"
     },
     "user_tz": -420
    },
    "id": "ZyZRl4_yWqjY",
    "outputId": "207e8619-0905-4e56-de8f-3c6f8e1a95e2",
    "papermill": {
     "duration": 0.033558,
     "end_time": "2023-07-30T04:57:38.134807",
     "exception": false,
     "start_time": "2023-07-30T04:57:38.101249",
     "status": "completed"
    },
    "tags": []
   },
   "outputs": [
    {
     "data": {
      "text/html": [
       "<div>\n",
       "<style scoped>\n",
       "    .dataframe tbody tr th:only-of-type {\n",
       "        vertical-align: middle;\n",
       "    }\n",
       "\n",
       "    .dataframe tbody tr th {\n",
       "        vertical-align: top;\n",
       "    }\n",
       "\n",
       "    .dataframe thead th {\n",
       "        text-align: right;\n",
       "    }\n",
       "</style>\n",
       "<table border=\"1\" class=\"dataframe\">\n",
       "  <thead>\n",
       "    <tr style=\"text-align: right;\">\n",
       "      <th></th>\n",
       "      <th>age</th>\n",
       "      <th>sex</th>\n",
       "      <th>bmi</th>\n",
       "      <th>children</th>\n",
       "      <th>smoker</th>\n",
       "      <th>region</th>\n",
       "      <th>expenses</th>\n",
       "    </tr>\n",
       "  </thead>\n",
       "  <tbody>\n",
       "    <tr>\n",
       "      <th>0</th>\n",
       "      <td>19</td>\n",
       "      <td>0</td>\n",
       "      <td>27.9</td>\n",
       "      <td>0</td>\n",
       "      <td>0</td>\n",
       "      <td>0</td>\n",
       "      <td>16884.92</td>\n",
       "    </tr>\n",
       "    <tr>\n",
       "      <th>1</th>\n",
       "      <td>18</td>\n",
       "      <td>1</td>\n",
       "      <td>33.8</td>\n",
       "      <td>1</td>\n",
       "      <td>1</td>\n",
       "      <td>1</td>\n",
       "      <td>1725.55</td>\n",
       "    </tr>\n",
       "    <tr>\n",
       "      <th>2</th>\n",
       "      <td>28</td>\n",
       "      <td>1</td>\n",
       "      <td>33.0</td>\n",
       "      <td>3</td>\n",
       "      <td>1</td>\n",
       "      <td>1</td>\n",
       "      <td>4449.46</td>\n",
       "    </tr>\n",
       "    <tr>\n",
       "      <th>3</th>\n",
       "      <td>33</td>\n",
       "      <td>1</td>\n",
       "      <td>22.7</td>\n",
       "      <td>0</td>\n",
       "      <td>1</td>\n",
       "      <td>2</td>\n",
       "      <td>21984.47</td>\n",
       "    </tr>\n",
       "    <tr>\n",
       "      <th>4</th>\n",
       "      <td>32</td>\n",
       "      <td>1</td>\n",
       "      <td>28.9</td>\n",
       "      <td>0</td>\n",
       "      <td>1</td>\n",
       "      <td>2</td>\n",
       "      <td>3866.86</td>\n",
       "    </tr>\n",
       "  </tbody>\n",
       "</table>\n",
       "</div>"
      ],
      "text/plain": [
       "   age  sex   bmi  children  smoker  region  expenses\n",
       "0   19    0  27.9         0       0       0  16884.92\n",
       "1   18    1  33.8         1       1       1   1725.55\n",
       "2   28    1  33.0         3       1       1   4449.46\n",
       "3   33    1  22.7         0       1       2  21984.47\n",
       "4   32    1  28.9         0       1       2   3866.86"
      ]
     },
     "execution_count": 3,
     "metadata": {},
     "output_type": "execute_result"
    }
   ],
   "source": [
    "df = dataset\n",
    "df[\"sex\"] = pd.factorize(df[\"sex\"])[0]\n",
    "df[\"region\"] = pd.factorize(df[\"region\"])[0]\n",
    "df[\"smoker\"] = pd.factorize(df[\"smoker\"])[0]\n",
    "dataset = df\n",
    "dataset.head()"
   ]
  },
  {
   "cell_type": "code",
   "execution_count": 4,
   "id": "8ef3e206",
   "metadata": {
    "execution": {
     "iopub.execute_input": "2023-07-30T04:57:38.151693Z",
     "iopub.status.busy": "2023-07-30T04:57:38.150367Z",
     "iopub.status.idle": "2023-07-30T04:57:38.159233Z",
     "shell.execute_reply": "2023-07-30T04:57:38.158055Z"
    },
    "executionInfo": {
     "elapsed": 3,
     "status": "ok",
     "timestamp": 1682576181453,
     "user": {
      "displayName": "Enrico Findley",
      "userId": "14271070888852842352"
     },
     "user_tz": -420
    },
    "id": "rc6wvVdvTHOJ",
    "papermill": {
     "duration": 0.019738,
     "end_time": "2023-07-30T04:57:38.161787",
     "exception": false,
     "start_time": "2023-07-30T04:57:38.142049",
     "status": "completed"
    },
    "tags": []
   },
   "outputs": [],
   "source": [
    "labels = dataset.pop(\"expenses\")"
   ]
  },
  {
   "cell_type": "code",
   "execution_count": 5,
   "id": "bfcf34aa",
   "metadata": {
    "execution": {
     "iopub.execute_input": "2023-07-30T04:57:38.178505Z",
     "iopub.status.busy": "2023-07-30T04:57:38.177398Z",
     "iopub.status.idle": "2023-07-30T04:57:38.187920Z",
     "shell.execute_reply": "2023-07-30T04:57:38.186942Z"
    },
    "executionInfo": {
     "elapsed": 1119,
     "status": "ok",
     "timestamp": 1682576232866,
     "user": {
      "displayName": "Enrico Findley",
      "userId": "14271070888852842352"
     },
     "user_tz": -420
    },
    "id": "Gqy1a7QfTeKP",
    "papermill": {
     "duration": 0.021804,
     "end_time": "2023-07-30T04:57:38.190627",
     "exception": false,
     "start_time": "2023-07-30T04:57:38.168823",
     "status": "completed"
    },
    "tags": []
   },
   "outputs": [],
   "source": [
    "train_dataset, test_dataset, train_labels, test_labels = train_test_split(\n",
    "    dataset, labels, test_size=0.2, random_state=42)"
   ]
  },
  {
   "cell_type": "markdown",
   "id": "1770b4d6",
   "metadata": {
    "papermill": {
     "duration": 0.006614,
     "end_time": "2023-07-30T04:57:38.204414",
     "exception": false,
     "start_time": "2023-07-30T04:57:38.197800",
     "status": "completed"
    },
    "tags": []
   },
   "source": [
    "# Training, Validation, and Testing"
   ]
  },
  {
   "cell_type": "code",
   "execution_count": 6,
   "id": "6b11235a",
   "metadata": {
    "execution": {
     "iopub.execute_input": "2023-07-30T04:57:38.220646Z",
     "iopub.status.busy": "2023-07-30T04:57:38.219800Z",
     "iopub.status.idle": "2023-07-30T04:57:39.239211Z",
     "shell.execute_reply": "2023-07-30T04:57:39.237782Z"
    },
    "executionInfo": {
     "elapsed": 1122,
     "status": "ok",
     "timestamp": 1682576235019,
     "user": {
      "displayName": "Enrico Findley",
      "userId": "14271070888852842352"
     },
     "user_tz": -420
    },
    "id": "LcopvQh3X-kX",
    "papermill": {
     "duration": 1.031066,
     "end_time": "2023-07-30T04:57:39.242346",
     "exception": false,
     "start_time": "2023-07-30T04:57:38.211280",
     "status": "completed"
    },
    "tags": []
   },
   "outputs": [],
   "source": [
    "normalizer = layers.experimental.preprocessing.Normalization()\n",
    "normalizer.adapt(np.array(train_dataset))\n",
    "\n",
    "model = keras.Sequential([\n",
    "    normalizer,\n",
    "    layers.Dense(16),\n",
    "    layers.Dense(4),\n",
    "    layers.Dropout(.2),\n",
    "    layers.Dense(1),\n",
    "])"
   ]
  },
  {
   "cell_type": "code",
   "execution_count": 7,
   "id": "f0c4838c",
   "metadata": {
    "execution": {
     "iopub.execute_input": "2023-07-30T04:57:39.260611Z",
     "iopub.status.busy": "2023-07-30T04:57:39.259959Z",
     "iopub.status.idle": "2023-07-30T04:57:39.307747Z",
     "shell.execute_reply": "2023-07-30T04:57:39.306285Z"
    },
    "executionInfo": {
     "elapsed": 8,
     "status": "ok",
     "timestamp": 1682576235665,
     "user": {
      "displayName": "Enrico Findley",
      "userId": "14271070888852842352"
     },
     "user_tz": -420
    },
    "id": "887VTRV7VIXY",
    "outputId": "e51f8e49-03d8-4e74-961e-99ee14c47f61",
    "papermill": {
     "duration": 0.064406,
     "end_time": "2023-07-30T04:57:39.315409",
     "exception": false,
     "start_time": "2023-07-30T04:57:39.251003",
     "status": "completed"
    },
    "tags": []
   },
   "outputs": [
    {
     "name": "stdout",
     "output_type": "stream",
     "text": [
      "Model: \"sequential\"\n",
      "_________________________________________________________________\n",
      " Layer (type)                Output Shape              Param #   \n",
      "=================================================================\n",
      " normalization (Normalizatio  (None, 6)                13        \n",
      " n)                                                              \n",
      "                                                                 \n",
      " dense (Dense)               (None, 16)                112       \n",
      "                                                                 \n",
      " dense_1 (Dense)             (None, 4)                 68        \n",
      "                                                                 \n",
      " dropout (Dropout)           (None, 4)                 0         \n",
      "                                                                 \n",
      " dense_2 (Dense)             (None, 1)                 5         \n",
      "                                                                 \n",
      "=================================================================\n",
      "Total params: 198\n",
      "Trainable params: 185\n",
      "Non-trainable params: 13\n",
      "_________________________________________________________________\n"
     ]
    }
   ],
   "source": [
    "model.compile(\n",
    "    optimizer=tf.optimizers.Adam(learning_rate=0.1),\n",
    "    loss='mae',\n",
    "    metrics=['mae', 'mse']\n",
    ")\n",
    "model.build()\n",
    "model.summary()"
   ]
  },
  {
   "cell_type": "code",
   "execution_count": 8,
   "id": "1d038a7b",
   "metadata": {
    "execution": {
     "iopub.execute_input": "2023-07-30T04:57:39.334674Z",
     "iopub.status.busy": "2023-07-30T04:57:39.334282Z",
     "iopub.status.idle": "2023-07-30T04:57:49.712405Z",
     "shell.execute_reply": "2023-07-30T04:57:49.711160Z"
    },
    "executionInfo": {
     "elapsed": 22425,
     "status": "ok",
     "timestamp": 1682576263388,
     "user": {
      "displayName": "Enrico Findley",
      "userId": "14271070888852842352"
     },
     "user_tz": -420
    },
    "id": "W4phOG9OW4hP",
    "outputId": "a951d65d-91c9-415c-bff7-57c1b2d9af0f",
    "papermill": {
     "duration": 10.391228,
     "end_time": "2023-07-30T04:57:49.715258",
     "exception": false,
     "start_time": "2023-07-30T04:57:39.324030",
     "status": "completed"
    },
    "tags": []
   },
   "outputs": [
    {
     "name": "stdout",
     "output_type": "stream",
     "text": [
      "<keras.callbacks.History object at 0x7c472b7966b0>\n"
     ]
    }
   ],
   "source": [
    "history = model.fit(\n",
    "    train_dataset,\n",
    "    train_labels,\n",
    "    epochs=100,\n",
    "    validation_split=0.5,\n",
    "    verbose=0, # disable logging\n",
    ")\n",
    "\n",
    "print(history)"
   ]
  },
  {
   "cell_type": "code",
   "execution_count": 9,
   "id": "ca988ceb",
   "metadata": {
    "execution": {
     "iopub.execute_input": "2023-07-30T04:57:49.736631Z",
     "iopub.status.busy": "2023-07-30T04:57:49.735627Z",
     "iopub.status.idle": "2023-07-30T04:57:50.403049Z",
     "shell.execute_reply": "2023-07-30T04:57:50.402033Z"
    },
    "executionInfo": {
     "elapsed": 1050,
     "status": "ok",
     "timestamp": 1682576272222,
     "user": {
      "displayName": "Enrico Findley",
      "userId": "14271070888852842352"
     },
     "user_tz": -420
    },
    "id": "Xe7RXH3N3CWU",
    "outputId": "e15a6247-7d3e-4c3c-a4df-2b62e41cb5a9",
    "papermill": {
     "duration": 0.681019,
     "end_time": "2023-07-30T04:57:50.405584",
     "exception": false,
     "start_time": "2023-07-30T04:57:49.724565",
     "status": "completed"
    },
    "tags": []
   },
   "outputs": [
    {
     "name": "stdout",
     "output_type": "stream",
     "text": [
      "9/9 - 0s - loss: 3391.5688 - mae: 3391.5688 - mse: 37700280.0000 - 39ms/epoch - 4ms/step\n",
      "Testing set Mean Abs Error: 3391.57 expenses\n",
      "9/9 [==============================] - 0s 2ms/step\n"
     ]
    },
    {
     "data": {
      "image/png": "[encoded data removed]",
      "text/plain": [
       "<Figure size 640x480 with 1 Axes>"
      ]
     },
     "metadata": {},
     "output_type": "display_data"
    }
   ],
   "source": [
    "# Test model by checking how well the model generalizes using the test set.\n",
    "loss, mae, mse = model.evaluate(test_dataset, test_labels, verbose=2)\n",
    "\n",
    "print(\"Testing set Mean Abs Error: {:5.2f} expenses\".format(mae))\n",
    "\n",
    "# Plot predictions.\n",
    "test_predictions = model.predict(test_dataset).flatten()\n",
    "\n",
    "a = plt.axes(aspect='equal')\n",
    "plt.scatter(test_labels, test_predictions)\n",
    "plt.xlabel('True values (expenses)')\n",
    "plt.ylabel('Predictions (expenses)')\n",
    "lims = [0, 50000]\n",
    "plt.xlim(lims)\n",
    "plt.ylim(lims)\n",
    "_ = plt.plot(lims,lims)\n"
   ]
  }
 ],
 "metadata": {
  "kernelspec": {
   "display_name": "Python 3",
   "language": "python",
   "name": "python3"
  },
  "language_info": {
   "codemirror_mode": {
    "name": "ipython",
    "version": 3
   },
   "file_extension": ".py",
   "mimetype": "text/x-python",
   "name": "python",
   "nbconvert_exporter": "python",
   "pygments_lexer": "ipython3",
   "version": "3.10.12"
  },
  "papermill": {
   "default_parameters": {},
   "duration": 40.846913,
   "end_time": "2023-07-30T04:57:52.942153",
   "environment_variables": {},
   "exception": null,
   "input_path": "__notebook__.ipynb",
   "output_path": "__notebook__.ipynb",
   "parameters": {},
   "start_time": "2023-07-30T04:57:12.095240",
   "version": "2.4.0"
  }
 },
 "nbformat": 4,
 "nbformat_minor": 5
}
