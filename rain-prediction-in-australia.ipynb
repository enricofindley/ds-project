{
 "cells": [
  {
   "cell_type": "markdown",
   "id": "9915cac8",
   "metadata": {
    "papermill": {
     "duration": 0.016183,
     "end_time": "2023-08-02T01:44:02.958754",
     "exception": false,
     "start_time": "2023-08-02T01:44:02.942571",
     "status": "completed"
    },
    "tags": []
   },
   "source": [
    "<p style=\"text-align:center\">\n",
    "    <a href=\"https://skills.network/?utm_medium=Exinfluencer&utm_source=Exinfluencer&utm_content=000026UJ&utm_term=10006555&utm_id=NA-SkillsNetwork-Channel-SkillsNetworkCoursesIBMDeveloperSkillsNetworkML0101ENSkillsNetwork20718538-2022-01-01\">\n",
    "    <img src=\"https://cf-courses-data.s3.us.cloud-object-storage.appdomain.cloud/assets/logos/SN_web_lightmode.png\" width=\"200\" alt=\"Skills Network Logo\"  />\n",
    "    </a>\n",
    "</p>"
   ]
  },
  {
   "cell_type": "markdown",
   "id": "a10195a6",
   "metadata": {
    "papermill": {
     "duration": 0.016802,
     "end_time": "2023-08-02T01:44:02.991772",
     "exception": false,
     "start_time": "2023-08-02T01:44:02.974970",
     "status": "completed"
    },
    "tags": []
   },
   "source": [
    "Algorith used:\n",
    "\n",
    "1.  Linear Regression\n",
    "2.  KNN\n",
    "3.  Decision Trees\n",
    "4.  Logistic Regression\n",
    "5.  SVM\n",
    "\n",
    "Evaluation metrics:\n",
    "\n",
    "1.  Accuracy Score\n",
    "2.  Jaccard Index\n",
    "3.  F1-Score\n",
    "4.  LogLoss\n",
    "5.  Mean Absolute Error\n",
    "6.  Mean Squared Error\n",
    "7.  R2-Score"
   ]
  },
  {
   "cell_type": "markdown",
   "id": "452ef6ec",
   "metadata": {
    "papermill": {
     "duration": 0.015354,
     "end_time": "2023-08-02T01:44:03.022747",
     "exception": false,
     "start_time": "2023-08-02T01:44:03.007393",
     "status": "completed"
    },
    "tags": []
   },
   "source": [
    "# About The Dataset\n"
   ]
  },
  {
   "cell_type": "markdown",
   "id": "93812f63",
   "metadata": {
    "papermill": {
     "duration": 0.015698,
     "end_time": "2023-08-02T01:44:03.055291",
     "exception": false,
     "start_time": "2023-08-02T01:44:03.039593",
     "status": "completed"
    },
    "tags": []
   },
   "source": [
    "The original source of the data is Australian Government's Bureau of Meteorology and the latest data can be gathered from [http://www.bom.gov.au/climate/dwo/](http://www.bom.gov.au/climate/dwo/?utm_medium=Exinfluencer&utm_source=Exinfluencer&utm_content=000026UJ&utm_term=10006555&utm_id=NA-SkillsNetwork-Channel-SkillsNetworkCoursesIBMDeveloperSkillsNetworkML0101ENSkillsNetwork20718538-2022-01-01).\n",
    "\n",
    "The dataset to be used has extra columns like 'RainToday' and our target is 'RainTomorrow', which was gathered from the Rattle at [https://bitbucket.org/kayontoga/rattle/src/master/data/weatherAUS.RData](https://bitbucket.org/kayontoga/rattle/src/master/data/weatherAUS.RData?utm_medium=Exinfluencer&utm_source=Exinfluencer&utm_content=000026UJ&utm_term=10006555&utm_id=NA-SkillsNetwork-Channel-SkillsNetworkCoursesIBMDeveloperSkillsNetworkML0101ENSkillsNetwork20718538-2022-01-01)\n",
    "\n"
   ]
  },
  {
   "cell_type": "markdown",
   "id": "3165e24c",
   "metadata": {
    "papermill": {
     "duration": 0.015481,
     "end_time": "2023-08-02T01:44:03.086308",
     "exception": false,
     "start_time": "2023-08-02T01:44:03.070827",
     "status": "completed"
    },
    "tags": []
   },
   "source": [
    "This dataset contains observations of weather metrics for each day from 2008 to 2017. The **weatherAUS.csv** dataset includes the following fields:\n",
    "\n",
    "| Field         | Description                                           | Unit            | Type   |\n",
    "| ------------- | ----------------------------------------------------- | --------------- | ------ |\n",
    "| Date          | Date of the Observation in YYYY-MM-DD                 | Date            | object |\n",
    "| Location      | Location of the Observation                           | Location        | object |\n",
    "| MinTemp       | Minimum temperature                                   | Celsius         | float  |\n",
    "| MaxTemp       | Maximum temperature                                   | Celsius         | float  |\n",
    "| Rainfall      | Amount of rainfall                                    | Millimeters     | float  |\n",
    "| Evaporation   | Amount of evaporation                                 | Millimeters     | float  |\n",
    "| Sunshine      | Amount of bright sunshine                             | hours           | float  |\n",
    "| WindGustDir   | Direction of the strongest gust                       | Compass Points  | object |\n",
    "| WindGustSpeed | Speed of the strongest gust                           | Kilometers/Hour | object |\n",
    "| WindDir9am    | Wind direction averaged of 10 minutes prior to 9am    | Compass Points  | object |\n",
    "| WindDir3pm    | Wind direction averaged of 10 minutes prior to 3pm    | Compass Points  | object |\n",
    "| WindSpeed9am  | Wind speed averaged of 10 minutes prior to 9am        | Kilometers/Hour | float  |\n",
    "| WindSpeed3pm  | Wind speed averaged of 10 minutes prior to 3pm        | Kilometers/Hour | float  |\n",
    "| Humidity9am   | Humidity at 9am                                       | Percent         | float  |\n",
    "| Humidity3pm   | Humidity at 3pm                                       | Percent         | float  |\n",
    "| Pressure9am   | Atmospheric pressure reduced to mean sea level at 9am | Hectopascal     | float  |\n",
    "| Pressure3pm   | Atmospheric pressure reduced to mean sea level at 3pm | Hectopascal     | float  |\n",
    "| Cloud9am      | Fraction of the sky obscured by cloud at 9am          | Eights          | float  |\n",
    "| Cloud3pm      | Fraction of the sky obscured by cloud at 3pm          | Eights          | float  |\n",
    "| Temp9am       | Temperature at 9am                                    | Celsius         | float  |\n",
    "| Temp3pm       | Temperature at 3pm                                    | Celsius         | float  |\n",
    "| RainToday     | If there was rain today                               | Yes/No          | object |\n",
    "| RISK_MM       | Amount of rain tomorrow                               | Millimeters     | float  |\n",
    "| RainTomorrow  | If there is rain tomorrow                             | Yes/No          | float  |\n",
    "\n",
    "Column definitions were gathered from [http://www.bom.gov.au/climate/dwo/IDCJDW0000.shtml](http://www.bom.gov.au/climate/dwo/IDCJDW0000.shtml?utm_medium=Exinfluencer&utm_source=Exinfluencer&utm_content=000026UJ&utm_term=10006555&utm_id=NA-SkillsNetwork-Channel-SkillsNetworkCoursesIBMDeveloperSkillsNetworkML0101ENSkillsNetwork20718538-2022-01-01)\n",
    "\n"
   ]
  },
  {
   "cell_type": "markdown",
   "id": "84961f1f",
   "metadata": {
    "papermill": {
     "duration": 0.016803,
     "end_time": "2023-08-02T01:44:03.118601",
     "exception": false,
     "start_time": "2023-08-02T01:44:03.101798",
     "status": "completed"
    },
    "tags": []
   },
   "source": [
    "# Import the required libraries\n"
   ]
  },
  {
   "cell_type": "code",
   "execution_count": 1,
   "id": "58999913",
   "metadata": {
    "execution": {
     "iopub.execute_input": "2023-08-02T01:44:03.154856Z",
     "iopub.status.busy": "2023-08-02T01:44:03.154152Z",
     "iopub.status.idle": "2023-08-02T01:44:03.166365Z",
     "shell.execute_reply": "2023-08-02T01:44:03.165314Z"
    },
    "papermill": {
     "duration": 0.033171,
     "end_time": "2023-08-02T01:44:03.169031",
     "exception": false,
     "start_time": "2023-08-02T01:44:03.135860",
     "status": "completed"
    },
    "tags": []
   },
   "outputs": [],
   "source": [
    "# Surpress warnings:\n",
    "def warn(*args, **kwargs):\n",
    "    pass\n",
    "import warnings\n",
    "warnings.warn = warn"
   ]
  },
  {
   "cell_type": "code",
   "execution_count": 2,
   "id": "7aa1d6e9",
   "metadata": {
    "execution": {
     "iopub.execute_input": "2023-08-02T01:44:03.205100Z",
     "iopub.status.busy": "2023-08-02T01:44:03.204379Z",
     "iopub.status.idle": "2023-08-02T01:44:04.945449Z",
     "shell.execute_reply": "2023-08-02T01:44:04.944087Z"
    },
    "papermill": {
     "duration": 1.762692,
     "end_time": "2023-08-02T01:44:04.948670",
     "exception": false,
     "start_time": "2023-08-02T01:44:03.185978",
     "status": "completed"
    },
    "tags": []
   },
   "outputs": [],
   "source": [
    "import pandas as pd\n",
    "from sklearn.linear_model import LogisticRegression\n",
    "from sklearn.linear_model import LinearRegression\n",
    "from sklearn import preprocessing\n",
    "import numpy as np\n",
    "from sklearn.neighbors import KNeighborsClassifier\n",
    "from sklearn.model_selection import GridSearchCV\n",
    "from sklearn.model_selection import train_test_split\n",
    "from sklearn.neighbors import KNeighborsClassifier\n",
    "from sklearn.tree import DecisionTreeClassifier\n",
    "from sklearn import svm\n",
    "from sklearn.metrics import jaccard_score\n",
    "from sklearn.metrics import f1_score\n",
    "from sklearn.metrics import log_loss\n",
    "import matplotlib.pyplot as plt\n",
    "from sklearn.metrics import confusion_matrix, accuracy_score\n",
    "import sklearn.metrics as metrics"
   ]
  },
  {
   "cell_type": "markdown",
   "id": "323f7d73",
   "metadata": {
    "papermill": {
     "duration": 0.016241,
     "end_time": "2023-08-02T01:44:04.980914",
     "exception": false,
     "start_time": "2023-08-02T01:44:04.964673",
     "status": "completed"
    },
    "tags": []
   },
   "source": [
    "# Data Collecting\n"
   ]
  },
  {
   "cell_type": "code",
   "execution_count": 3,
   "id": "e1465798",
   "metadata": {
    "execution": {
     "iopub.execute_input": "2023-08-02T01:44:05.014461Z",
     "iopub.status.busy": "2023-08-02T01:44:05.014024Z",
     "iopub.status.idle": "2023-08-02T01:44:07.431597Z",
     "shell.execute_reply": "2023-08-02T01:44:07.430308Z"
    },
    "papermill": {
     "duration": 2.438052,
     "end_time": "2023-08-02T01:44:07.434882",
     "exception": false,
     "start_time": "2023-08-02T01:44:04.996830",
     "status": "completed"
    },
    "tags": []
   },
   "outputs": [
    {
     "data": {
      "text/html": [
       "<div>\n",
       "<style scoped>\n",
       "    .dataframe tbody tr th:only-of-type {\n",
       "        vertical-align: middle;\n",
       "    }\n",
       "\n",
       "    .dataframe tbody tr th {\n",
       "        vertical-align: top;\n",
       "    }\n",
       "\n",
       "    .dataframe thead th {\n",
       "        text-align: right;\n",
       "    }\n",
       "</style>\n",
       "<table border=\"1\" class=\"dataframe\">\n",
       "  <thead>\n",
       "    <tr style=\"text-align: right;\">\n",
       "      <th></th>\n",
       "      <th>Date</th>\n",
       "      <th>MinTemp</th>\n",
       "      <th>MaxTemp</th>\n",
       "      <th>Rainfall</th>\n",
       "      <th>Evaporation</th>\n",
       "      <th>Sunshine</th>\n",
       "      <th>WindGustDir</th>\n",
       "      <th>WindGustSpeed</th>\n",
       "      <th>WindDir9am</th>\n",
       "      <th>WindDir3pm</th>\n",
       "      <th>...</th>\n",
       "      <th>Humidity9am</th>\n",
       "      <th>Humidity3pm</th>\n",
       "      <th>Pressure9am</th>\n",
       "      <th>Pressure3pm</th>\n",
       "      <th>Cloud9am</th>\n",
       "      <th>Cloud3pm</th>\n",
       "      <th>Temp9am</th>\n",
       "      <th>Temp3pm</th>\n",
       "      <th>RainToday</th>\n",
       "      <th>RainTomorrow</th>\n",
       "    </tr>\n",
       "  </thead>\n",
       "  <tbody>\n",
       "    <tr>\n",
       "      <th>0</th>\n",
       "      <td>2/1/2008</td>\n",
       "      <td>19.5</td>\n",
       "      <td>22.4</td>\n",
       "      <td>15.6</td>\n",
       "      <td>6.2</td>\n",
       "      <td>0.0</td>\n",
       "      <td>W</td>\n",
       "      <td>41</td>\n",
       "      <td>S</td>\n",
       "      <td>SSW</td>\n",
       "      <td>...</td>\n",
       "      <td>92</td>\n",
       "      <td>84</td>\n",
       "      <td>1017.6</td>\n",
       "      <td>1017.4</td>\n",
       "      <td>8</td>\n",
       "      <td>8</td>\n",
       "      <td>20.7</td>\n",
       "      <td>20.9</td>\n",
       "      <td>Yes</td>\n",
       "      <td>Yes</td>\n",
       "    </tr>\n",
       "    <tr>\n",
       "      <th>1</th>\n",
       "      <td>2/2/2008</td>\n",
       "      <td>19.5</td>\n",
       "      <td>25.6</td>\n",
       "      <td>6.0</td>\n",
       "      <td>3.4</td>\n",
       "      <td>2.7</td>\n",
       "      <td>W</td>\n",
       "      <td>41</td>\n",
       "      <td>W</td>\n",
       "      <td>E</td>\n",
       "      <td>...</td>\n",
       "      <td>83</td>\n",
       "      <td>73</td>\n",
       "      <td>1017.9</td>\n",
       "      <td>1016.4</td>\n",
       "      <td>7</td>\n",
       "      <td>7</td>\n",
       "      <td>22.4</td>\n",
       "      <td>24.8</td>\n",
       "      <td>Yes</td>\n",
       "      <td>Yes</td>\n",
       "    </tr>\n",
       "    <tr>\n",
       "      <th>2</th>\n",
       "      <td>2/3/2008</td>\n",
       "      <td>21.6</td>\n",
       "      <td>24.5</td>\n",
       "      <td>6.6</td>\n",
       "      <td>2.4</td>\n",
       "      <td>0.1</td>\n",
       "      <td>W</td>\n",
       "      <td>41</td>\n",
       "      <td>ESE</td>\n",
       "      <td>ESE</td>\n",
       "      <td>...</td>\n",
       "      <td>88</td>\n",
       "      <td>86</td>\n",
       "      <td>1016.7</td>\n",
       "      <td>1015.6</td>\n",
       "      <td>7</td>\n",
       "      <td>8</td>\n",
       "      <td>23.5</td>\n",
       "      <td>23.0</td>\n",
       "      <td>Yes</td>\n",
       "      <td>Yes</td>\n",
       "    </tr>\n",
       "    <tr>\n",
       "      <th>3</th>\n",
       "      <td>2/4/2008</td>\n",
       "      <td>20.2</td>\n",
       "      <td>22.8</td>\n",
       "      <td>18.8</td>\n",
       "      <td>2.2</td>\n",
       "      <td>0.0</td>\n",
       "      <td>W</td>\n",
       "      <td>41</td>\n",
       "      <td>NNE</td>\n",
       "      <td>E</td>\n",
       "      <td>...</td>\n",
       "      <td>83</td>\n",
       "      <td>90</td>\n",
       "      <td>1014.2</td>\n",
       "      <td>1011.8</td>\n",
       "      <td>8</td>\n",
       "      <td>8</td>\n",
       "      <td>21.4</td>\n",
       "      <td>20.9</td>\n",
       "      <td>Yes</td>\n",
       "      <td>Yes</td>\n",
       "    </tr>\n",
       "    <tr>\n",
       "      <th>4</th>\n",
       "      <td>2/5/2008</td>\n",
       "      <td>19.7</td>\n",
       "      <td>25.7</td>\n",
       "      <td>77.4</td>\n",
       "      <td>4.8</td>\n",
       "      <td>0.0</td>\n",
       "      <td>W</td>\n",
       "      <td>41</td>\n",
       "      <td>NNE</td>\n",
       "      <td>W</td>\n",
       "      <td>...</td>\n",
       "      <td>88</td>\n",
       "      <td>74</td>\n",
       "      <td>1008.3</td>\n",
       "      <td>1004.8</td>\n",
       "      <td>8</td>\n",
       "      <td>8</td>\n",
       "      <td>22.5</td>\n",
       "      <td>25.5</td>\n",
       "      <td>Yes</td>\n",
       "      <td>Yes</td>\n",
       "    </tr>\n",
       "  </tbody>\n",
       "</table>\n",
       "<p>5 rows × 22 columns</p>\n",
       "</div>"
      ],
      "text/plain": [
       "       Date  MinTemp  MaxTemp  Rainfall  Evaporation  Sunshine WindGustDir  \\\n",
       "0  2/1/2008     19.5     22.4      15.6          6.2       0.0           W   \n",
       "1  2/2/2008     19.5     25.6       6.0          3.4       2.7           W   \n",
       "2  2/3/2008     21.6     24.5       6.6          2.4       0.1           W   \n",
       "3  2/4/2008     20.2     22.8      18.8          2.2       0.0           W   \n",
       "4  2/5/2008     19.7     25.7      77.4          4.8       0.0           W   \n",
       "\n",
       "   WindGustSpeed WindDir9am WindDir3pm  ...  Humidity9am  Humidity3pm  \\\n",
       "0             41          S        SSW  ...           92           84   \n",
       "1             41          W          E  ...           83           73   \n",
       "2             41        ESE        ESE  ...           88           86   \n",
       "3             41        NNE          E  ...           83           90   \n",
       "4             41        NNE          W  ...           88           74   \n",
       "\n",
       "   Pressure9am  Pressure3pm  Cloud9am  Cloud3pm  Temp9am  Temp3pm  RainToday  \\\n",
       "0       1017.6       1017.4         8         8     20.7     20.9        Yes   \n",
       "1       1017.9       1016.4         7         7     22.4     24.8        Yes   \n",
       "2       1016.7       1015.6         7         8     23.5     23.0        Yes   \n",
       "3       1014.2       1011.8         8         8     21.4     20.9        Yes   \n",
       "4       1008.3       1004.8         8         8     22.5     25.5        Yes   \n",
       "\n",
       "   RainTomorrow  \n",
       "0           Yes  \n",
       "1           Yes  \n",
       "2           Yes  \n",
       "3           Yes  \n",
       "4           Yes  \n",
       "\n",
       "[5 rows x 22 columns]"
      ]
     },
     "execution_count": 3,
     "metadata": {},
     "output_type": "execute_result"
    }
   ],
   "source": [
    "df = pd.read_csv('https://cf-courses-data.s3.us.cloud-object-storage.appdomain.cloud/IBMDeveloperSkillsNetwork-ML0101EN-SkillUp/labs/ML-FinalAssignment/Weather_Data.csv')\n",
    "\n",
    "df.head()"
   ]
  },
  {
   "cell_type": "markdown",
   "id": "7cea988b",
   "metadata": {
    "papermill": {
     "duration": 0.015966,
     "end_time": "2023-08-02T01:44:07.467829",
     "exception": false,
     "start_time": "2023-08-02T01:44:07.451863",
     "status": "completed"
    },
    "tags": []
   },
   "source": [
    "# Data Preprocessing\n"
   ]
  },
  {
   "cell_type": "markdown",
   "id": "d2538f5a",
   "metadata": {
    "papermill": {
     "duration": 0.016225,
     "end_time": "2023-08-02T01:44:07.501196",
     "exception": false,
     "start_time": "2023-08-02T01:44:07.484971",
     "status": "completed"
    },
    "tags": []
   },
   "source": [
    "Converting categorical variables to binary variables using pandas `get_dummies()` method.\n"
   ]
  },
  {
   "cell_type": "code",
   "execution_count": 4,
   "id": "126f3169",
   "metadata": {
    "execution": {
     "iopub.execute_input": "2023-08-02T01:44:07.536035Z",
     "iopub.status.busy": "2023-08-02T01:44:07.535630Z",
     "iopub.status.idle": "2023-08-02T01:44:07.554329Z",
     "shell.execute_reply": "2023-08-02T01:44:07.553455Z"
    },
    "papermill": {
     "duration": 0.038543,
     "end_time": "2023-08-02T01:44:07.556944",
     "exception": false,
     "start_time": "2023-08-02T01:44:07.518401",
     "status": "completed"
    },
    "tags": []
   },
   "outputs": [],
   "source": [
    "df_sydney_processed = pd.get_dummies(data=df, columns=['RainToday', 'WindGustDir', 'WindDir9am', 'WindDir3pm'])"
   ]
  },
  {
   "cell_type": "markdown",
   "id": "a8960710",
   "metadata": {
    "papermill": {
     "duration": 0.015769,
     "end_time": "2023-08-02T01:44:07.588931",
     "exception": false,
     "start_time": "2023-08-02T01:44:07.573162",
     "status": "completed"
    },
    "tags": []
   },
   "source": [
    "Replacing the values of the 'RainTomorrow' column changing them from a categorical column to a binary column. We do not use the `get_dummies` method because we would end up with two columns for 'RainTomorrow' and we do not want, since 'RainTomorrow' is the target.\n"
   ]
  },
  {
   "cell_type": "code",
   "execution_count": 5,
   "id": "a3bff961",
   "metadata": {
    "execution": {
     "iopub.execute_input": "2023-08-02T01:44:07.625843Z",
     "iopub.status.busy": "2023-08-02T01:44:07.625191Z",
     "iopub.status.idle": "2023-08-02T01:44:07.637871Z",
     "shell.execute_reply": "2023-08-02T01:44:07.636506Z"
    },
    "papermill": {
     "duration": 0.034857,
     "end_time": "2023-08-02T01:44:07.640872",
     "exception": false,
     "start_time": "2023-08-02T01:44:07.606015",
     "status": "completed"
    },
    "tags": []
   },
   "outputs": [],
   "source": [
    "df_sydney_processed.replace(['No', 'Yes'], [0,1], inplace=True)"
   ]
  },
  {
   "cell_type": "markdown",
   "id": "55a8f4cf",
   "metadata": {
    "papermill": {
     "duration": 0.015796,
     "end_time": "2023-08-02T01:44:07.672694",
     "exception": false,
     "start_time": "2023-08-02T01:44:07.656898",
     "status": "completed"
    },
    "tags": []
   },
   "source": [
    "Now, we set our 'features' or x values and our Y or target variable and then split the data into training and test dataset using `train_test_split` method.\n"
   ]
  },
  {
   "cell_type": "code",
   "execution_count": 6,
   "id": "46540025",
   "metadata": {
    "execution": {
     "iopub.execute_input": "2023-08-02T01:44:07.706810Z",
     "iopub.status.busy": "2023-08-02T01:44:07.706114Z",
     "iopub.status.idle": "2023-08-02T01:44:07.712641Z",
     "shell.execute_reply": "2023-08-02T01:44:07.711295Z"
    },
    "papermill": {
     "duration": 0.026806,
     "end_time": "2023-08-02T01:44:07.715371",
     "exception": false,
     "start_time": "2023-08-02T01:44:07.688565",
     "status": "completed"
    },
    "tags": []
   },
   "outputs": [],
   "source": [
    "df_sydney_processed.drop('Date',axis=1,inplace=True)"
   ]
  },
  {
   "cell_type": "code",
   "execution_count": 7,
   "id": "50756063",
   "metadata": {
    "execution": {
     "iopub.execute_input": "2023-08-02T01:44:07.749718Z",
     "iopub.status.busy": "2023-08-02T01:44:07.749316Z",
     "iopub.status.idle": "2023-08-02T01:44:07.758051Z",
     "shell.execute_reply": "2023-08-02T01:44:07.755865Z"
    },
    "papermill": {
     "duration": 0.029622,
     "end_time": "2023-08-02T01:44:07.760989",
     "exception": false,
     "start_time": "2023-08-02T01:44:07.731367",
     "status": "completed"
    },
    "tags": []
   },
   "outputs": [],
   "source": [
    "df_sydney_processed = df_sydney_processed.astype(float)"
   ]
  },
  {
   "cell_type": "code",
   "execution_count": 8,
   "id": "5dff4ea4",
   "metadata": {
    "execution": {
     "iopub.execute_input": "2023-08-02T01:44:07.795183Z",
     "iopub.status.busy": "2023-08-02T01:44:07.794754Z",
     "iopub.status.idle": "2023-08-02T01:44:07.803433Z",
     "shell.execute_reply": "2023-08-02T01:44:07.802111Z"
    },
    "papermill": {
     "duration": 0.028766,
     "end_time": "2023-08-02T01:44:07.805813",
     "exception": false,
     "start_time": "2023-08-02T01:44:07.777047",
     "status": "completed"
    },
    "tags": []
   },
   "outputs": [],
   "source": [
    "features = df_sydney_processed.drop(columns='RainTomorrow', axis=1)\n",
    "Y = df_sydney_processed['RainTomorrow']"
   ]
  },
  {
   "cell_type": "code",
   "execution_count": 9,
   "id": "10652ecd",
   "metadata": {
    "execution": {
     "iopub.execute_input": "2023-08-02T01:44:07.840617Z",
     "iopub.status.busy": "2023-08-02T01:44:07.840190Z",
     "iopub.status.idle": "2023-08-02T01:44:07.854683Z",
     "shell.execute_reply": "2023-08-02T01:44:07.853278Z"
    },
    "papermill": {
     "duration": 0.035878,
     "end_time": "2023-08-02T01:44:07.857613",
     "exception": false,
     "start_time": "2023-08-02T01:44:07.821735",
     "status": "completed"
    },
    "tags": []
   },
   "outputs": [],
   "source": [
    "x_train, x_test, y_train, y_test = train_test_split(features, Y, test_size=0.2, random_state=10)\n",
    "x_train = x_train.astype(float)\n",
    "x_test = x_test.astype(float)"
   ]
  },
  {
   "cell_type": "markdown",
   "id": "1ca9d3c7",
   "metadata": {
    "papermill": {
     "duration": 0.015747,
     "end_time": "2023-08-02T01:44:07.889274",
     "exception": false,
     "start_time": "2023-08-02T01:44:07.873527",
     "status": "completed"
    },
    "tags": []
   },
   "source": [
    "# Model Training and Evaluation"
   ]
  },
  {
   "cell_type": "markdown",
   "id": "234e350f",
   "metadata": {
    "papermill": {
     "duration": 0.01622,
     "end_time": "2023-08-02T01:44:07.921644",
     "exception": false,
     "start_time": "2023-08-02T01:44:07.905424",
     "status": "completed"
    },
    "tags": []
   },
   "source": [
    "### Linear Regression\n"
   ]
  },
  {
   "cell_type": "markdown",
   "id": "82b62414",
   "metadata": {
    "papermill": {
     "duration": 0.015737,
     "end_time": "2023-08-02T01:44:07.953705",
     "exception": false,
     "start_time": "2023-08-02T01:44:07.937968",
     "status": "completed"
    },
    "tags": []
   },
   "source": [
    "Create and train a Linear Regression model called LinearReg using the training data (`x_train`, `y_train`).\n"
   ]
  },
  {
   "cell_type": "code",
   "execution_count": 10,
   "id": "5529c922",
   "metadata": {
    "execution": {
     "iopub.execute_input": "2023-08-02T01:44:07.987736Z",
     "iopub.status.busy": "2023-08-02T01:44:07.987343Z",
     "iopub.status.idle": "2023-08-02T01:44:08.048503Z",
     "shell.execute_reply": "2023-08-02T01:44:08.046877Z"
    },
    "papermill": {
     "duration": 0.083209,
     "end_time": "2023-08-02T01:44:08.052903",
     "exception": false,
     "start_time": "2023-08-02T01:44:07.969694",
     "status": "completed"
    },
    "tags": []
   },
   "outputs": [
    {
     "data": {
      "text/html": [
       "<style>#sk-container-id-1 {color: black;background-color: white;}#sk-container-id-1 pre{padding: 0;}#sk-container-id-1 div.sk-toggleable {background-color: white;}#sk-container-id-1 label.sk-toggleable__label {cursor: pointer;display: block;width: 100%;margin-bottom: 0;padding: 0.3em;box-sizing: border-box;text-align: center;}#sk-container-id-1 label.sk-toggleable__label-arrow:before {content: \"▸\";float: left;margin-right: 0.25em;color: #696969;}#sk-container-id-1 label.sk-toggleable__label-arrow:hover:before {color: black;}#sk-container-id-1 div.sk-estimator:hover label.sk-toggleable__label-arrow:before {color: black;}#sk-container-id-1 div.sk-toggleable__content {max-height: 0;max-width: 0;overflow: hidden;text-align: left;background-color: #f0f8ff;}#sk-container-id-1 div.sk-toggleable__content pre {margin: 0.2em;color: black;border-radius: 0.25em;background-color: #f0f8ff;}#sk-container-id-1 input.sk-toggleable__control:checked~div.sk-toggleable__content {max-height: 200px;max-width: 100%;overflow: auto;}#sk-container-id-1 input.sk-toggleable__control:checked~label.sk-toggleable__label-arrow:before {content: \"▾\";}#sk-container-id-1 div.sk-estimator input.sk-toggleable__control:checked~label.sk-toggleable__label {background-color: #d4ebff;}#sk-container-id-1 div.sk-label input.sk-toggleable__control:checked~label.sk-toggleable__label {background-color: #d4ebff;}#sk-container-id-1 input.sk-hidden--visually {border: 0;clip: rect(1px 1px 1px 1px);clip: rect(1px, 1px, 1px, 1px);height: 1px;margin: -1px;overflow: hidden;padding: 0;position: absolute;width: 1px;}#sk-container-id-1 div.sk-estimator {font-family: monospace;background-color: #f0f8ff;border: 1px dotted black;border-radius: 0.25em;box-sizing: border-box;margin-bottom: 0.5em;}#sk-container-id-1 div.sk-estimator:hover {background-color: #d4ebff;}#sk-container-id-1 div.sk-parallel-item::after {content: \"\";width: 100%;border-bottom: 1px solid gray;flex-grow: 1;}#sk-container-id-1 div.sk-label:hover label.sk-toggleable__label {background-color: #d4ebff;}#sk-container-id-1 div.sk-serial::before {content: \"\";position: absolute;border-left: 1px solid gray;box-sizing: border-box;top: 0;bottom: 0;left: 50%;z-index: 0;}#sk-container-id-1 div.sk-serial {display: flex;flex-direction: column;align-items: center;background-color: white;padding-right: 0.2em;padding-left: 0.2em;position: relative;}#sk-container-id-1 div.sk-item {position: relative;z-index: 1;}#sk-container-id-1 div.sk-parallel {display: flex;align-items: stretch;justify-content: center;background-color: white;position: relative;}#sk-container-id-1 div.sk-item::before, #sk-container-id-1 div.sk-parallel-item::before {content: \"\";position: absolute;border-left: 1px solid gray;box-sizing: border-box;top: 0;bottom: 0;left: 50%;z-index: -1;}#sk-container-id-1 div.sk-parallel-item {display: flex;flex-direction: column;z-index: 1;position: relative;background-color: white;}#sk-container-id-1 div.sk-parallel-item:first-child::after {align-self: flex-end;width: 50%;}#sk-container-id-1 div.sk-parallel-item:last-child::after {align-self: flex-start;width: 50%;}#sk-container-id-1 div.sk-parallel-item:only-child::after {width: 0;}#sk-container-id-1 div.sk-dashed-wrapped {border: 1px dashed gray;margin: 0 0.4em 0.5em 0.4em;box-sizing: border-box;padding-bottom: 0.4em;background-color: white;}#sk-container-id-1 div.sk-label label {font-family: monospace;font-weight: bold;display: inline-block;line-height: 1.2em;}#sk-container-id-1 div.sk-label-container {text-align: center;}#sk-container-id-1 div.sk-container {/* jupyter's `normalize.less` sets `[hidden] { display: none; }` but bootstrap.min.css set `[hidden] { display: none !important; }` so we also need the `!important` here to be able to override the default hidden behavior on the sphinx rendered scikit-learn.org. See: https://github.com/scikit-learn/scikit-learn/issues/21755 */display: inline-block !important;position: relative;}#sk-container-id-1 div.sk-text-repr-fallback {display: none;}</style><div id=\"sk-container-id-1\" class=\"sk-top-container\"><div class=\"sk-text-repr-fallback\"><pre>LinearRegression()</pre><b>In a Jupyter environment, please rerun this cell to show the HTML representation or trust the notebook. <br />On GitHub, the HTML representation is unable to render, please try loading this page with nbviewer.org.</b></div><div class=\"sk-container\" hidden><div class=\"sk-item\"><div class=\"sk-estimator sk-toggleable\"><input class=\"sk-toggleable__control sk-hidden--visually\" id=\"sk-estimator-id-1\" type=\"checkbox\" checked><label for=\"sk-estimator-id-1\" class=\"sk-toggleable__label sk-toggleable__label-arrow\">LinearRegression</label><div class=\"sk-toggleable__content\"><pre>LinearRegression()</pre></div></div></div></div></div>"
      ],
      "text/plain": [
       "LinearRegression()"
      ]
     },
     "execution_count": 10,
     "metadata": {},
     "output_type": "execute_result"
    }
   ],
   "source": [
    "# create linear regression object using x train and y train\n",
    "LinearReg= LinearRegression()\n",
    "LinearReg.fit(x_train, y_train)"
   ]
  },
  {
   "cell_type": "markdown",
   "id": "02e46c54",
   "metadata": {
    "papermill": {
     "duration": 0.035762,
     "end_time": "2023-08-02T01:44:08.122621",
     "exception": false,
     "start_time": "2023-08-02T01:44:08.086859",
     "status": "completed"
    },
    "tags": []
   },
   "source": [
    "Using the `predict` method on the testing data (`x_test`) and save it to the array `predictions`.\n"
   ]
  },
  {
   "cell_type": "code",
   "execution_count": 11,
   "id": "559daaff",
   "metadata": {
    "execution": {
     "iopub.execute_input": "2023-08-02T01:44:08.175366Z",
     "iopub.status.busy": "2023-08-02T01:44:08.174036Z",
     "iopub.status.idle": "2023-08-02T01:44:08.187153Z",
     "shell.execute_reply": "2023-08-02T01:44:08.185573Z"
    },
    "papermill": {
     "duration": 0.037454,
     "end_time": "2023-08-02T01:44:08.193053",
     "exception": false,
     "start_time": "2023-08-02T01:44:08.155599",
     "status": "completed"
    },
    "tags": []
   },
   "outputs": [],
   "source": [
    "predictions = LinearReg.predict(x_test)"
   ]
  },
  {
   "cell_type": "markdown",
   "id": "6c17e1d5",
   "metadata": {
    "papermill": {
     "duration": 0.034116,
     "end_time": "2023-08-02T01:44:08.262105",
     "exception": false,
     "start_time": "2023-08-02T01:44:08.227989",
     "status": "completed"
    },
    "tags": []
   },
   "source": [
    "Using the `predictions` and the `y_test` dataframe calculate the value for each metric using the appropriate function.\n"
   ]
  },
  {
   "cell_type": "code",
   "execution_count": 12,
   "id": "55fa3668",
   "metadata": {
    "execution": {
     "iopub.execute_input": "2023-08-02T01:44:08.317809Z",
     "iopub.status.busy": "2023-08-02T01:44:08.317391Z",
     "iopub.status.idle": "2023-08-02T01:44:08.326583Z",
     "shell.execute_reply": "2023-08-02T01:44:08.325267Z"
    },
    "papermill": {
     "duration": 0.032933,
     "end_time": "2023-08-02T01:44:08.329316",
     "exception": false,
     "start_time": "2023-08-02T01:44:08.296383",
     "status": "completed"
    },
    "tags": []
   },
   "outputs": [],
   "source": [
    "LinearRegression_MAE = metrics.mean_absolute_error(y_test, predictions)\n",
    "LinearRegression_MSE = metrics.mean_squared_error(y_test, predictions)\n",
    "LinearRegression_R2 = metrics.r2_score(y_test, predictions)"
   ]
  },
  {
   "cell_type": "markdown",
   "id": "32c5fdb7",
   "metadata": {
    "papermill": {
     "duration": 0.01588,
     "end_time": "2023-08-02T01:44:08.361963",
     "exception": false,
     "start_time": "2023-08-02T01:44:08.346083",
     "status": "completed"
    },
    "tags": []
   },
   "source": [
    "### KNN\n"
   ]
  },
  {
   "cell_type": "markdown",
   "id": "2c2f34c6",
   "metadata": {
    "papermill": {
     "duration": 0.016889,
     "end_time": "2023-08-02T01:44:08.395282",
     "exception": false,
     "start_time": "2023-08-02T01:44:08.378393",
     "status": "completed"
    },
    "tags": []
   },
   "source": [
    "Create and train a KNN model called KNN using the training data (`x_train`, `y_train`) with the `n_neighbors` parameter set to `4`.\n"
   ]
  },
  {
   "cell_type": "code",
   "execution_count": 13,
   "id": "6718c46b",
   "metadata": {
    "execution": {
     "iopub.execute_input": "2023-08-02T01:44:08.432354Z",
     "iopub.status.busy": "2023-08-02T01:44:08.431948Z",
     "iopub.status.idle": "2023-08-02T01:44:08.446050Z",
     "shell.execute_reply": "2023-08-02T01:44:08.444321Z"
    },
    "papermill": {
     "duration": 0.03728,
     "end_time": "2023-08-02T01:44:08.449429",
     "exception": false,
     "start_time": "2023-08-02T01:44:08.412149",
     "status": "completed"
    },
    "tags": []
   },
   "outputs": [
    {
     "data": {
      "text/html": [
       "<style>#sk-container-id-2 {color: black;background-color: white;}#sk-container-id-2 pre{padding: 0;}#sk-container-id-2 div.sk-toggleable {background-color: white;}#sk-container-id-2 label.sk-toggleable__label {cursor: pointer;display: block;width: 100%;margin-bottom: 0;padding: 0.3em;box-sizing: border-box;text-align: center;}#sk-container-id-2 label.sk-toggleable__label-arrow:before {content: \"▸\";float: left;margin-right: 0.25em;color: #696969;}#sk-container-id-2 label.sk-toggleable__label-arrow:hover:before {color: black;}#sk-container-id-2 div.sk-estimator:hover label.sk-toggleable__label-arrow:before {color: black;}#sk-container-id-2 div.sk-toggleable__content {max-height: 0;max-width: 0;overflow: hidden;text-align: left;background-color: #f0f8ff;}#sk-container-id-2 div.sk-toggleable__content pre {margin: 0.2em;color: black;border-radius: 0.25em;background-color: #f0f8ff;}#sk-container-id-2 input.sk-toggleable__control:checked~div.sk-toggleable__content {max-height: 200px;max-width: 100%;overflow: auto;}#sk-container-id-2 input.sk-toggleable__control:checked~label.sk-toggleable__label-arrow:before {content: \"▾\";}#sk-container-id-2 div.sk-estimator input.sk-toggleable__control:checked~label.sk-toggleable__label {background-color: #d4ebff;}#sk-container-id-2 div.sk-label input.sk-toggleable__control:checked~label.sk-toggleable__label {background-color: #d4ebff;}#sk-container-id-2 input.sk-hidden--visually {border: 0;clip: rect(1px 1px 1px 1px);clip: rect(1px, 1px, 1px, 1px);height: 1px;margin: -1px;overflow: hidden;padding: 0;position: absolute;width: 1px;}#sk-container-id-2 div.sk-estimator {font-family: monospace;background-color: #f0f8ff;border: 1px dotted black;border-radius: 0.25em;box-sizing: border-box;margin-bottom: 0.5em;}#sk-container-id-2 div.sk-estimator:hover {background-color: #d4ebff;}#sk-container-id-2 div.sk-parallel-item::after {content: \"\";width: 100%;border-bottom: 1px solid gray;flex-grow: 1;}#sk-container-id-2 div.sk-label:hover label.sk-toggleable__label {background-color: #d4ebff;}#sk-container-id-2 div.sk-serial::before {content: \"\";position: absolute;border-left: 1px solid gray;box-sizing: border-box;top: 0;bottom: 0;left: 50%;z-index: 0;}#sk-container-id-2 div.sk-serial {display: flex;flex-direction: column;align-items: center;background-color: white;padding-right: 0.2em;padding-left: 0.2em;position: relative;}#sk-container-id-2 div.sk-item {position: relative;z-index: 1;}#sk-container-id-2 div.sk-parallel {display: flex;align-items: stretch;justify-content: center;background-color: white;position: relative;}#sk-container-id-2 div.sk-item::before, #sk-container-id-2 div.sk-parallel-item::before {content: \"\";position: absolute;border-left: 1px solid gray;box-sizing: border-box;top: 0;bottom: 0;left: 50%;z-index: -1;}#sk-container-id-2 div.sk-parallel-item {display: flex;flex-direction: column;z-index: 1;position: relative;background-color: white;}#sk-container-id-2 div.sk-parallel-item:first-child::after {align-self: flex-end;width: 50%;}#sk-container-id-2 div.sk-parallel-item:last-child::after {align-self: flex-start;width: 50%;}#sk-container-id-2 div.sk-parallel-item:only-child::after {width: 0;}#sk-container-id-2 div.sk-dashed-wrapped {border: 1px dashed gray;margin: 0 0.4em 0.5em 0.4em;box-sizing: border-box;padding-bottom: 0.4em;background-color: white;}#sk-container-id-2 div.sk-label label {font-family: monospace;font-weight: bold;display: inline-block;line-height: 1.2em;}#sk-container-id-2 div.sk-label-container {text-align: center;}#sk-container-id-2 div.sk-container {/* jupyter's `normalize.less` sets `[hidden] { display: none; }` but bootstrap.min.css set `[hidden] { display: none !important; }` so we also need the `!important` here to be able to override the default hidden behavior on the sphinx rendered scikit-learn.org. See: https://github.com/scikit-learn/scikit-learn/issues/21755 */display: inline-block !important;position: relative;}#sk-container-id-2 div.sk-text-repr-fallback {display: none;}</style><div id=\"sk-container-id-2\" class=\"sk-top-container\"><div class=\"sk-text-repr-fallback\"><pre>KNeighborsClassifier(n_neighbors=4)</pre><b>In a Jupyter environment, please rerun this cell to show the HTML representation or trust the notebook. <br />On GitHub, the HTML representation is unable to render, please try loading this page with nbviewer.org.</b></div><div class=\"sk-container\" hidden><div class=\"sk-item\"><div class=\"sk-estimator sk-toggleable\"><input class=\"sk-toggleable__control sk-hidden--visually\" id=\"sk-estimator-id-2\" type=\"checkbox\" checked><label for=\"sk-estimator-id-2\" class=\"sk-toggleable__label sk-toggleable__label-arrow\">KNeighborsClassifier</label><div class=\"sk-toggleable__content\"><pre>KNeighborsClassifier(n_neighbors=4)</pre></div></div></div></div></div>"
      ],
      "text/plain": [
       "KNeighborsClassifier(n_neighbors=4)"
      ]
     },
     "execution_count": 13,
     "metadata": {},
     "output_type": "execute_result"
    }
   ],
   "source": [
    "KNN = KNeighborsClassifier(n_neighbors=4)\n",
    "KNN.fit(x_train, y_train)"
   ]
  },
  {
   "cell_type": "markdown",
   "id": "7825e4f3",
   "metadata": {
    "papermill": {
     "duration": 0.017608,
     "end_time": "2023-08-02T01:44:08.484622",
     "exception": false,
     "start_time": "2023-08-02T01:44:08.467014",
     "status": "completed"
    },
    "tags": []
   },
   "source": [
    "Using the `predict` method on the testing data (`x_test`) and save it to the array `predictions`.\n"
   ]
  },
  {
   "cell_type": "code",
   "execution_count": 14,
   "id": "1e6d84fc",
   "metadata": {
    "execution": {
     "iopub.execute_input": "2023-08-02T01:44:08.520352Z",
     "iopub.status.busy": "2023-08-02T01:44:08.519741Z",
     "iopub.status.idle": "2023-08-02T01:44:08.630155Z",
     "shell.execute_reply": "2023-08-02T01:44:08.628978Z"
    },
    "papermill": {
     "duration": 0.131695,
     "end_time": "2023-08-02T01:44:08.633003",
     "exception": false,
     "start_time": "2023-08-02T01:44:08.501308",
     "status": "completed"
    },
    "tags": []
   },
   "outputs": [],
   "source": [
    "predictions = KNN.predict(x_test)"
   ]
  },
  {
   "cell_type": "markdown",
   "id": "4a0a9f72",
   "metadata": {
    "papermill": {
     "duration": 0.016044,
     "end_time": "2023-08-02T01:44:08.665559",
     "exception": false,
     "start_time": "2023-08-02T01:44:08.649515",
     "status": "completed"
    },
    "tags": []
   },
   "source": [
    "Using the `predictions` and the `y_test` dataframe calculate the value for each metric using the appropriate function.\n"
   ]
  },
  {
   "cell_type": "code",
   "execution_count": 15,
   "id": "0d68d135",
   "metadata": {
    "execution": {
     "iopub.execute_input": "2023-08-02T01:44:08.701021Z",
     "iopub.status.busy": "2023-08-02T01:44:08.700582Z",
     "iopub.status.idle": "2023-08-02T01:44:08.716470Z",
     "shell.execute_reply": "2023-08-02T01:44:08.715267Z"
    },
    "papermill": {
     "duration": 0.036912,
     "end_time": "2023-08-02T01:44:08.719358",
     "exception": false,
     "start_time": "2023-08-02T01:44:08.682446",
     "status": "completed"
    },
    "tags": []
   },
   "outputs": [],
   "source": [
    "KNN_Accuracy_Score = metrics.accuracy_score(y_test, predictions)\n",
    "KNN_JaccardIndex = metrics.jaccard_score(y_test, predictions)\n",
    "KNN_F1_Score = metrics.f1_score(y_test, predictions)"
   ]
  },
  {
   "cell_type": "markdown",
   "id": "680c6358",
   "metadata": {
    "papermill": {
     "duration": 0.016687,
     "end_time": "2023-08-02T01:44:08.752770",
     "exception": false,
     "start_time": "2023-08-02T01:44:08.736083",
     "status": "completed"
    },
    "tags": []
   },
   "source": [
    "### Decision Tree\n"
   ]
  },
  {
   "cell_type": "markdown",
   "id": "184fc4d6",
   "metadata": {
    "papermill": {
     "duration": 0.016263,
     "end_time": "2023-08-02T01:44:08.785832",
     "exception": false,
     "start_time": "2023-08-02T01:44:08.769569",
     "status": "completed"
    },
    "tags": []
   },
   "source": [
    "Create and train a Decision Tree model called Tree using the training data (`x_train`, `y_train`).\n"
   ]
  },
  {
   "cell_type": "code",
   "execution_count": 16,
   "id": "88f7d220",
   "metadata": {
    "execution": {
     "iopub.execute_input": "2023-08-02T01:44:08.821326Z",
     "iopub.status.busy": "2023-08-02T01:44:08.820893Z",
     "iopub.status.idle": "2023-08-02T01:44:08.850009Z",
     "shell.execute_reply": "2023-08-02T01:44:08.849056Z"
    },
    "papermill": {
     "duration": 0.05009,
     "end_time": "2023-08-02T01:44:08.852571",
     "exception": false,
     "start_time": "2023-08-02T01:44:08.802481",
     "status": "completed"
    },
    "tags": []
   },
   "outputs": [
    {
     "data": {
      "text/html": [
       "<style>#sk-container-id-3 {color: black;background-color: white;}#sk-container-id-3 pre{padding: 0;}#sk-container-id-3 div.sk-toggleable {background-color: white;}#sk-container-id-3 label.sk-toggleable__label {cursor: pointer;display: block;width: 100%;margin-bottom: 0;padding: 0.3em;box-sizing: border-box;text-align: center;}#sk-container-id-3 label.sk-toggleable__label-arrow:before {content: \"▸\";float: left;margin-right: 0.25em;color: #696969;}#sk-container-id-3 label.sk-toggleable__label-arrow:hover:before {color: black;}#sk-container-id-3 div.sk-estimator:hover label.sk-toggleable__label-arrow:before {color: black;}#sk-container-id-3 div.sk-toggleable__content {max-height: 0;max-width: 0;overflow: hidden;text-align: left;background-color: #f0f8ff;}#sk-container-id-3 div.sk-toggleable__content pre {margin: 0.2em;color: black;border-radius: 0.25em;background-color: #f0f8ff;}#sk-container-id-3 input.sk-toggleable__control:checked~div.sk-toggleable__content {max-height: 200px;max-width: 100%;overflow: auto;}#sk-container-id-3 input.sk-toggleable__control:checked~label.sk-toggleable__label-arrow:before {content: \"▾\";}#sk-container-id-3 div.sk-estimator input.sk-toggleable__control:checked~label.sk-toggleable__label {background-color: #d4ebff;}#sk-container-id-3 div.sk-label input.sk-toggleable__control:checked~label.sk-toggleable__label {background-color: #d4ebff;}#sk-container-id-3 input.sk-hidden--visually {border: 0;clip: rect(1px 1px 1px 1px);clip: rect(1px, 1px, 1px, 1px);height: 1px;margin: -1px;overflow: hidden;padding: 0;position: absolute;width: 1px;}#sk-container-id-3 div.sk-estimator {font-family: monospace;background-color: #f0f8ff;border: 1px dotted black;border-radius: 0.25em;box-sizing: border-box;margin-bottom: 0.5em;}#sk-container-id-3 div.sk-estimator:hover {background-color: #d4ebff;}#sk-container-id-3 div.sk-parallel-item::after {content: \"\";width: 100%;border-bottom: 1px solid gray;flex-grow: 1;}#sk-container-id-3 div.sk-label:hover label.sk-toggleable__label {background-color: #d4ebff;}#sk-container-id-3 div.sk-serial::before {content: \"\";position: absolute;border-left: 1px solid gray;box-sizing: border-box;top: 0;bottom: 0;left: 50%;z-index: 0;}#sk-container-id-3 div.sk-serial {display: flex;flex-direction: column;align-items: center;background-color: white;padding-right: 0.2em;padding-left: 0.2em;position: relative;}#sk-container-id-3 div.sk-item {position: relative;z-index: 1;}#sk-container-id-3 div.sk-parallel {display: flex;align-items: stretch;justify-content: center;background-color: white;position: relative;}#sk-container-id-3 div.sk-item::before, #sk-container-id-3 div.sk-parallel-item::before {content: \"\";position: absolute;border-left: 1px solid gray;box-sizing: border-box;top: 0;bottom: 0;left: 50%;z-index: -1;}#sk-container-id-3 div.sk-parallel-item {display: flex;flex-direction: column;z-index: 1;position: relative;background-color: white;}#sk-container-id-3 div.sk-parallel-item:first-child::after {align-self: flex-end;width: 50%;}#sk-container-id-3 div.sk-parallel-item:last-child::after {align-self: flex-start;width: 50%;}#sk-container-id-3 div.sk-parallel-item:only-child::after {width: 0;}#sk-container-id-3 div.sk-dashed-wrapped {border: 1px dashed gray;margin: 0 0.4em 0.5em 0.4em;box-sizing: border-box;padding-bottom: 0.4em;background-color: white;}#sk-container-id-3 div.sk-label label {font-family: monospace;font-weight: bold;display: inline-block;line-height: 1.2em;}#sk-container-id-3 div.sk-label-container {text-align: center;}#sk-container-id-3 div.sk-container {/* jupyter's `normalize.less` sets `[hidden] { display: none; }` but bootstrap.min.css set `[hidden] { display: none !important; }` so we also need the `!important` here to be able to override the default hidden behavior on the sphinx rendered scikit-learn.org. See: https://github.com/scikit-learn/scikit-learn/issues/21755 */display: inline-block !important;position: relative;}#sk-container-id-3 div.sk-text-repr-fallback {display: none;}</style><div id=\"sk-container-id-3\" class=\"sk-top-container\"><div class=\"sk-text-repr-fallback\"><pre>DecisionTreeClassifier(criterion=&#x27;entropy&#x27;, max_depth=4)</pre><b>In a Jupyter environment, please rerun this cell to show the HTML representation or trust the notebook. <br />On GitHub, the HTML representation is unable to render, please try loading this page with nbviewer.org.</b></div><div class=\"sk-container\" hidden><div class=\"sk-item\"><div class=\"sk-estimator sk-toggleable\"><input class=\"sk-toggleable__control sk-hidden--visually\" id=\"sk-estimator-id-3\" type=\"checkbox\" checked><label for=\"sk-estimator-id-3\" class=\"sk-toggleable__label sk-toggleable__label-arrow\">DecisionTreeClassifier</label><div class=\"sk-toggleable__content\"><pre>DecisionTreeClassifier(criterion=&#x27;entropy&#x27;, max_depth=4)</pre></div></div></div></div></div>"
      ],
      "text/plain": [
       "DecisionTreeClassifier(criterion='entropy', max_depth=4)"
      ]
     },
     "execution_count": 16,
     "metadata": {},
     "output_type": "execute_result"
    }
   ],
   "source": [
    "Tree = DecisionTreeClassifier(criterion=\"entropy\", max_depth = 4)\n",
    "Tree.fit(x_train, y_train)"
   ]
  },
  {
   "cell_type": "markdown",
   "id": "b3616b8b",
   "metadata": {
    "papermill": {
     "duration": 0.017367,
     "end_time": "2023-08-02T01:44:08.887148",
     "exception": false,
     "start_time": "2023-08-02T01:44:08.869781",
     "status": "completed"
    },
    "tags": []
   },
   "source": [
    "Using the `predict` method on the testing data (`x_test`) and save it to the array `predictions`.\n"
   ]
  },
  {
   "cell_type": "code",
   "execution_count": 17,
   "id": "da02b332",
   "metadata": {
    "execution": {
     "iopub.execute_input": "2023-08-02T01:44:08.923842Z",
     "iopub.status.busy": "2023-08-02T01:44:08.923106Z",
     "iopub.status.idle": "2023-08-02T01:44:08.930974Z",
     "shell.execute_reply": "2023-08-02T01:44:08.930004Z"
    },
    "papermill": {
     "duration": 0.029101,
     "end_time": "2023-08-02T01:44:08.933678",
     "exception": false,
     "start_time": "2023-08-02T01:44:08.904577",
     "status": "completed"
    },
    "tags": []
   },
   "outputs": [],
   "source": [
    "predictions = Tree.predict(x_test)"
   ]
  },
  {
   "cell_type": "markdown",
   "id": "10d6136e",
   "metadata": {
    "papermill": {
     "duration": 0.016506,
     "end_time": "2023-08-02T01:44:08.967092",
     "exception": false,
     "start_time": "2023-08-02T01:44:08.950586",
     "status": "completed"
    },
    "tags": []
   },
   "source": [
    "Using the `predictions` and the `y_test` dataframe calculate the value for each metric using the appropriate function.\n"
   ]
  },
  {
   "cell_type": "code",
   "execution_count": 18,
   "id": "ad56d6ce",
   "metadata": {
    "execution": {
     "iopub.execute_input": "2023-08-02T01:44:09.002952Z",
     "iopub.status.busy": "2023-08-02T01:44:09.002522Z",
     "iopub.status.idle": "2023-08-02T01:44:09.015454Z",
     "shell.execute_reply": "2023-08-02T01:44:09.014279Z"
    },
    "papermill": {
     "duration": 0.034459,
     "end_time": "2023-08-02T01:44:09.018179",
     "exception": false,
     "start_time": "2023-08-02T01:44:08.983720",
     "status": "completed"
    },
    "tags": []
   },
   "outputs": [],
   "source": [
    "Tree_Accuracy_Score = metrics.accuracy_score(y_test, predictions)\n",
    "Tree_JaccardIndex = metrics.jaccard_score(y_test, predictions)\n",
    "Tree_F1_Score = metrics.f1_score(y_test, predictions)"
   ]
  },
  {
   "cell_type": "markdown",
   "id": "cc6ed6d7",
   "metadata": {
    "papermill": {
     "duration": 0.017292,
     "end_time": "2023-08-02T01:44:09.052981",
     "exception": false,
     "start_time": "2023-08-02T01:44:09.035689",
     "status": "completed"
    },
    "tags": []
   },
   "source": [
    "### Logistic Regression\n"
   ]
  },
  {
   "cell_type": "markdown",
   "id": "e4e84140",
   "metadata": {
    "papermill": {
     "duration": 0.016509,
     "end_time": "2023-08-02T01:44:09.086311",
     "exception": false,
     "start_time": "2023-08-02T01:44:09.069802",
     "status": "completed"
    },
    "tags": []
   },
   "source": [
    "Create and train a LogisticRegression model called LR using the training data (`x_train`, `y_train`) with the `solver` parameter set to `liblinear`.\n"
   ]
  },
  {
   "cell_type": "code",
   "execution_count": 19,
   "id": "834246c9",
   "metadata": {
    "execution": {
     "iopub.execute_input": "2023-08-02T01:44:09.124342Z",
     "iopub.status.busy": "2023-08-02T01:44:09.123059Z",
     "iopub.status.idle": "2023-08-02T01:44:09.175011Z",
     "shell.execute_reply": "2023-08-02T01:44:09.173036Z"
    },
    "papermill": {
     "duration": 0.073685,
     "end_time": "2023-08-02T01:44:09.177791",
     "exception": false,
     "start_time": "2023-08-02T01:44:09.104106",
     "status": "completed"
    },
    "tags": []
   },
   "outputs": [],
   "source": [
    "LR = LogisticRegression(C=0.01, solver='liblinear').fit(x_train,y_train)"
   ]
  },
  {
   "cell_type": "markdown",
   "id": "46ee7135",
   "metadata": {
    "papermill": {
     "duration": 0.016508,
     "end_time": "2023-08-02T01:44:09.211141",
     "exception": false,
     "start_time": "2023-08-02T01:44:09.194633",
     "status": "completed"
    },
    "tags": []
   },
   "source": [
    "Using the `predict` method on the testing data (`x_test`) and save it to the array `predictions`.\n"
   ]
  },
  {
   "cell_type": "code",
   "execution_count": 20,
   "id": "71133999",
   "metadata": {
    "execution": {
     "iopub.execute_input": "2023-08-02T01:44:09.246792Z",
     "iopub.status.busy": "2023-08-02T01:44:09.246321Z",
     "iopub.status.idle": "2023-08-02T01:44:09.259314Z",
     "shell.execute_reply": "2023-08-02T01:44:09.257147Z"
    },
    "papermill": {
     "duration": 0.036654,
     "end_time": "2023-08-02T01:44:09.264450",
     "exception": false,
     "start_time": "2023-08-02T01:44:09.227796",
     "status": "completed"
    },
    "tags": []
   },
   "outputs": [],
   "source": [
    "predictions = LR.predict(x_test)"
   ]
  },
  {
   "cell_type": "markdown",
   "id": "75d75d3f",
   "metadata": {
    "papermill": {
     "duration": 0.038391,
     "end_time": "2023-08-02T01:44:09.340903",
     "exception": false,
     "start_time": "2023-08-02T01:44:09.302512",
     "status": "completed"
    },
    "tags": []
   },
   "source": [
    "Using the `predictions` and the `y_test` dataframe calculate the value for each metric using the appropriate function.\n"
   ]
  },
  {
   "cell_type": "code",
   "execution_count": 21,
   "id": "0ccf89f5",
   "metadata": {
    "execution": {
     "iopub.execute_input": "2023-08-02T01:44:09.394208Z",
     "iopub.status.busy": "2023-08-02T01:44:09.393816Z",
     "iopub.status.idle": "2023-08-02T01:44:09.410169Z",
     "shell.execute_reply": "2023-08-02T01:44:09.409273Z"
    },
    "papermill": {
     "duration": 0.037488,
     "end_time": "2023-08-02T01:44:09.412821",
     "exception": false,
     "start_time": "2023-08-02T01:44:09.375333",
     "status": "completed"
    },
    "tags": []
   },
   "outputs": [],
   "source": [
    "LR_Accuracy_Score = metrics.accuracy_score(y_test, predictions)\n",
    "LR_JaccardIndex = metrics.jaccard_score(y_test, predictions)\n",
    "LR_F1_Score = metrics.f1_score(y_test, predictions)\n",
    "LR_Log_Loss = metrics.log_loss(y_test, predictions)"
   ]
  },
  {
   "cell_type": "markdown",
   "id": "d085b288",
   "metadata": {
    "papermill": {
     "duration": 0.016439,
     "end_time": "2023-08-02T01:44:09.445982",
     "exception": false,
     "start_time": "2023-08-02T01:44:09.429543",
     "status": "completed"
    },
    "tags": []
   },
   "source": [
    "### SVM\n"
   ]
  },
  {
   "cell_type": "markdown",
   "id": "3b1c3189",
   "metadata": {
    "papermill": {
     "duration": 0.016331,
     "end_time": "2023-08-02T01:44:09.479097",
     "exception": false,
     "start_time": "2023-08-02T01:44:09.462766",
     "status": "completed"
    },
    "tags": []
   },
   "source": [
    "Create and train a SVM model called SVM using the training data (`x_train`, `y_train`).\n"
   ]
  },
  {
   "cell_type": "code",
   "execution_count": 22,
   "id": "033136c7",
   "metadata": {
    "execution": {
     "iopub.execute_input": "2023-08-02T01:44:09.516178Z",
     "iopub.status.busy": "2023-08-02T01:44:09.515391Z",
     "iopub.status.idle": "2023-08-02T01:44:09.778307Z",
     "shell.execute_reply": "2023-08-02T01:44:09.777107Z"
    },
    "papermill": {
     "duration": 0.284199,
     "end_time": "2023-08-02T01:44:09.781012",
     "exception": false,
     "start_time": "2023-08-02T01:44:09.496813",
     "status": "completed"
    },
    "tags": []
   },
   "outputs": [
    {
     "data": {
      "text/html": [
       "<style>#sk-container-id-4 {color: black;background-color: white;}#sk-container-id-4 pre{padding: 0;}#sk-container-id-4 div.sk-toggleable {background-color: white;}#sk-container-id-4 label.sk-toggleable__label {cursor: pointer;display: block;width: 100%;margin-bottom: 0;padding: 0.3em;box-sizing: border-box;text-align: center;}#sk-container-id-4 label.sk-toggleable__label-arrow:before {content: \"▸\";float: left;margin-right: 0.25em;color: #696969;}#sk-container-id-4 label.sk-toggleable__label-arrow:hover:before {color: black;}#sk-container-id-4 div.sk-estimator:hover label.sk-toggleable__label-arrow:before {color: black;}#sk-container-id-4 div.sk-toggleable__content {max-height: 0;max-width: 0;overflow: hidden;text-align: left;background-color: #f0f8ff;}#sk-container-id-4 div.sk-toggleable__content pre {margin: 0.2em;color: black;border-radius: 0.25em;background-color: #f0f8ff;}#sk-container-id-4 input.sk-toggleable__control:checked~div.sk-toggleable__content {max-height: 200px;max-width: 100%;overflow: auto;}#sk-container-id-4 input.sk-toggleable__control:checked~label.sk-toggleable__label-arrow:before {content: \"▾\";}#sk-container-id-4 div.sk-estimator input.sk-toggleable__control:checked~label.sk-toggleable__label {background-color: #d4ebff;}#sk-container-id-4 div.sk-label input.sk-toggleable__control:checked~label.sk-toggleable__label {background-color: #d4ebff;}#sk-container-id-4 input.sk-hidden--visually {border: 0;clip: rect(1px 1px 1px 1px);clip: rect(1px, 1px, 1px, 1px);height: 1px;margin: -1px;overflow: hidden;padding: 0;position: absolute;width: 1px;}#sk-container-id-4 div.sk-estimator {font-family: monospace;background-color: #f0f8ff;border: 1px dotted black;border-radius: 0.25em;box-sizing: border-box;margin-bottom: 0.5em;}#sk-container-id-4 div.sk-estimator:hover {background-color: #d4ebff;}#sk-container-id-4 div.sk-parallel-item::after {content: \"\";width: 100%;border-bottom: 1px solid gray;flex-grow: 1;}#sk-container-id-4 div.sk-label:hover label.sk-toggleable__label {background-color: #d4ebff;}#sk-container-id-4 div.sk-serial::before {content: \"\";position: absolute;border-left: 1px solid gray;box-sizing: border-box;top: 0;bottom: 0;left: 50%;z-index: 0;}#sk-container-id-4 div.sk-serial {display: flex;flex-direction: column;align-items: center;background-color: white;padding-right: 0.2em;padding-left: 0.2em;position: relative;}#sk-container-id-4 div.sk-item {position: relative;z-index: 1;}#sk-container-id-4 div.sk-parallel {display: flex;align-items: stretch;justify-content: center;background-color: white;position: relative;}#sk-container-id-4 div.sk-item::before, #sk-container-id-4 div.sk-parallel-item::before {content: \"\";position: absolute;border-left: 1px solid gray;box-sizing: border-box;top: 0;bottom: 0;left: 50%;z-index: -1;}#sk-container-id-4 div.sk-parallel-item {display: flex;flex-direction: column;z-index: 1;position: relative;background-color: white;}#sk-container-id-4 div.sk-parallel-item:first-child::after {align-self: flex-end;width: 50%;}#sk-container-id-4 div.sk-parallel-item:last-child::after {align-self: flex-start;width: 50%;}#sk-container-id-4 div.sk-parallel-item:only-child::after {width: 0;}#sk-container-id-4 div.sk-dashed-wrapped {border: 1px dashed gray;margin: 0 0.4em 0.5em 0.4em;box-sizing: border-box;padding-bottom: 0.4em;background-color: white;}#sk-container-id-4 div.sk-label label {font-family: monospace;font-weight: bold;display: inline-block;line-height: 1.2em;}#sk-container-id-4 div.sk-label-container {text-align: center;}#sk-container-id-4 div.sk-container {/* jupyter's `normalize.less` sets `[hidden] { display: none; }` but bootstrap.min.css set `[hidden] { display: none !important; }` so we also need the `!important` here to be able to override the default hidden behavior on the sphinx rendered scikit-learn.org. See: https://github.com/scikit-learn/scikit-learn/issues/21755 */display: inline-block !important;position: relative;}#sk-container-id-4 div.sk-text-repr-fallback {display: none;}</style><div id=\"sk-container-id-4\" class=\"sk-top-container\"><div class=\"sk-text-repr-fallback\"><pre>SVC()</pre><b>In a Jupyter environment, please rerun this cell to show the HTML representation or trust the notebook. <br />On GitHub, the HTML representation is unable to render, please try loading this page with nbviewer.org.</b></div><div class=\"sk-container\" hidden><div class=\"sk-item\"><div class=\"sk-estimator sk-toggleable\"><input class=\"sk-toggleable__control sk-hidden--visually\" id=\"sk-estimator-id-4\" type=\"checkbox\" checked><label for=\"sk-estimator-id-4\" class=\"sk-toggleable__label sk-toggleable__label-arrow\">SVC</label><div class=\"sk-toggleable__content\"><pre>SVC()</pre></div></div></div></div></div>"
      ],
      "text/plain": [
       "SVC()"
      ]
     },
     "execution_count": 22,
     "metadata": {},
     "output_type": "execute_result"
    }
   ],
   "source": [
    "SVM = svm.SVC(kernel='rbf')\n",
    "SVM.fit(x_train, y_train)"
   ]
  },
  {
   "cell_type": "markdown",
   "id": "7988a651",
   "metadata": {
    "papermill": {
     "duration": 0.018614,
     "end_time": "2023-08-02T01:44:09.816645",
     "exception": false,
     "start_time": "2023-08-02T01:44:09.798031",
     "status": "completed"
    },
    "tags": []
   },
   "source": [
    "Using the `predict` method on the testing data (`x_test`) and save it to the array `predictions`.\n"
   ]
  },
  {
   "cell_type": "code",
   "execution_count": 23,
   "id": "f966ef0e",
   "metadata": {
    "execution": {
     "iopub.execute_input": "2023-08-02T01:44:09.853959Z",
     "iopub.status.busy": "2023-08-02T01:44:09.853563Z",
     "iopub.status.idle": "2023-08-02T01:44:09.942340Z",
     "shell.execute_reply": "2023-08-02T01:44:09.941100Z"
    },
    "papermill": {
     "duration": 0.11008,
     "end_time": "2023-08-02T01:44:09.945150",
     "exception": false,
     "start_time": "2023-08-02T01:44:09.835070",
     "status": "completed"
    },
    "tags": []
   },
   "outputs": [],
   "source": [
    "predictions = SVM.predict(x_test)"
   ]
  },
  {
   "cell_type": "markdown",
   "id": "23b6ef50",
   "metadata": {
    "papermill": {
     "duration": 0.017077,
     "end_time": "2023-08-02T01:44:09.980184",
     "exception": false,
     "start_time": "2023-08-02T01:44:09.963107",
     "status": "completed"
    },
    "tags": []
   },
   "source": [
    "Using the `predictions` and the `y_test` dataframe calculate the value for each metric using the appropriate function."
   ]
  },
  {
   "cell_type": "code",
   "execution_count": 24,
   "id": "5df6bed5",
   "metadata": {
    "execution": {
     "iopub.execute_input": "2023-08-02T01:44:10.018701Z",
     "iopub.status.busy": "2023-08-02T01:44:10.017640Z",
     "iopub.status.idle": "2023-08-02T01:44:10.029392Z",
     "shell.execute_reply": "2023-08-02T01:44:10.028352Z"
    },
    "papermill": {
     "duration": 0.033493,
     "end_time": "2023-08-02T01:44:10.032168",
     "exception": false,
     "start_time": "2023-08-02T01:44:09.998675",
     "status": "completed"
    },
    "tags": []
   },
   "outputs": [],
   "source": [
    "SVM_Accuracy_Score = metrics.accuracy_score(y_test, predictions)\n",
    "SVM_JaccardIndex = metrics.jaccard_score(y_test, predictions)\n",
    "SVM_F1_Score = metrics.f1_score(y_test, predictions)"
   ]
  },
  {
   "cell_type": "markdown",
   "id": "8ce39f21",
   "metadata": {
    "papermill": {
     "duration": 0.016796,
     "end_time": "2023-08-02T01:44:10.066008",
     "exception": false,
     "start_time": "2023-08-02T01:44:10.049212",
     "status": "completed"
    },
    "tags": []
   },
   "source": [
    "# Evaluation Report\n"
   ]
  },
  {
   "cell_type": "markdown",
   "id": "cc824264",
   "metadata": {
    "papermill": {
     "duration": 0.017315,
     "end_time": "2023-08-02T01:44:10.100410",
     "exception": false,
     "start_time": "2023-08-02T01:44:10.083095",
     "status": "completed"
    },
    "tags": []
   },
   "source": [
    "Show the Accuracy,Jaccard Index,F1-Score and LogLoss in a tabular format using data frame for all of the above models.\n",
    "\n",
    "\\*LogLoss is only for Logistic Regression Model\n",
    "\n",
    "\\*MAE, MSE, and R2 is only for Linear Regression"
   ]
  },
  {
   "cell_type": "code",
   "execution_count": 25,
   "id": "8ec8eb67",
   "metadata": {
    "execution": {
     "iopub.execute_input": "2023-08-02T01:44:10.136929Z",
     "iopub.status.busy": "2023-08-02T01:44:10.136515Z",
     "iopub.status.idle": "2023-08-02T01:44:10.156153Z",
     "shell.execute_reply": "2023-08-02T01:44:10.155007Z"
    },
    "papermill": {
     "duration": 0.040991,
     "end_time": "2023-08-02T01:44:10.158564",
     "exception": false,
     "start_time": "2023-08-02T01:44:10.117573",
     "status": "completed"
    },
    "tags": []
   },
   "outputs": [
    {
     "data": {
      "text/html": [
       "<div>\n",
       "<style scoped>\n",
       "    .dataframe tbody tr th:only-of-type {\n",
       "        vertical-align: middle;\n",
       "    }\n",
       "\n",
       "    .dataframe tbody tr th {\n",
       "        vertical-align: top;\n",
       "    }\n",
       "\n",
       "    .dataframe thead th {\n",
       "        text-align: right;\n",
       "    }\n",
       "</style>\n",
       "<table border=\"1\" class=\"dataframe\">\n",
       "  <thead>\n",
       "    <tr style=\"text-align: right;\">\n",
       "      <th></th>\n",
       "      <th>Model</th>\n",
       "      <th>Accuracy Score</th>\n",
       "      <th>Jaccard Index</th>\n",
       "      <th>F1 Score</th>\n",
       "      <th>Log Loss</th>\n",
       "      <th>MAE</th>\n",
       "      <th>MSE</th>\n",
       "      <th>R2</th>\n",
       "    </tr>\n",
       "  </thead>\n",
       "  <tbody>\n",
       "    <tr>\n",
       "      <th>0</th>\n",
       "      <td>Linear Regression</td>\n",
       "      <td>NA</td>\n",
       "      <td>NA</td>\n",
       "      <td>NA</td>\n",
       "      <td>NA</td>\n",
       "      <td>0.256318</td>\n",
       "      <td>0.115721</td>\n",
       "      <td>0.427132</td>\n",
       "    </tr>\n",
       "    <tr>\n",
       "      <th>1</th>\n",
       "      <td>KNN</td>\n",
       "      <td>0.818321</td>\n",
       "      <td>0.425121</td>\n",
       "      <td>0.59661</td>\n",
       "      <td>NA</td>\n",
       "      <td>NA</td>\n",
       "      <td>NA</td>\n",
       "      <td>NA</td>\n",
       "    </tr>\n",
       "    <tr>\n",
       "      <th>2</th>\n",
       "      <td>Decision Tree</td>\n",
       "      <td>0.818321</td>\n",
       "      <td>0.480349</td>\n",
       "      <td>0.648968</td>\n",
       "      <td>NA</td>\n",
       "      <td>NA</td>\n",
       "      <td>NA</td>\n",
       "      <td>NA</td>\n",
       "    </tr>\n",
       "    <tr>\n",
       "      <th>3</th>\n",
       "      <td>SVM</td>\n",
       "      <td>0.719084</td>\n",
       "      <td>0.0</td>\n",
       "      <td>0.0</td>\n",
       "      <td>NA</td>\n",
       "      <td>NA</td>\n",
       "      <td>NA</td>\n",
       "      <td>NA</td>\n",
       "    </tr>\n",
       "    <tr>\n",
       "      <th>4</th>\n",
       "      <td>Logistic Regression</td>\n",
       "      <td>0.842748</td>\n",
       "      <td>0.52093</td>\n",
       "      <td>0.685015</td>\n",
       "      <td>5.667933</td>\n",
       "      <td>NA</td>\n",
       "      <td>NA</td>\n",
       "      <td>NA</td>\n",
       "    </tr>\n",
       "  </tbody>\n",
       "</table>\n",
       "</div>"
      ],
      "text/plain": [
       "                 Model Accuracy Score Jaccard Index  F1 Score  Log Loss  \\\n",
       "0    Linear Regression             NA            NA        NA        NA   \n",
       "1                  KNN       0.818321      0.425121   0.59661        NA   \n",
       "2        Decision Tree       0.818321      0.480349  0.648968        NA   \n",
       "3                  SVM       0.719084           0.0       0.0        NA   \n",
       "4  Logistic Regression       0.842748       0.52093  0.685015  5.667933   \n",
       "\n",
       "        MAE       MSE        R2  \n",
       "0  0.256318  0.115721  0.427132  \n",
       "1        NA        NA        NA  \n",
       "2        NA        NA        NA  \n",
       "3        NA        NA        NA  \n",
       "4        NA        NA        NA  "
      ]
     },
     "execution_count": 25,
     "metadata": {},
     "output_type": "execute_result"
    }
   ],
   "source": [
    "Report = pd.DataFrame({'Model': ['Linear Regression','KNN', 'Decision Tree', 'SVM', 'Logistic Regression'],\n",
    "                        'Accuracy Score': ['NA',KNN_Accuracy_Score, Tree_Accuracy_Score, SVM_Accuracy_Score, LR_Accuracy_Score],\n",
    "                        'Jaccard Index': ['NA',KNN_JaccardIndex, Tree_JaccardIndex, SVM_JaccardIndex, LR_JaccardIndex],\n",
    "                        'F1 Score': ['NA',KNN_F1_Score, Tree_F1_Score, SVM_F1_Score, LR_F1_Score],\n",
    "                        'Log Loss': ['NA','NA', 'NA', 'NA', LR_Log_Loss],\n",
    "                        'MAE':[LinearRegression_MAE,'NA','NA', 'NA', 'NA'],\n",
    "                        'MSE':[LinearRegression_MSE,'NA','NA', 'NA', 'NA'],\n",
    "                        'R2':[LinearRegression_R2,'NA','NA', 'NA', 'NA'],})\n",
    "Report"
   ]
  },
  {
   "cell_type": "markdown",
   "id": "54af7462",
   "metadata": {
    "papermill": {
     "duration": 0.017448,
     "end_time": "2023-08-02T01:44:10.193121",
     "exception": false,
     "start_time": "2023-08-02T01:44:10.175673",
     "status": "completed"
    },
    "tags": []
   },
   "source": [
    "Authors: <a href=\"https://www.linkedin.com/in/joseph-s-50398b136/?utm_medium=Exinfluencer&utm_source=Exinfluencer&utm_content=000026UJ&utm_term=10006555&utm_id=NA-SkillsNetwork-Channel-SkillsNetworkCoursesIBMDeveloperSkillsNetworkML0101ENSkillsNetwork20718538-2022-01-01\">Joseph Santarcangelo</a>\n",
    "\n",
    "Other Contributors: <a href=\"https://www.linkedin.com/in/birlahimanshu/?utm_medium=Exinfluencer&utm_source=Exinfluencer&utm_content=000026UJ&utm_term=10006555&utm_id=NA-SkillsNetwork-Channel-SkillsNetworkCoursesIBMDeveloperSkillsNetworkML0101ENSkillsNetwork20718538-2022-01-01\">Himanshu Birla</a>"
   ]
  },
  {
   "cell_type": "markdown",
   "id": "dfbe4c1b",
   "metadata": {
    "papermill": {
     "duration": 0.017844,
     "end_time": "2023-08-02T01:44:10.229173",
     "exception": false,
     "start_time": "2023-08-02T01:44:10.211329",
     "status": "completed"
    },
    "tags": []
   },
   "source": [
    "## <h3 align=\"center\"> © IBM Corporation 2020. All rights reserved. <h3/>"
   ]
  }
 ],
 "metadata": {
  "kernelspec": {
   "display_name": "Python 3",
   "language": "python",
   "name": "python3"
  },
  "language_info": {
   "codemirror_mode": {
    "name": "ipython",
    "version": 3
   },
   "file_extension": ".py",
   "mimetype": "text/x-python",
   "name": "python",
   "nbconvert_exporter": "python",
   "pygments_lexer": "ipython3",
   "version": "3.10.12"
  },
  "papermill": {
   "default_parameters": {},
   "duration": 22.382741,
   "end_time": "2023-08-02T01:44:11.270853",
   "environment_variables": {},
   "exception": null,
   "input_path": "__notebook__.ipynb",
   "output_path": "__notebook__.ipynb",
   "parameters": {},
   "start_time": "2023-08-02T01:43:48.888112",
   "version": "2.4.0"
  }
 },
 "nbformat": 4,
 "nbformat_minor": 5
}
